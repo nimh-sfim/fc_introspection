{
 "cells": [
  {
   "cell_type": "markdown",
   "id": "1fbb2de9-520d-4355-8380-03f062593c60",
   "metadata": {},
   "source": [
    "# Description - Extract Representative ROI Timseries\n",
    "\n",
    "This notebook contians the code to extract representative timeseries for the two different atlas prepared in the previous notebook\n",
    "\n",
    "We rely on AFNI's program [```3dNetCorr```](https://afni.nimh.nih.gov/pub/dist/doc/program_help/3dNetCorr.html) to extract the represenative timeseries. This second step will be done via a swarm job."
   ]
  },
  {
   "cell_type": "code",
   "execution_count": 1,
   "id": "9982f56e-8948-4198-a1fd-c3e24dcb1b4c",
   "metadata": {},
   "outputs": [],
   "source": [
    "import subprocess\n",
    "import getpass\n",
    "import os\n",
    "import pandas as pd\n",
    "from datetime import datetime\n",
    "from shutil import rmtree\n",
    "from utils.basics import CORTICAL_400ROI_ATLAS_PATH, CORTICAL_400ROI_ATLAS_NAME, SUBCORTICAL_ATLAS_PATH, SUBCORTICAL_ATLAS_NAME, FB_400ROI_ATLAS_NAME, FB_400ROI_ATLAS_PATH\n",
    "from utils.basics import DATA_DIR, PRJ_DIR, SCRIPTS_DIR, ATLASES_DIR\n",
    "from utils.basics import get_sbj_scan_list\n",
    "import os.path as osp"
   ]
  },
  {
   "cell_type": "code",
   "execution_count": 7,
   "id": "46bf5d51-a03c-4c7c-a3d4-fb72bd1e04c3",
   "metadata": {},
   "outputs": [],
   "source": [
    "#CORTICAL_ATLAS_NAME = CORTICAL_400ROI_ATLAS_NAME\n",
    "#CORTICAL_ATLAS_PATH = CORTICAL_400ROI_ATLAS_PATH\n",
    "ATLAS_NAME       = FB_400ROI_ATLAS_NAME\n",
    "ATLAS_PATH       = FB_400ROI_ATLAS_PATH"
   ]
  },
  {
   "cell_type": "markdown",
   "id": "7663d4b5-a522-428a-8f33-8d64adc8e83f",
   "metadata": {},
   "source": [
    "***\n",
    "1. Retrieve user ID"
   ]
  },
  {
   "cell_type": "code",
   "execution_count": 3,
   "id": "f1d24e5c-712f-4e4f-8360-4d1e133dcee2",
   "metadata": {},
   "outputs": [
    {
     "name": "stdout",
     "output_type": "stream",
     "text": [
      "++ INFO: user working now --> javiergc\n"
     ]
    }
   ],
   "source": [
    "username = getpass.getuser()\n",
    "print('++ INFO: user working now --> %s' % username)"
   ]
  },
  {
   "cell_type": "markdown",
   "id": "092f9ee3-5287-4b55-a8f1-5f794b6f6495",
   "metadata": {},
   "source": [
    "2. Load list of scans that passed all QAs"
   ]
  },
  {
   "cell_type": "code",
   "execution_count": 4,
   "id": "36f502a6-ed7b-4d58-a4aa-cd59275ad0f6",
   "metadata": {},
   "outputs": [
    {
     "name": "stdout",
     "output_type": "stream",
     "text": [
      "++ [post_motion] Number of subjects: 133 subjects\n",
      "++ [post_motion] Number of scans:    471 scans\n"
     ]
    }
   ],
   "source": [
    "sbj_list, scan_list, SNYCQ_data = get_sbj_scan_list('post_motion')"
   ]
  },
  {
   "cell_type": "markdown",
   "id": "682b680f-a052-47a8-9162-2fb539b59702",
   "metadata": {
    "tags": []
   },
   "source": [
    "3. Create output folder for static FC matrices"
   ]
  },
  {
   "cell_type": "code",
   "execution_count": 5,
   "id": "620e0f54-36cb-40b4-9263-1f603ce7e469",
   "metadata": {},
   "outputs": [],
   "source": [
    "for sbj in sbj_list:\n",
    "    output_path = osp.join(DATA_DIR,'PrcsData',sbj,'preprocessed','func','pb06_staticFC')\n",
    "    if not osp.exists(output_path):\n",
    "        os.makedirs(output_path)"
   ]
  },
  {
   "cell_type": "markdown",
   "id": "8db48b2f-43a4-4da7-ab21-c2dad79487d5",
   "metadata": {},
   "source": [
    "4. Create Swarm jobs"
   ]
  },
  {
   "cell_type": "code",
   "execution_count": 8,
   "id": "45ec4ec0-f10e-40a7-aa78-c4daa602cdf7",
   "metadata": {},
   "outputs": [],
   "source": [
    "#user specific folders\n",
    "#=====================\n",
    "swarm_folder   = osp.join(PRJ_DIR,f'SwarmFiles.{username}','S08')\n",
    "logs_folder    = osp.join(PRJ_DIR,f'Logs.{username}','S08')\n",
    "\n",
    "swarm_path     = osp.join(swarm_folder,f'S08_Extract_ROI_ts_{ATLAS_NAME}.SWARM.sh')\n",
    "logdir_path    = osp.join(logs_folder, f'S08_Extract_ROI_ts_{ATLAS_NAME}.logs')"
   ]
  },
  {
   "cell_type": "code",
   "execution_count": 9,
   "id": "74e044af-6267-47c8-8930-faf507b24797",
   "metadata": {},
   "outputs": [
    {
     "name": "stdout",
     "output_type": "stream",
     "text": [
      "++ INFO: New folder for swarm files created [/data/SFIMJGC_Introspec/2023_fc_introspection/SwarmFiles.javiergc/S08]\n",
      "++ INFO: New folder for log files created [/data/SFIMJGC_Introspec/2023_fc_introspection/Logs.javiergc/S08/S08_Extract_ROI_ts_Schaefer2018_400Parcels_7Networks_AAL2.logs]\n"
     ]
    }
   ],
   "source": [
    "# create user specific folders if needed\n",
    "# ======================================\n",
    "if not osp.exists(swarm_folder):\n",
    "    os.makedirs(swarm_folder)\n",
    "    print('++ INFO: New folder for swarm files created [%s]' % swarm_folder)\n",
    "if not osp.exists(logdir_path):\n",
    "    os.makedirs(logdir_path)\n",
    "    print('++ INFO: New folder for log files created [%s]' % logdir_path)"
   ]
  },
  {
   "cell_type": "code",
   "execution_count": 10,
   "id": "0db76dd4-bd3d-4bed-af9f-35ff1c06e761",
   "metadata": {
    "lines_to_next_cell": 0
   },
   "outputs": [],
   "source": [
    "# Open the file\n",
    "swarm_file = open(swarm_path, \"w\")\n",
    "# Log the date and time when the SWARM file is created\n",
    "swarm_file.write('#Create Time: %s' % datetime.now().strftime(\"%d/%m/%Y %H:%M:%S\"))\n",
    "swarm_file.write('\\n')\n",
    "# Insert comment line with SWARM command\n",
    "swarm_file.write('#swarm -f {swarm_path} -g 32 -t 32 --partition quick,norm --logdir {logdir_path}'.format(swarm_path=swarm_path,logdir_path=logdir_path))\n",
    "swarm_file.write('\\n')\n",
    "\n",
    "# Insert one line per subject\n",
    "for sbj,run in scan_list:\n",
    "    run = run[-2:] + \"_\" + run[12:18]\n",
    "    swarm_file.write(f\"export SBJ={sbj} RUN={run}; sh {SCRIPTS_DIR}/S08_ExtractROIts.sh {ATLAS_NAME} \\n\")\n",
    "swarm_file.close()"
   ]
  },
  {
   "cell_type": "code",
   "execution_count": 11,
   "id": "37d6c22f-51d5-4f7c-b22a-009c604d9344",
   "metadata": {},
   "outputs": [
    {
     "name": "stdout",
     "output_type": "stream",
     "text": [
      "/data/SFIMJGC_Introspec/2023_fc_introspection/SwarmFiles.javiergc/S08/S08_Extract_ROI_ts_Schaefer2018_400Parcels_7Networks_AAL2.SWARM.sh\n"
     ]
    }
   ],
   "source": [
    "print(swarm_path)"
   ]
  },
  {
   "cell_type": "code",
   "execution_count": 21,
   "id": "2d358e8d-865f-4325-9916-2c623db55252",
   "metadata": {},
   "outputs": [
    {
     "data": {
      "text/plain": [
       "['Positive',\n",
       " 'Intrusive',\n",
       " 'Vigilance',\n",
       " 'Specific',\n",
       " 'Words',\n",
       " 'Past',\n",
       " 'People',\n",
       " 'Images',\n",
       " 'Surroundings',\n",
       " 'Myself',\n",
       " 'Negative',\n",
       " 'Future']"
      ]
     },
     "execution_count": 21,
     "metadata": {},
     "output_type": "execute_result"
    }
   ],
   "source": [
    "next(os.walk('/data/SFIMJGC_Introspec/2023_fc_introspection/code/fc_introspection/resources/cpm/swarm_outputs/real/Schaefer2018_200Parcels_7Networks_AAL2/subject_aware/conf_not_residualized/spearman_sum/'))[1]"
   ]
  },
  {
   "cell_type": "code",
   "execution_count": null,
   "id": "a324093d-e1ab-44e1-be7c-632e5ba7318a",
   "metadata": {},
   "outputs": [],
   "source": []
  }
 ],
 "metadata": {
  "jupytext": {
   "formats": "ipynb,py:light"
  },
  "kernelspec": {
   "display_name": "FC Introspection (Jan 2023)",
   "language": "python",
   "name": "fc_introspection"
  },
  "language_info": {
   "codemirror_mode": {
    "name": "ipython",
    "version": 3
   },
   "file_extension": ".py",
   "mimetype": "text/x-python",
   "name": "python",
   "nbconvert_exporter": "python",
   "pygments_lexer": "ipython3",
   "version": "3.7.16"
  },
  "toc-autonumbering": false,
  "toc-showmarkdowntxt": false
 },
 "nbformat": 4,
 "nbformat_minor": 5
}
