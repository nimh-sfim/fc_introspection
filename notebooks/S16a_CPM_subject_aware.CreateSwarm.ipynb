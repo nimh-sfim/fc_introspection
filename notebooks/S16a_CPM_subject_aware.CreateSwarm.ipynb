{
 "cells": [
  {
   "cell_type": "markdown",
   "id": "071acdca-7071-40d1-875d-4ad544592fa2",
   "metadata": {},
   "source": [
    "# Description\n",
    "\n",
    "This notebook create the swarm jobs to run CPM on 100 iterations over the real data and 10,000 iterations over randomized data. \n",
    "\n",
    "This happens separately for each question in the SNYCQ"
   ]
  },
  {
   "cell_type": "code",
   "execution_count": 14,
   "id": "4bcc2d9b-ddb4-4d2c-a2ad-90d794cc907e",
   "metadata": {},
   "outputs": [],
   "source": [
    "import os.path as osp\n",
    "import os\n",
    "from datetime import datetime\n",
    "import getpass\n",
    "from utils.basics import get_sbj_scan_list\n",
    "from utils.basics import PRJ_DIR, SCRIPTS_DIR, RESOURCES_CPM_DIR, DATA_DIR, RESOURCES_DINFO_DIR, FB_400ROI_ATLAS_NAME, FB_200ROI_ATLAS_NAME, ATLASES_DIR\n",
    "#from cpm.cpm import read_fc_matrices\n",
    "from utils.io import read_fc_matrices\n",
    "import numpy as np\n",
    "import pandas as pd\n",
    "import hvplot.pandas"
   ]
  },
  {
   "cell_type": "code",
   "execution_count": 2,
   "id": "bcd15404-9a55-4b34-9221-87f21f52a262",
   "metadata": {},
   "outputs": [],
   "source": [
    "CPM_NITERATIONS      = 100             # Number of iterations on real data (to evaluate robustness against fold generation)\n",
    "CPM_NULL_NITERATIONS = 10000           # Number of iterations used to build a null distribution\n",
    "CORR_TYPE            = 'pearson'       # Correlation type to use on the edge-selection step\n",
    "E_SUMMARY_METRIC     = 'sum'           # How to summarize across selected edges on the final model\n",
    "E_THR_P              = 0.01            # Threshold used on the edge-selection step\n",
    "E_THR_R              = None\n",
    "SPLIT_MODE           = 'subject_aware' # Split mode for cross validation\n",
    "MODEL_TYPE           = CORR_TYPE+'_'+E_SUMMARY_METRIC\n",
    "CONFOUNDS            = 'conf_residualized' # Options: conf_residualized, conf_not_residualized\n",
    "ATLAS_NAME           = FB_400ROI_ATLAS_NAME"
   ]
  },
  {
   "cell_type": "code",
   "execution_count": 3,
   "id": "8a8eb8a0-2ac7-4516-8400-b48c861a0cfe",
   "metadata": {},
   "outputs": [
    {
     "name": "stdout",
     "output_type": "stream",
     "text": [
      "++ INFO: user working now --> javiergc\n"
     ]
    }
   ],
   "source": [
    "username = getpass.getuser()\n",
    "print('++ INFO: user working now --> %s' % username)"
   ]
  },
  {
   "cell_type": "markdown",
   "id": "465303a4-c8f7-4147-b0e3-6e8eccaee8ab",
   "metadata": {},
   "source": [
    "***\n",
    "\n",
    "# 1. CPM taking into account subject identity in the cross-validation splits\n",
    "\n",
    "## 1.1. Prepare Inputs and Folders\n",
    "\n",
    "1. Create resources folder for CPM analyses"
   ]
  },
  {
   "cell_type": "code",
   "execution_count": 4,
   "id": "4c327420-23c7-48f0-b97d-c70f905b12c5",
   "metadata": {},
   "outputs": [
    {
     "name": "stdout",
     "output_type": "stream",
     "text": [
      "++INFO: CPM Output folder /data/SFIMJGC_Introspec/2023_fc_introspection/code/fc_introspection/resources/cpm\n"
     ]
    }
   ],
   "source": [
    "print('++INFO: CPM Output folder %s' % RESOURCES_CPM_DIR)\n",
    "if not osp.exists(RESOURCES_CPM_DIR):\n",
    "    print('++ INFO: Creating resources folder for CPM analyses [%s]' % RESOURCES_CPM_DIR)\n",
    "    os.makedirs(RESOURCES_CPM_DIR)"
   ]
  },
  {
   "cell_type": "markdown",
   "id": "4e6462b2-8e83-4de9-9dff-0b51d306e7c2",
   "metadata": {},
   "source": [
    "2. Load list of scans that passed all QAs"
   ]
  },
  {
   "cell_type": "code",
   "execution_count": 5,
   "id": "48cec79a-46d8-4793-9704-85ef4a9b4318",
   "metadata": {},
   "outputs": [
    {
     "name": "stdout",
     "output_type": "stream",
     "text": [
      "++ [post_motion] Number of subjects: 133 subjects\n",
      "++ [post_motion] Number of scans:    471 scans\n"
     ]
    }
   ],
   "source": [
    "sbj_list, scan_list, snycq_df = get_sbj_scan_list(when='post_motion', return_snycq=True)"
   ]
  },
  {
   "cell_type": "markdown",
   "id": "272e6c11-09ed-4de3-b0f7-38f1f5f74277",
   "metadata": {},
   "source": [
    "3. Add Factors"
   ]
  },
  {
   "cell_type": "code",
   "execution_count": 6,
   "id": "ed3e30d9-a457-44f5-b0cf-8c193c3586d8",
   "metadata": {},
   "outputs": [],
   "source": [
    "factorization_path = './mlt/output/factorization/factorization_fulldata_confound.npz'\n",
    "factorization_results = np.load(factorization_path)\n",
    "W = pd.DataFrame(factorization_results['W'],index=snycq_df.index, columns=['Factor1', 'Factor2'])"
   ]
  },
  {
   "cell_type": "code",
   "execution_count": 7,
   "id": "21683405-4b2b-48e6-9d6d-31e3b45a7167",
   "metadata": {},
   "outputs": [
    {
     "data": {
      "text/html": [
       "<div>\n",
       "<style scoped>\n",
       "    .dataframe tbody tr th:only-of-type {\n",
       "        vertical-align: middle;\n",
       "    }\n",
       "\n",
       "    .dataframe tbody tr th {\n",
       "        vertical-align: top;\n",
       "    }\n",
       "\n",
       "    .dataframe thead th {\n",
       "        text-align: right;\n",
       "    }\n",
       "</style>\n",
       "<table border=\"1\" class=\"dataframe\">\n",
       "  <thead>\n",
       "    <tr style=\"text-align: right;\">\n",
       "      <th></th>\n",
       "      <th></th>\n",
       "      <th>Positive</th>\n",
       "      <th>Negative</th>\n",
       "      <th>Future</th>\n",
       "      <th>Past</th>\n",
       "      <th>Myself</th>\n",
       "      <th>People</th>\n",
       "      <th>Surroundings</th>\n",
       "      <th>Vigilance</th>\n",
       "      <th>Images</th>\n",
       "      <th>Words</th>\n",
       "      <th>Specific</th>\n",
       "      <th>Intrusive</th>\n",
       "      <th>Factor1</th>\n",
       "      <th>Factor2</th>\n",
       "    </tr>\n",
       "    <tr>\n",
       "      <th>Subject</th>\n",
       "      <th>Run</th>\n",
       "      <th></th>\n",
       "      <th></th>\n",
       "      <th></th>\n",
       "      <th></th>\n",
       "      <th></th>\n",
       "      <th></th>\n",
       "      <th></th>\n",
       "      <th></th>\n",
       "      <th></th>\n",
       "      <th></th>\n",
       "      <th></th>\n",
       "      <th></th>\n",
       "      <th></th>\n",
       "      <th></th>\n",
       "    </tr>\n",
       "  </thead>\n",
       "  <tbody>\n",
       "    <tr>\n",
       "      <th rowspan=\"4\" valign=\"top\">sub-010014</th>\n",
       "      <th>post-ses-02-run-01-acq-AP</th>\n",
       "      <td>80.0</td>\n",
       "      <td>15.0</td>\n",
       "      <td>50.0</td>\n",
       "      <td>55.0</td>\n",
       "      <td>30.0</td>\n",
       "      <td>65.0</td>\n",
       "      <td>55.0</td>\n",
       "      <td>45.0</td>\n",
       "      <td>95.0</td>\n",
       "      <td>90.0</td>\n",
       "      <td>25.0</td>\n",
       "      <td>30.0</td>\n",
       "      <td>0.810806</td>\n",
       "      <td>0.585024</td>\n",
       "    </tr>\n",
       "    <tr>\n",
       "      <th>post-ses-02-run-01-acq-PA</th>\n",
       "      <td>60.0</td>\n",
       "      <td>10.0</td>\n",
       "      <td>75.0</td>\n",
       "      <td>70.0</td>\n",
       "      <td>65.0</td>\n",
       "      <td>65.0</td>\n",
       "      <td>80.0</td>\n",
       "      <td>40.0</td>\n",
       "      <td>95.0</td>\n",
       "      <td>85.0</td>\n",
       "      <td>25.0</td>\n",
       "      <td>55.0</td>\n",
       "      <td>0.831075</td>\n",
       "      <td>0.856595</td>\n",
       "    </tr>\n",
       "    <tr>\n",
       "      <th>post-ses-02-run-02-acq-AP</th>\n",
       "      <td>55.0</td>\n",
       "      <td>60.0</td>\n",
       "      <td>65.0</td>\n",
       "      <td>40.0</td>\n",
       "      <td>50.0</td>\n",
       "      <td>60.0</td>\n",
       "      <td>65.0</td>\n",
       "      <td>40.0</td>\n",
       "      <td>75.0</td>\n",
       "      <td>85.0</td>\n",
       "      <td>30.0</td>\n",
       "      <td>60.0</td>\n",
       "      <td>0.681932</td>\n",
       "      <td>0.942390</td>\n",
       "    </tr>\n",
       "    <tr>\n",
       "      <th>post-ses-02-run-02-acq-PA</th>\n",
       "      <td>40.0</td>\n",
       "      <td>55.0</td>\n",
       "      <td>95.0</td>\n",
       "      <td>5.0</td>\n",
       "      <td>55.0</td>\n",
       "      <td>60.0</td>\n",
       "      <td>60.0</td>\n",
       "      <td>40.0</td>\n",
       "      <td>80.0</td>\n",
       "      <td>90.0</td>\n",
       "      <td>30.0</td>\n",
       "      <td>55.0</td>\n",
       "      <td>0.658201</td>\n",
       "      <td>0.915976</td>\n",
       "    </tr>\n",
       "    <tr>\n",
       "      <th>sub-010080</th>\n",
       "      <th>post-ses-02-run-02-acq-AP</th>\n",
       "      <td>75.0</td>\n",
       "      <td>20.0</td>\n",
       "      <td>50.0</td>\n",
       "      <td>30.0</td>\n",
       "      <td>35.0</td>\n",
       "      <td>70.0</td>\n",
       "      <td>75.0</td>\n",
       "      <td>15.0</td>\n",
       "      <td>70.0</td>\n",
       "      <td>50.0</td>\n",
       "      <td>40.0</td>\n",
       "      <td>10.0</td>\n",
       "      <td>0.718089</td>\n",
       "      <td>0.550179</td>\n",
       "    </tr>\n",
       "  </tbody>\n",
       "</table>\n",
       "</div>"
      ],
      "text/plain": [
       "                                      Positive  Negative  Future  Past  \\\n",
       "Subject    Run                                                           \n",
       "sub-010014 post-ses-02-run-01-acq-AP      80.0      15.0    50.0  55.0   \n",
       "           post-ses-02-run-01-acq-PA      60.0      10.0    75.0  70.0   \n",
       "           post-ses-02-run-02-acq-AP      55.0      60.0    65.0  40.0   \n",
       "           post-ses-02-run-02-acq-PA      40.0      55.0    95.0   5.0   \n",
       "sub-010080 post-ses-02-run-02-acq-AP      75.0      20.0    50.0  30.0   \n",
       "\n",
       "                                      Myself  People  Surroundings  Vigilance  \\\n",
       "Subject    Run                                                                  \n",
       "sub-010014 post-ses-02-run-01-acq-AP    30.0    65.0          55.0       45.0   \n",
       "           post-ses-02-run-01-acq-PA    65.0    65.0          80.0       40.0   \n",
       "           post-ses-02-run-02-acq-AP    50.0    60.0          65.0       40.0   \n",
       "           post-ses-02-run-02-acq-PA    55.0    60.0          60.0       40.0   \n",
       "sub-010080 post-ses-02-run-02-acq-AP    35.0    70.0          75.0       15.0   \n",
       "\n",
       "                                      Images  Words  Specific  Intrusive  \\\n",
       "Subject    Run                                                             \n",
       "sub-010014 post-ses-02-run-01-acq-AP    95.0   90.0      25.0       30.0   \n",
       "           post-ses-02-run-01-acq-PA    95.0   85.0      25.0       55.0   \n",
       "           post-ses-02-run-02-acq-AP    75.0   85.0      30.0       60.0   \n",
       "           post-ses-02-run-02-acq-PA    80.0   90.0      30.0       55.0   \n",
       "sub-010080 post-ses-02-run-02-acq-AP    70.0   50.0      40.0       10.0   \n",
       "\n",
       "                                       Factor1   Factor2  \n",
       "Subject    Run                                            \n",
       "sub-010014 post-ses-02-run-01-acq-AP  0.810806  0.585024  \n",
       "           post-ses-02-run-01-acq-PA  0.831075  0.856595  \n",
       "           post-ses-02-run-02-acq-AP  0.681932  0.942390  \n",
       "           post-ses-02-run-02-acq-PA  0.658201  0.915976  \n",
       "sub-010080 post-ses-02-run-02-acq-AP  0.718089  0.550179  "
      ]
     },
     "execution_count": 7,
     "metadata": {},
     "output_type": "execute_result"
    }
   ],
   "source": [
    "behav_df = pd.concat([snycq_df,W],axis=1)\n",
    "behav_df.head(5)"
   ]
  },
  {
   "cell_type": "markdown",
   "id": "736c77e1-afe2-41e7-8513-d6adfb854d10",
   "metadata": {},
   "source": [
    "4. Get list of all variables to predict"
   ]
  },
  {
   "cell_type": "code",
   "execution_count": 8,
   "id": "5b6050c8-f26a-47d4-982e-7ea1a694e259",
   "metadata": {},
   "outputs": [
    {
     "name": "stdout",
     "output_type": "stream",
     "text": [
      "++ INFO: Prediction Targets: ['Positive', 'Negative', 'Future', 'Past', 'Myself', 'People', 'Surroundings', 'Vigilance', 'Images', 'Words', 'Specific', 'Intrusive', 'Factor1', 'Factor2']\n",
      "++ INFO: Number of prediction targets: 14\n"
     ]
    }
   ],
   "source": [
    "targets = list(behav_df.columns)\n",
    "print('++ INFO: Prediction Targets: %s' % str(targets))\n",
    "print('++ INFO: Number of prediction targets: %d' % len(targets))"
   ]
  },
  {
   "cell_type": "markdown",
   "id": "1327222b-9c99-4f02-8c70-4a975376469d",
   "metadata": {},
   "source": [
    "5. Load FC data into memory"
   ]
  },
  {
   "cell_type": "code",
   "execution_count": 9,
   "id": "14841a77-0c9a-4b24-adf5-58d64912fae5",
   "metadata": {},
   "outputs": [
    {
     "name": "stderr",
     "output_type": "stream",
     "text": [
      "Scan: 100%|█████████████████████████████████████████████████████████████████████████████████████████████████████████████████████████████████████████████████████████████████████████████████████████████████████████████████████████████████████████████████████████████████████████████████████████████████████████████████████████████████████████████████████████████| 471/471 [00:27<00:00, 17.42it/s]\n"
     ]
    }
   ],
   "source": [
    "fc_data = read_fc_matrices(scan_list,DATA_DIR,ATLAS_NAME,'pb06_staticFC')"
   ]
  },
  {
   "cell_type": "markdown",
   "id": "29b260d8-836a-416a-b89d-e9c87c164c92",
   "metadata": {},
   "source": [
    "6. Save FC data in vectorized form for all scans into a single file for easy access for batch jobs"
   ]
  },
  {
   "cell_type": "code",
   "execution_count": 10,
   "id": "d428217d-b295-4117-a976-168146f72fc3",
   "metadata": {},
   "outputs": [
    {
     "name": "stdout",
     "output_type": "stream",
     "text": [
      "++ INFO: FC data saved to disk [/data/SFIMJGC_Introspec/2023_fc_introspection/code/fc_introspection/resources/cpm/fc_data_Schaefer2018_400Parcels_7Networks_AAL2.csv]\n"
     ]
    }
   ],
   "source": [
    "out_path = osp.join(RESOURCES_CPM_DIR,f'fc_data_{ATLAS_NAME}.csv')\n",
    "fc_data.to_csv(out_path)\n",
    "print('++ INFO: FC data saved to disk [%s]' % out_path)"
   ]
  },
  {
   "cell_type": "markdown",
   "id": "065ae01f-e744-49f0-9e60-5ea8fe9b2aa2",
   "metadata": {},
   "source": [
    "7. Save SNYCQ in the cpm resources folder"
   ]
  },
  {
   "cell_type": "code",
   "execution_count": 11,
   "id": "1ee1d1b4-60df-4c00-9aa0-8b311f7b257e",
   "metadata": {},
   "outputs": [
    {
     "name": "stdout",
     "output_type": "stream",
     "text": [
      "++ INFO: Behavioral data saved to disk [/data/SFIMJGC_Introspec/2023_fc_introspection/code/fc_introspection/resources/cpm/behav_data.csv]\n"
     ]
    }
   ],
   "source": [
    "out_path = osp.join(RESOURCES_CPM_DIR,'behav_data.csv')\n",
    "behav_df.to_csv(out_path)\n",
    "print('++ INFO: Behavioral data saved to disk [%s]' % out_path)"
   ]
  },
  {
   "cell_type": "markdown",
   "id": "a9b05253-d108-45eb-b830-b8fe6c785c09",
   "metadata": {},
   "source": [
    "\n",
    "## 1.2. Create Swarm Jobs for the real data"
   ]
  },
  {
   "cell_type": "markdown",
   "id": "36a81d08-7d0c-405d-a4d1-4dd91ea783ce",
   "metadata": {},
   "source": [
    "We will generate separate swarm files per question. Similarly we will separate the swarm jobs that are for computations on real data and those that are for the generation of the null distribution."
   ]
  },
  {
   "cell_type": "code",
   "execution_count": 12,
   "id": "954aa36b-1f4a-49d9-a97c-b12568099ad3",
   "metadata": {},
   "outputs": [
    {
     "name": "stdout",
     "output_type": "stream",
     "text": [
      "++ INFO: New folder for swarm files created [/data/SFIMJGC_Introspec/2023_fc_introspection/SwarmFiles.javiergc/S16_CPM_subject_aware]\n",
      "++ INFO: New folder for log files created [/data/SFIMJGC_Introspec/2023_fc_introspection/Logs.javiergc/S16_CPM_subject_aware.logs]\n"
     ]
    }
   ],
   "source": [
    "#user specific folders\n",
    "#=====================\n",
    "swarm_folder = osp.join(PRJ_DIR,'SwarmFiles.{username}'.format(username=username),f'S16_CPM_{SPLIT_MODE}')\n",
    "logs_folder  = osp.join(PRJ_DIR,'Logs.{username}'.format(username=username),f'S16_CPM_{SPLIT_MODE}.logs')\n",
    "swarm_path,logdir_path={},{}\n",
    "\n",
    "if not osp.exists(swarm_folder):\n",
    "    os.makedirs(swarm_folder)\n",
    "    print('++ INFO: New folder for swarm files created [%s]' % swarm_folder)\n",
    "\n",
    "if not osp.exists(logs_folder):\n",
    "    os.makedirs(logs_folder)\n",
    "    print('++ INFO: New folder for log files created [%s]' % logs_folder)\n",
    "\n",
    "for TARGET in targets:    \n",
    "    swarm_path[TARGET]  = osp.join(swarm_folder,'S16_CPM-{atlas}-real-{sm}-{conf}-{mt}-{target}.SWARM.sh'.format(atlas=ATLAS_NAME,sm=SPLIT_MODE,conf=CONFOUNDS,mt=MODEL_TYPE, target=TARGET))\n",
    "    logdir_path[TARGET] = osp.join(logs_folder, 'S16_CPM-{atlas}-real-{sm}-{conf}-{mt}-{target}.logs'.format(atlas=ATLAS_NAME,sm=SPLIT_MODE,conf=CONFOUNDS,mt=MODEL_TYPE, target=TARGET))"
   ]
  },
  {
   "cell_type": "code",
   "execution_count": 13,
   "id": "5954c512-b125-429a-a935-1ffa0ee7fbc2",
   "metadata": {},
   "outputs": [
    {
     "name": "stdout",
     "output_type": "stream",
     "text": [
      "++ INFO: New folder for log files created [/data/SFIMJGC_Introspec/2023_fc_introspection/Logs.javiergc/S16_CPM_subject_aware.logs/S16_CPM-Schaefer2018_400Parcels_7Networks_AAL2-real-subject_aware-conf_residualized-pearson_sum-Positive.logs]\n",
      "++ INFO: New folder for log files created [/data/SFIMJGC_Introspec/2023_fc_introspection/Logs.javiergc/S16_CPM_subject_aware.logs/S16_CPM-Schaefer2018_400Parcels_7Networks_AAL2-real-subject_aware-conf_residualized-pearson_sum-Negative.logs]\n",
      "++ INFO: New folder for log files created [/data/SFIMJGC_Introspec/2023_fc_introspection/Logs.javiergc/S16_CPM_subject_aware.logs/S16_CPM-Schaefer2018_400Parcels_7Networks_AAL2-real-subject_aware-conf_residualized-pearson_sum-Future.logs]\n",
      "++ INFO: New folder for log files created [/data/SFIMJGC_Introspec/2023_fc_introspection/Logs.javiergc/S16_CPM_subject_aware.logs/S16_CPM-Schaefer2018_400Parcels_7Networks_AAL2-real-subject_aware-conf_residualized-pearson_sum-Past.logs]\n",
      "++ INFO: New folder for log files created [/data/SFIMJGC_Introspec/2023_fc_introspection/Logs.javiergc/S16_CPM_subject_aware.logs/S16_CPM-Schaefer2018_400Parcels_7Networks_AAL2-real-subject_aware-conf_residualized-pearson_sum-Myself.logs]\n",
      "++ INFO: New folder for log files created [/data/SFIMJGC_Introspec/2023_fc_introspection/Logs.javiergc/S16_CPM_subject_aware.logs/S16_CPM-Schaefer2018_400Parcels_7Networks_AAL2-real-subject_aware-conf_residualized-pearson_sum-People.logs]\n",
      "++ INFO: New folder for log files created [/data/SFIMJGC_Introspec/2023_fc_introspection/Logs.javiergc/S16_CPM_subject_aware.logs/S16_CPM-Schaefer2018_400Parcels_7Networks_AAL2-real-subject_aware-conf_residualized-pearson_sum-Surroundings.logs]\n",
      "++ INFO: New folder for log files created [/data/SFIMJGC_Introspec/2023_fc_introspection/Logs.javiergc/S16_CPM_subject_aware.logs/S16_CPM-Schaefer2018_400Parcels_7Networks_AAL2-real-subject_aware-conf_residualized-pearson_sum-Vigilance.logs]\n",
      "++ INFO: New folder for log files created [/data/SFIMJGC_Introspec/2023_fc_introspection/Logs.javiergc/S16_CPM_subject_aware.logs/S16_CPM-Schaefer2018_400Parcels_7Networks_AAL2-real-subject_aware-conf_residualized-pearson_sum-Images.logs]\n",
      "++ INFO: New folder for log files created [/data/SFIMJGC_Introspec/2023_fc_introspection/Logs.javiergc/S16_CPM_subject_aware.logs/S16_CPM-Schaefer2018_400Parcels_7Networks_AAL2-real-subject_aware-conf_residualized-pearson_sum-Words.logs]\n",
      "++ INFO: New folder for log files created [/data/SFIMJGC_Introspec/2023_fc_introspection/Logs.javiergc/S16_CPM_subject_aware.logs/S16_CPM-Schaefer2018_400Parcels_7Networks_AAL2-real-subject_aware-conf_residualized-pearson_sum-Specific.logs]\n",
      "++ INFO: New folder for log files created [/data/SFIMJGC_Introspec/2023_fc_introspection/Logs.javiergc/S16_CPM_subject_aware.logs/S16_CPM-Schaefer2018_400Parcels_7Networks_AAL2-real-subject_aware-conf_residualized-pearson_sum-Intrusive.logs]\n",
      "++ INFO: New folder for log files created [/data/SFIMJGC_Introspec/2023_fc_introspection/Logs.javiergc/S16_CPM_subject_aware.logs/S16_CPM-Schaefer2018_400Parcels_7Networks_AAL2-real-subject_aware-conf_residualized-pearson_sum-Factor1.logs]\n",
      "++ INFO: New folder for log files created [/data/SFIMJGC_Introspec/2023_fc_introspection/Logs.javiergc/S16_CPM_subject_aware.logs/S16_CPM-Schaefer2018_400Parcels_7Networks_AAL2-real-subject_aware-conf_residualized-pearson_sum-Factor2.logs]\n"
     ]
    }
   ],
   "source": [
    "# create specific folders if needed\n",
    "# ======================================\n",
    "for TARGET in targets:\n",
    "    if not osp.exists(logdir_path[TARGET]):\n",
    "        os.makedirs(logdir_path[TARGET])\n",
    "        print('++ INFO: New folder for log files created [%s]' % logdir_path[TARGET])"
   ]
  },
  {
   "cell_type": "code",
   "execution_count": 16,
   "id": "50e035b5-deb8-424b-a487-ca5ca890fd36",
   "metadata": {},
   "outputs": [],
   "source": [
    "for TARGET in targets:\n",
    "    # Open the file\n",
    "    swarm_file = open(swarm_path[TARGET], \"w\")\n",
    "    # Log the date and time when the SWARM file is created\n",
    "    swarm_file.write('#Create Time: %s' % datetime.now().strftime(\"%d/%m/%Y %H:%M:%S\"))\n",
    "    swarm_file.write('\\n')\n",
    "    # Insert comment line with SWARM command\n",
    "    swarm_file.write('#swarm -f {swarm_path} -g 8 -t 8 -b 10 --time 00:24:00 --partition quick,norm --logdir {logdir_path}'.format(swarm_path=swarm_path[TARGET],logdir_path=logdir_path[TARGET]))\n",
    "    swarm_file.write('\\n')\n",
    "    for n_iter in range(CPM_NITERATIONS):\n",
    "        out_dir = osp.join(RESOURCES_CPM_DIR,'swarm_outputs','real',ATLAS_NAME,SPLIT_MODE,CONFOUNDS,MODEL_TYPE,TARGET)\n",
    "        if not osp.exists(out_dir):\n",
    "            print(\"++ INFO: Creating output dir %s\" % out_dir)\n",
    "            os.makedirs(out_dir)\n",
    "        swarm_file.write(\"export BEHAV_PATH={behav_path} FC_PATH={fc_path} OUT_DIR={output_dir} BEHAVIOR={behavior} NUM_FOLDS={k} NUM_ITER={n_iter} CORR_TYPE={corr_type} E_SUMMARY_METRIC={e_summary_metric} E_THR_R={e_thr_r} E_THR_P={e_thr_p} SPLIT_MODE={split_mode} VERBOSE=True RANDOMIZE_BEHAVIOR=False CONFOUNDS={confounds} CONFOUNDS_PATH={confounds_path}; sh {scripts_folder}/S16_cpm_batch.sh\".format(scripts_folder = SCRIPTS_DIR,\n",
    "                           behav_path       = osp.join(RESOURCES_CPM_DIR,'behav_data.csv'),\n",
    "                           fc_path          = osp.join(RESOURCES_CPM_DIR,f'fc_data_{ATLAS_NAME}.csv'),\n",
    "                           confounds_path   = osp.join(RESOURCES_DINFO_DIR,'motion_confounds.csv'),                        \n",
    "                           output_dir       = out_dir,\n",
    "                           behavior         = TARGET,\n",
    "                           k                = 10,\n",
    "                           n_iter           = n_iter + 1,\n",
    "                           corr_type        = CORR_TYPE,\n",
    "                           split_mode       = SPLIT_MODE,\n",
    "                           e_summary_metric = E_SUMMARY_METRIC,\n",
    "                           e_thr_r          = E_THR_R,\n",
    "                           e_thr_p          = E_THR_P,\n",
    "                           confounds        = CONFOUNDS == 'conf_residualized'))\n",
    "        swarm_file.write('\\n')\n",
    "    swarm_file.close()"
   ]
  },
  {
   "cell_type": "markdown",
   "id": "893e70ef-a7aa-4399-b91e-4f3b8b71800e",
   "metadata": {},
   "source": [
    "Once all the jobs have successfully completed, you should run the following command to compile all the outputs into a single file.\n",
    "\n",
    "```bash\n",
    "conda activate fc_introspection_2023_py310\n",
    "\n",
    "# Compile together the results over the 100 real permutations\n",
    "python /data/SFIMJGC_Introspec/2023_fc_introspection/code/fc_introspection/notebooks/S16b_GatherSwarmResults.py \\\n",
    "   -i /data/SFIMJGC_Introspec/2023_fc_introspection/code/fc_introspection/resources/cpm/swarm_outputs/real/Schaefer2018_400Parcels_7Networks_AAL2/subject_aware/conf_residualized/pearson_sum/ \\\n",
    "   -o /data/SFIMJGC_Introspec/2023_fc_introspection/code/fc_introspection/resources/cpm/real-Schaefer2018_400Parcels_7Networks_AAL2-subject_aware-conf_residualized-pearson_sum.pkl \\\n",
    "   -n 100\n",
    "```"
   ]
  },
  {
   "cell_type": "markdown",
   "id": "272ec13f-f9f5-4aa5-a323-f5c56cbb63c6",
   "metadata": {},
   "source": [
    "## 1.3. Create Swarm jobs for the Null Distributions"
   ]
  },
  {
   "cell_type": "code",
   "execution_count": 18,
   "id": "30c8c72b-b868-4e3d-b332-d3d50daf73a1",
   "metadata": {},
   "outputs": [],
   "source": [
    "for TARGET in targets:    \n",
    "    swarm_path[TARGET]  = osp.join(swarm_folder,'S16_CPM-{atlas}-null-{sm}-{conf}-{mt}-{target}.SWARM.sh'.format(atlas=ATLAS_NAME,sm=SPLIT_MODE,conf=CONFOUNDS,mt=MODEL_TYPE, target=TARGET))\n",
    "    logdir_path[TARGET] = osp.join(logs_folder, 'S16_CPM-{atlas}-null-{sm}-{conf}-{mt}-{target}.logs'.format(atlas=ATLAS_NAME,sm=SPLIT_MODE,conf=CONFOUNDS,mt=MODEL_TYPE, target=TARGET))"
   ]
  },
  {
   "cell_type": "code",
   "execution_count": 19,
   "id": "fa42d831-9424-4c8c-a288-6b3eb7f2300b",
   "metadata": {},
   "outputs": [
    {
     "name": "stdout",
     "output_type": "stream",
     "text": [
      "++ INFO: New folder for log files created [/data/SFIMJGC_Introspec/2023_fc_introspection/Logs.javiergc/S16_CPM_subject_aware.logs/S16_CPM-Schaefer2018_400Parcels_7Networks_AAL2-null-subject_aware-conf_residualized-pearson_sum-Positive.logs]\n",
      "++ INFO: New folder for log files created [/data/SFIMJGC_Introspec/2023_fc_introspection/Logs.javiergc/S16_CPM_subject_aware.logs/S16_CPM-Schaefer2018_400Parcels_7Networks_AAL2-null-subject_aware-conf_residualized-pearson_sum-Negative.logs]\n",
      "++ INFO: New folder for log files created [/data/SFIMJGC_Introspec/2023_fc_introspection/Logs.javiergc/S16_CPM_subject_aware.logs/S16_CPM-Schaefer2018_400Parcels_7Networks_AAL2-null-subject_aware-conf_residualized-pearson_sum-Future.logs]\n",
      "++ INFO: New folder for log files created [/data/SFIMJGC_Introspec/2023_fc_introspection/Logs.javiergc/S16_CPM_subject_aware.logs/S16_CPM-Schaefer2018_400Parcels_7Networks_AAL2-null-subject_aware-conf_residualized-pearson_sum-Past.logs]\n",
      "++ INFO: New folder for log files created [/data/SFIMJGC_Introspec/2023_fc_introspection/Logs.javiergc/S16_CPM_subject_aware.logs/S16_CPM-Schaefer2018_400Parcels_7Networks_AAL2-null-subject_aware-conf_residualized-pearson_sum-Myself.logs]\n",
      "++ INFO: New folder for log files created [/data/SFIMJGC_Introspec/2023_fc_introspection/Logs.javiergc/S16_CPM_subject_aware.logs/S16_CPM-Schaefer2018_400Parcels_7Networks_AAL2-null-subject_aware-conf_residualized-pearson_sum-People.logs]\n",
      "++ INFO: New folder for log files created [/data/SFIMJGC_Introspec/2023_fc_introspection/Logs.javiergc/S16_CPM_subject_aware.logs/S16_CPM-Schaefer2018_400Parcels_7Networks_AAL2-null-subject_aware-conf_residualized-pearson_sum-Surroundings.logs]\n",
      "++ INFO: New folder for log files created [/data/SFIMJGC_Introspec/2023_fc_introspection/Logs.javiergc/S16_CPM_subject_aware.logs/S16_CPM-Schaefer2018_400Parcels_7Networks_AAL2-null-subject_aware-conf_residualized-pearson_sum-Vigilance.logs]\n",
      "++ INFO: New folder for log files created [/data/SFIMJGC_Introspec/2023_fc_introspection/Logs.javiergc/S16_CPM_subject_aware.logs/S16_CPM-Schaefer2018_400Parcels_7Networks_AAL2-null-subject_aware-conf_residualized-pearson_sum-Images.logs]\n",
      "++ INFO: New folder for log files created [/data/SFIMJGC_Introspec/2023_fc_introspection/Logs.javiergc/S16_CPM_subject_aware.logs/S16_CPM-Schaefer2018_400Parcels_7Networks_AAL2-null-subject_aware-conf_residualized-pearson_sum-Words.logs]\n",
      "++ INFO: New folder for log files created [/data/SFIMJGC_Introspec/2023_fc_introspection/Logs.javiergc/S16_CPM_subject_aware.logs/S16_CPM-Schaefer2018_400Parcels_7Networks_AAL2-null-subject_aware-conf_residualized-pearson_sum-Specific.logs]\n",
      "++ INFO: New folder for log files created [/data/SFIMJGC_Introspec/2023_fc_introspection/Logs.javiergc/S16_CPM_subject_aware.logs/S16_CPM-Schaefer2018_400Parcels_7Networks_AAL2-null-subject_aware-conf_residualized-pearson_sum-Intrusive.logs]\n",
      "++ INFO: New folder for log files created [/data/SFIMJGC_Introspec/2023_fc_introspection/Logs.javiergc/S16_CPM_subject_aware.logs/S16_CPM-Schaefer2018_400Parcels_7Networks_AAL2-null-subject_aware-conf_residualized-pearson_sum-Factor1.logs]\n",
      "++ INFO: New folder for log files created [/data/SFIMJGC_Introspec/2023_fc_introspection/Logs.javiergc/S16_CPM_subject_aware.logs/S16_CPM-Schaefer2018_400Parcels_7Networks_AAL2-null-subject_aware-conf_residualized-pearson_sum-Factor2.logs]\n"
     ]
    }
   ],
   "source": [
    "# create specific folders if needed\n",
    "# ======================================\n",
    "for TARGET in targets:\n",
    "    if not osp.exists(logdir_path[TARGET]):\n",
    "        os.makedirs(logdir_path[TARGET])\n",
    "        print('++ INFO: New folder for log files created [%s]' % logdir_path[TARGET])"
   ]
  },
  {
   "cell_type": "code",
   "execution_count": 20,
   "id": "7bf61670-d5c4-4658-91be-eac3e0a0ae85",
   "metadata": {},
   "outputs": [],
   "source": [
    "for TARGET in targets:\n",
    "    # Open the file\n",
    "    swarm_file = open(swarm_path[TARGET], \"w\")\n",
    "    # Log the date and time when the SWARM file is created\n",
    "    swarm_file.write('#Create Time: %s' % datetime.now().strftime(\"%d/%m/%Y %H:%M:%S\"))\n",
    "    swarm_file.write('\\n')\n",
    "    # Insert comment line with SWARM command\n",
    "    swarm_file.write('#swarm -f {swarm_path} -g 8 -t 8 -b 15 --time 00:16:00 --partition quick,norm --logdir {logdir_path}'.format(swarm_path=swarm_path[TARGET],logdir_path=logdir_path[TARGET]))\n",
    "    swarm_file.write('\\n')\n",
    "    for n_iter in range(CPM_NULL_NITERATIONS):\n",
    "        out_dir = osp.join(RESOURCES_CPM_DIR,'swarm_outputs','null',ATLAS_NAME,SPLIT_MODE,CONFOUNDS,MODEL_TYPE,TARGET)\n",
    "        if not osp.exists(out_dir):\n",
    "            os.makedirs(out_dir)\n",
    "        swarm_file.write(\"export BEHAV_PATH={behav_path} FC_PATH={fc_path} OUT_DIR={output_dir} BEHAVIOR={behavior} NUM_FOLDS={k} NUM_ITER={n_iter} CORR_TYPE={corr_type} E_SUMMARY_METRIC={e_summary_metric} E_THR_R={e_thr_r} E_THR_P={e_thr_p} SPLIT_MODE={split_mode} VERBOSE=True RANDOMIZE_BEHAVIOR=True CONFOUNDS={confounds} CONFOUNDS_PATH={confounds_path}; sh {scripts_folder}/S16_cpm_batch.sh\".format(scripts_folder = SCRIPTS_DIR,\n",
    "                           behav_path       = osp.join(RESOURCES_CPM_DIR,'behav_data.csv'),\n",
    "                           fc_path          = osp.join(RESOURCES_CPM_DIR,f'fc_data_{ATLAS_NAME}.csv'),\n",
    "                           confounds_path   = osp.join(RESOURCES_DINFO_DIR,'motion_confounds.csv'), \n",
    "                           output_dir       = out_dir,\n",
    "                           behavior         = TARGET,\n",
    "                           k                = 10,\n",
    "                           n_iter           = n_iter + 1,\n",
    "                           corr_type        = CORR_TYPE,\n",
    "                           split_mode       = SPLIT_MODE,\n",
    "                           e_summary_metric = E_SUMMARY_METRIC,\n",
    "                           e_thr_r          = E_THR_R,\n",
    "                           e_thr_p          = E_THR_P,\n",
    "                           confounds        = CONFOUNDS == 'conf_residualized'))\n",
    "        swarm_file.write('\\n')\n",
    "    swarm_file.close()"
   ]
  },
  {
   "cell_type": "markdown",
   "id": "ad573019-fd7c-4df8-b9d6-e75fa438b462",
   "metadata": {},
   "source": [
    "## 1.4 Command Lines to load everything into a single dataframe"
   ]
  },
  {
   "cell_type": "markdown",
   "id": "6c47cca8-5fc4-486d-9a53-ab06949c09e8",
   "metadata": {},
   "source": [
    "```bash\n",
    "# \n",
    "python /data/SFIMJGC_Introspec/2023_fc_introspection/code/fc_introspection/notebooks/S16b_GatherSwarmResults.py \\\n",
    "       -i /data/SFIMJGC_Introspec/2023_fc_introspection/code/fc_introspection/resources/cpm/swarm_outputs/real/Schaefer2018_400Parcels_7Networks_AAL2/subject_aware/conf_residualized/pearson_sum/ \\\n",
    "       -o /data/SFIMJGC_Introspec/2023_fc_introspection/code/fc_introspection/resources/cpm/real-Schaefer2018_400Parcels_7Networks_AAL2-subject_aware-conf_residualized-pearson_sum.pkl \\\n",
    "       -n 100\n",
    "\n",
    "\n",
    "python ./S16b_GatherSwarmResults.py  -i /data/SFIMJGC_Introspec/2023_fc_introspection/code/fc_introspection/resources/cpm/swarm_outputs/real/Schaefer2018_400Parcels_7Networks_AAL2/subject_aware/conf_not_residualized/pearson_sum/ -o /data/SFIMJGC_Introspec/2023_fc_introspection/code/fc_introspection/resources/cpm/real-Schaefer2018_400Parcels_7Networks_AAL2-subject_aware-conf_not_residualized-pearson_sum.pkl -n 100 -c pearson\n",
    "\n",
    "python ./S16b_GatherSwarmResults.py  -i /data/SFIMJGC_Introspec/2023_fc_introspection/code/fc_introspection/resources/cpm/swarm_outputs/null/Schaefer2018_400Parcels_7Networks_AAL2/subject_aware/conf_not_residualized/pearson_sum/ -o /data/SFIMJGC_Introspec/2023_fc_introspection/code/fc_introspection/resources/cpm/null-Schaefer2018_400Parcels_7Networks_AAL2-subject_aware-conf_not_residualized-pearson_sum.pkl -n 10000 -c pearson\n",
    "```"
   ]
  }
 ],
 "metadata": {
  "jupytext": {
   "formats": "ipynb,py:light"
  },
  "kernelspec": {
   "display_name": "FC Introspection (Jan 2023)",
   "language": "python",
   "name": "fc_introspection"
  },
  "language_info": {
   "codemirror_mode": {
    "name": "ipython",
    "version": 3
   },
   "file_extension": ".py",
   "mimetype": "text/x-python",
   "name": "python",
   "nbconvert_exporter": "python",
   "pygments_lexer": "ipython3",
   "version": "3.7.16"
  }
 },
 "nbformat": 4,
 "nbformat_minor": 5
}
