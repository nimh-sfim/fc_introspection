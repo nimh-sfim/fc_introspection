{
 "cells": [
  {
   "cell_type": "markdown",
   "id": "1fbb2de9-520d-4355-8380-03f062593c60",
   "metadata": {},
   "source": [
    "# Description - Create Swarm File to run transformation to MNI pipeline on the preprocessed data\n",
    "\n",
    "This notebook contians the code to extract representative timeseries for ROIs using the 7 Networks / 200 ROIs version of the Yeo Atlas.\n",
    "\n",
    "First, we will prepare the atlas for its use in this work\n",
    "\n",
    "Next, we will run AFNI's program ```3dNetCorr``` to extract the represenative timeseries. This second step will be done via a swarm job."
   ]
  },
  {
   "cell_type": "markdown",
   "id": "048dba58-85c5-43fb-bf70-f624cfa4f3d5",
   "metadata": {},
   "source": [
    "# 1. Atlas Preparation\n",
    "\n",
    "This project uses the 200 ROI version of the Schaefer Atlas sorted according to the 7 Yeo Networks. This atlas is publicly available [here](https://github.com/ThomasYeoLab/CBIG/tree/master/stable_projects/brain_parcellation/Schaefer2018_LocalGlobal).\n",
    "\n",
    "To prepare this atlas for the project, please perform the following operations:\n",
    "\n",
    "1. Create a local folder for brain parcellations: (e.g., ```/data/SFIMJGC_Introspec/2023_fc_intrsopection/atlases```)\n",
    "\n",
    "2. Assign the full path of that folder to variable [```ATLASES_DIR``` in ```basics.py```](https://github.com/nimh-sfim/fc_introspection/blob/main/notebooks/utils/basics.py#L36).\n",
    "\n",
    "3. Assign the name of the atlas (Schaefer2018_200Parcels_7Networks) to the [```ATLAS_NAME``` variable in ```basics.py```](https://github.com/nimh-sfim/fc_introspection/blob/main/notebooks/utils/basics.py#L37).\n",
    "\n",
    "   > **NOTE**: Unless you are using a different version of the Schaefer Atlas, you can skip this step.\n",
    "\n",
    "4. Create a sub-folder for the 200 Schaefer Atlas:\n",
    "```bash\n",
    "cd ${ATLASES_DIR}\n",
    "mkdir ${ATLAS_NAME}\n",
    "```\n",
    "\n",
    "5. Copy the following files from their original location in CBIG repo (link above) to your local Schaefer Atlas folder:\n",
    "\n",
    "* [```Schaefer2018_200Parcels_7Networks_order_FSLMNI152_2mm.nii.gz```](https://github.com/ThomasYeoLab/CBIG/tree/master/stable_projects/brain_parcellation/Schaefer2018_LocalGlobal/Parcellations/MNI/Schaefer2018_200Parcels_7Networks_order_FSLMNI152_2mm.nii.gz): 200 ROI Atlas / 7 Yeo Networks in MNI space on a 2mm grid.\n",
    "\n",
    "* [```Schaefer2018_200Parcels_7Networks_order.txt```](https://github.com/ThomasYeoLab/CBIG/tree/master/stable_projects/brain_parcellation/Schaefer2018_LocalGlobal/Parcellations/MNI/freeview_lut/Schaefer2018_200Parcels_7Networks_order.txt): list of all ROI, their network membership and color code (RGB).\n",
    "\n",
    "* [```Schaefer2018_200Parcels_7Networks_order.lut```](https://github.com/ThomasYeoLab/CBIG/tree/master/stable_projects/brain_parcellation/Schaefer2018_LocalGlobal/Parcellations/MNI/fsleyes_lut/Schaefer2018_200Parcels_7Networks_order.lut): same as above, but coded for FSL eyes.\n",
    "\n",
    "* [```Schaefer2018_200Parcels_7Networks_order_FSLMNI152_2mm.Centroid_RAS.csv```](https://github.com/ThomasYeoLab/CBIG/tree/master/stable_projects/brain_parcellation/Schaefer2018_LocalGlobal/Parcellations/MNI/Centroid_coordinates/Schaefer2018_200Parcels_7Networks_order_FSLMNI152_2mm.Centroid_RAS.csv): information about each ROI centroid coordinates.\n",
    "\n"
   ]
  },
  {
   "cell_type": "code",
   "execution_count": 8,
   "id": "9982f56e-8948-4198-a1fd-c3e24dcb1b4c",
   "metadata": {},
   "outputs": [],
   "source": [
    "import subprocess\n",
    "from utils.basics import ATLAS_PATH, ATLAS_NAME, DATA_DIR\n",
    "import os.path as osp\n",
    "from sfim_lib.atlases.raking import correct_ranked_shaefer_atlas"
   ]
  },
  {
   "cell_type": "markdown",
   "id": "a4d2cad9-0210-406c-9ccb-f78ba59640cb",
   "metadata": {},
   "source": [
    "## 1.1. Correct space, generate label table and attach it to atlas file"
   ]
  },
  {
   "cell_type": "code",
   "execution_count": 3,
   "id": "5af3cc8b-151a-4e37-81c0-292667d6243f",
   "metadata": {},
   "outputs": [
    {
     "name": "stdout",
     "output_type": "stream",
     "text": [
      "[+] Loading AFNI current-openmp  ... \n",
      "AFNI/current-openmp last updated  2023-01-23\n",
      "\n",
      "++ 3drefit: AFNI version=AFNI_23.0.01 (Jan 18 2023) [64-bit]\n",
      "++ Authored by: RW Cox\n",
      "++ Processing AFNI dataset Schaefer2018_200Parcels_7Networks_order_FSLMNI152_2mm.nii.gz\n",
      "\u001b[7m*+ WARNING:\u001b[0m Changing the space of an ORIG view dataset may cause confusion!\n",
      "\u001b[7m*+ WARNING:\u001b[0m  NIFTI copies will be interpreted as TLRC view (not TLRC space).\n",
      "\u001b[7m*+ WARNING:\u001b[0m  Consider changing the view of the dataset to TLRC view also\n",
      " + loading and re-writing dataset Schaefer2018_200Parcels_7Networks_order_FSLMNI152_2mm.nii.gz (/gpfs/gsfs11/users/SFIMJGC_Introspec/2023_fc_introspection/atlases/Schaefer2018_200Parcels_7Networks/Schaefer2018_200Parcels_7Networks_order_FSLMNI152_2mm.nii.gz in NIFTI storage)\n",
      "++ 3drefit processed 1 datasets\n",
      "++ 3drefit: AFNI version=AFNI_23.0.01 (Jan 18 2023) [64-bit]\n",
      "++ Authored by: RW Cox\n",
      "++ Processing AFNI dataset Schaefer2018_200Parcels_7Networks_order_FSLMNI152_2mm.nii.gz\n",
      " + setting labeltable\n",
      " + loading and re-writing dataset Schaefer2018_200Parcels_7Networks_order_FSLMNI152_2mm.nii.gz (/gpfs/gsfs11/users/SFIMJGC_Introspec/2023_fc_introspection/atlases/Schaefer2018_200Parcels_7Networks/Schaefer2018_200Parcels_7Networks_order_FSLMNI152_2mm.nii.gz in NIFTI storage)\n",
      "++ 3drefit processed 1 datasets\n"
     ]
    }
   ],
   "source": [
    "# Correct the space tag, generate a label table, attach it to the original atlas file.\n",
    "command = \"\"\"module load afni; \\\n",
    "   cd {ATLAS_PATH}; \\\n",
    "   3drefit -space MNI {ATLAS_NAME}_order_FSLMNI152_2mm.nii.gz; \\\n",
    "   @MakeLabelTable -lab_file {ATLAS_NAME}_order.txt 1 0 -labeltable {ATLAS_NAME}_order.niml.lt -dset {ATLAS_NAME}_order_FSLMNI152_2mm.nii.gz;\"\"\".format(ATLAS_PATH=ATLAS_PATH,ATLAS_NAME=ATLAS_NAME)\n",
    "output  = subprocess.check_output(command, shell=True, stderr=subprocess.STDOUT)\n",
    "print(output.strip().decode())"
   ]
  },
  {
   "cell_type": "markdown",
   "id": "166a2add-6fd0-496f-ae9b-2cba7db6813b",
   "metadata": {},
   "source": [
    "## 1.2. Convert Atlas file to final grid of all pre-processed data"
   ]
  },
  {
   "cell_type": "code",
   "execution_count": 4,
   "id": "399116f8-a25d-4781-9fc9-1eac364e4c05",
   "metadata": {},
   "outputs": [
    {
     "name": "stdout",
     "output_type": "stream",
     "text": [
      "[+] Loading AFNI current-openmp  ... \n",
      "AFNI/current-openmp last updated  2023-01-23\n",
      "\n",
      "++ 3dZeropad: AFNI version=AFNI_23.0.01 (Jan 18 2023) [64-bit]\n",
      "++ 3dZeropad -master => -I 0 -S -12 -A -6 -P -8 -R -7 -L -10\n",
      "++ output dataset: ./Schaefer2018_200Parcels_7Networks_order_FSLMNI152_2mm.nii.gz\n",
      "++ 3drefit: AFNI version=AFNI_23.0.01 (Jan 18 2023) [64-bit]\n",
      "++ Authored by: RW Cox\n",
      "++ Processing AFNI dataset Schaefer2018_200Parcels_7Networks_order_FSLMNI152_2mm.nii.gz\n",
      " + setting labeltable\n",
      " + loading and re-writing dataset Schaefer2018_200Parcels_7Networks_order_FSLMNI152_2mm.nii.gz (/gpfs/gsfs11/users/SFIMJGC_Introspec/2023_fc_introspection/atlases/Schaefer2018_200Parcels_7Networks/Schaefer2018_200Parcels_7Networks_order_FSLMNI152_2mm.nii.gz in NIFTI storage)\n",
      "++ 3drefit processed 1 datasets\n"
     ]
    }
   ],
   "source": [
    "# Put in the final grid that agress with that of all fully pre-processed functional scans\n",
    "command = \"\"\"module load afni; \\\n",
    "   cd {ATLAS_PATH}; \\\n",
    "   3dZeropad -overwrite -master {DATA_DIR}/PrcsData/ALL_SCANS/all_mean.box.nii.gz -prefix {ATLAS_NAME}_order_FSLMNI152_2mm.nii.gz {ATLAS_NAME}_order_FSLMNI152_2mm.nii.gz; \\\n",
    "   3drefit -labeltable {ATLAS_NAME}_order.niml.lt {ATLAS_NAME}_order_FSLMNI152_2mm.nii.gz\"\"\".format(ATLAS_PATH=ATLAS_PATH,ATLAS_NAME=ATLAS_NAME, DATA_DIR=DATA_DIR)\n",
    "output  = subprocess.check_output(command, shell=True, stderr=subprocess.STDOUT)\n",
    "print(output.strip().decode())"
   ]
  },
  {
   "cell_type": "markdown",
   "id": "648e8bb9-725f-4229-8c0c-d7c28288fc2e",
   "metadata": {},
   "source": [
    "## 1.3. Remove regions with bad coverage from the atlas"
   ]
  },
  {
   "cell_type": "code",
   "execution_count": 5,
   "id": "3902a117-a437-4c9f-8401-732be60e55dd",
   "metadata": {},
   "outputs": [
    {
     "name": "stdout",
     "output_type": "stream",
     "text": [
      "[+] Loading AFNI current-openmp  ... \n",
      "AFNI/current-openmp last updated  2023-01-23\n",
      "\n",
      "++ 3dcalc: AFNI version=AFNI_23.0.01 (Jan 18 2023) [64-bit]\n",
      "++ Authored by: A cast of thousands\n",
      "++ Output dataset ./Schaefer2018_200Parcels_7Networks_Removed_ROIs.nii.gz\n",
      "++ 3dcalc: AFNI version=AFNI_23.0.01 (Jan 18 2023) [64-bit]\n",
      "++ Authored by: A cast of thousands\n",
      "++ Output dataset ./Schaefer2018_200Parcels_7Networks_order_FSLMNI152_2mm.nii.gz\n",
      "++ 3drefit: AFNI version=AFNI_23.0.01 (Jan 18 2023) [64-bit]\n",
      "++ Authored by: RW Cox\n",
      "++ Processing AFNI dataset Schaefer2018_200Parcels_7Networks_order_FSLMNI152_2mm.nii.gz\n",
      " + setting labeltable\n",
      " + loading and re-writing dataset Schaefer2018_200Parcels_7Networks_order_FSLMNI152_2mm.nii.gz (/gpfs/gsfs11/users/SFIMJGC_Introspec/2023_fc_introspection/atlases/Schaefer2018_200Parcels_7Networks/Schaefer2018_200Parcels_7Networks_order_FSLMNI152_2mm.nii.gz in NIFTI storage)\n",
      "++ 3drefit processed 1 datasets\n"
     ]
    }
   ],
   "source": [
    "# Remove a series of regions with bad coverage / low signal levels\n",
    "# Limbic LH Temporal Pole 1-4: 57,58,59,60\n",
    "# Limbic RH Temporal Pole 1-3: 162,163,164\n",
    "# Limbic LH OFC 1-2: 55,56\n",
    "# Limbic RH OFC 1-3: 159,160,161\n",
    "command=\"\"\"module load afni; \\\n",
    "           cd {ATLAS_PATH}; \\\n",
    "           3dcalc -overwrite \\\n",
    "                  -a {ATLAS_NAME}_order_FSLMNI152_2mm.nii.gz \\\n",
    "                  -expr 'equals(a,57)+equals(a,58)+equals(a,59)+equals(a,60)+equals(a,162)+equals(a,163)+equals(a,164)+equals(a,55)+equals(a,56)+equals(a,159)+equals(a,160)+equals(a,161)' \\\n",
    "                  -prefix {ATLAS_NAME}_Removed_ROIs.nii.gz; \\\n",
    "           3dcalc -overwrite \\\n",
    "                  -a      {ATLAS_NAME}_order_FSLMNI152_2mm.nii.gz \\\n",
    "                  -expr 'a-57*equals(a,57)-58*equals(a,58)-59*equals(a,59)-60*equals(a,60)-162*equals(a,162)-163*equals(a,163)-164*equals(a,164)-55*equals(a,55)-56*equals(a,56)-159*equals(a,159)-160*equals(a,160)-161*equals(a,161)' \\\n",
    "                  -prefix {ATLAS_NAME}_order_FSLMNI152_2mm.nii.gz; \\\n",
    "           3drefit -labeltable {ATLAS_NAME}_order.niml.lt {ATLAS_NAME}_order_FSLMNI152_2mm.nii.gz\"\"\".format(ATLAS_PATH=ATLAS_PATH,ATLAS_NAME=ATLAS_NAME, DATA_DIR=DATA_DIR)\n",
    "output  = subprocess.check_output(command, shell=True, stderr=subprocess.STDOUT)\n",
    "print(output.strip().decode())"
   ]
  },
  {
   "cell_type": "markdown",
   "id": "fca7f82a-a116-469c-996d-c4d88e7d9538",
   "metadata": {},
   "source": [
    "## 1.4. Rank the atlas with missing ROIs"
   ]
  },
  {
   "cell_type": "code",
   "execution_count": 6,
   "id": "97d98dc9-9ee8-43e9-b05d-1759af0a0700",
   "metadata": {},
   "outputs": [
    {
     "name": "stdout",
     "output_type": "stream",
     "text": [
      "[+] Loading AFNI current-openmp  ... \n",
      "AFNI/current-openmp last updated  2023-01-23\n",
      "\n",
      "++ Output dataset /gpfs/gsfs11/users/SFIMJGC_Introspec/2023_fc_introspection/atlases/Schaefer2018_200Parcels_7Networks/Schaefer2018_200Parcels_7Networks_order_FSLMNI152_2mm.ranked.nii.gz\n"
     ]
    }
   ],
   "source": [
    "command = \"\"\"module load afni; \\\n",
    "             cd {ATLAS_PATH}; \\\n",
    "             3dRank -prefix {ATLAS_NAME}_order_FSLMNI152_2mm.ranked.nii.gz -input {ATLAS_NAME}_order_FSLMNI152_2mm.nii.gz;\"\"\".format(ATLAS_PATH=ATLAS_PATH,ATLAS_NAME=ATLAS_NAME)\n",
    "output  = subprocess.check_output(command, shell=True, stderr=subprocess.STDOUT)\n",
    "print(output.strip().decode())"
   ]
  },
  {
   "cell_type": "markdown",
   "id": "8ce0544b-bfc7-44d3-b57b-f9441d17f2b5",
   "metadata": {},
   "source": [
    "## 1.5. Create rank corrected Order & Centroid Files"
   ]
  },
  {
   "cell_type": "code",
   "execution_count": 9,
   "id": "3089bd55-58bb-4255-bd89-005d9a247e6d",
   "metadata": {},
   "outputs": [
    {
     "name": "stdout",
     "output_type": "stream",
     "text": [
      "++ INFO [correct_ranked_shaefer_atlas] Original Order File in memory [(200, 6)]\n",
      "++ INFO [correct_ranked_shaefer_atlas] Original Centroids File in memory [(200, 5)]\n",
      "++ INFO [correct_ranked_shaefer_atlas] Rank information in memory    [(189, 2)]\n",
      "++ INFO [correct_ranked_shaefer_atlas] New order file written to disk: /data/SFIMJGC_Introspec/2023_fc_introspection/atlases/Schaefer2018_200Parcels_7Networks/Schaefer2018_200Parcels_7Networks_order.ranked.txt\n",
      "++ INFO [correct_ranked_shaefer_atlas] New centroids file written to disk: /data/SFIMJGC_Introspec/2023_fc_introspection/atlases/Schaefer2018_200Parcels_7Networks/Schaefer2018_200Parcels_7Networks_order_FSLMNI152_2mm.Centroid_RAS.ranked.txt\n",
      "======================================\n",
      " + Original Number of ROIs = 200\n",
      " + New      Number of ROIs = 188\n",
      "======================================\n",
      " + Last entry in original Order File:\n",
      "Number                               200\n",
      "ID        7Networks_RH_Default_pCunPCC_3\n",
      "R                                    208\n",
      "G                                     63\n",
      "B                                     77\n",
      "Size                                   0\n",
      "Name: 199, dtype: object\n",
      " + Last entry in new Order File:\n",
      "Number                               188\n",
      "ID        7Networks_RH_Default_pCunPCC_3\n",
      "R                                    208\n",
      "G                                     63\n",
      "B                                     77\n",
      "Size                                   0\n",
      "Name: 187, dtype: object\n",
      "======================================\n",
      " + Last entry in original Centroids File:\n",
      "ROI Label                               200\n",
      "ROI Name     7Networks_RH_Default_pCunPCC_3\n",
      "R                                         6\n",
      "A                                       -58\n",
      "S                                        44\n",
      "Name: 199, dtype: object\n",
      " + Last entry in new Centroids File:\n",
      "ROI Label                               188\n",
      "ROI Name     7Networks_RH_Default_pCunPCC_3\n",
      "R                                         6\n",
      "A                                       -58\n",
      "S                                        44\n",
      "Name: 187, dtype: object\n"
     ]
    }
   ],
   "source": [
    "path_to_order_file = osp.join(ATLAS_PATH,'Schaefer2018_200Parcels_7Networks_order.txt')\n",
    "path_to_rank_file  = osp.join(ATLAS_PATH,'Schaefer2018_200Parcels_7Networks_order_FSLMNI152_2mm.ranked.nii.gz.rankmap.1D')\n",
    "path_to_centroids_file = osp.join(ATLAS_PATH,'Schaefer2018_200Parcels_7Networks_order_FSLMNI152_2mm.Centroid_RAS.csv')\n",
    "correct_ranked_shaefer_atlas(path_to_order_file,path_to_centroids_file,path_to_rank_file)"
   ]
  },
  {
   "cell_type": "markdown",
   "id": "1415f242-b7f6-4f5e-b8c5-f635979777fd",
   "metadata": {},
   "source": [
    "## 1.6. Add corrected label table to the ranked version of the atlas"
   ]
  },
  {
   "cell_type": "code",
   "execution_count": null,
   "id": "c2a1c15a-bf49-4f7b-929e-7276b6119427",
   "metadata": {},
   "outputs": [
    {
     "name": "stdout",
     "output_type": "stream",
     "text": [
      "[+] Loading AFNI current-openmp  ... \n",
      "AFNI/current-openmp last updated  2023-01-23\n",
      "\n",
      "++ 3drefit: AFNI version=AFNI_23.0.01 (Jan 18 2023) [64-bit]\n",
      "++ Authored by: RW Cox\n",
      "++ Processing AFNI dataset Schaefer2018_200Parcels_7Networks_order_FSLMNI152_2mm.ranked.nii.gz\n",
      " + setting labeltable\n",
      " + loading and re-writing dataset Schaefer2018_200Parcels_7Networks_order_FSLMNI152_2mm.ranked.nii.gz (/gpfs/gsfs11/users/SFIMJGC_Introspec/2023_fc_introspection/atlases/Schaefer2018_200Parcels_7Networks/Schaefer2018_200Parcels_7Networks_order_FSLMNI152_2mm.ranked.nii.gz in NIFTI storage)\n",
      "++ 3drefit processed 1 datasets\n"
     ]
    }
   ],
   "source": [
    "command = \"\"\"module load afni; \\\n",
    "             cd {ATLAS_PATH}; \\\n",
    "             @MakeLabelTable -lab_file {ATLAS_NAME}_order.ranked.txt 1 0 -labeltable {ATLAS_NAME}_order.ranked.niml.lt -dset {ATLAS_NAME}_order_FSLMNI152_2mm.ranked.nii.gz;\"\"\".format(ATLAS_PATH=ATLAS_PATH,ATLAS_NAME=ATLAS_NAME)\n",
    "output  = subprocess.check_output(command, shell=True, stderr=subprocess.STDOUT)\n",
    "print(output.strip().decode())"
   ]
  }
 ],
 "metadata": {
  "jupytext": {
   "formats": "ipynb,py:light"
  },
  "kernelspec": {
   "display_name": "FC Introspection (Jan 2023)",
   "language": "python",
   "name": "fc_introspection"
  },
  "language_info": {
   "codemirror_mode": {
    "name": "ipython",
    "version": 3
   },
   "file_extension": ".py",
   "mimetype": "text/x-python",
   "name": "python",
   "nbconvert_exporter": "python",
   "pygments_lexer": "ipython3",
   "version": "3.7.16"
  },
  "toc-autonumbering": false,
  "toc-showmarkdowntxt": false
 },
 "nbformat": 4,
 "nbformat_minor": 5
}
