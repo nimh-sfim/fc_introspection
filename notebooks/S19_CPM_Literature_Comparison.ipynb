{
 "cells": [
  {
   "cell_type": "markdown",
   "id": "70556c48-cd2f-4ad9-8a25-46db32a536ce",
   "metadata": {},
   "source": [
    "# Description\n",
    "\n",
    "This notebook creates the figure we use to compare how our results relate to prior CPM work"
   ]
  },
  {
   "cell_type": "code",
   "execution_count": 1,
   "id": "fad72662-4ff9-408a-b393-42fdf4234536",
   "metadata": {},
   "outputs": [],
   "source": [
    "import pandas as pd\n",
    "import numpy as np\n",
    "import seaborn as sns\n",
    "import matplotlib.pyplot as plt\n",
    "\n",
    "import warnings\n",
    "warnings.simplefilter(action='ignore', category=FutureWarning)"
   ]
  },
  {
   "cell_type": "code",
   "execution_count": 2,
   "id": "3364eb58-104b-4dbe-af5c-f2d36f3c9369",
   "metadata": {},
   "outputs": [
    {
     "data": {
      "text/html": [
       "<div>\n",
       "<style scoped>\n",
       "    .dataframe tbody tr th:only-of-type {\n",
       "        vertical-align: middle;\n",
       "    }\n",
       "\n",
       "    .dataframe tbody tr th {\n",
       "        vertical-align: top;\n",
       "    }\n",
       "\n",
       "    .dataframe thead th {\n",
       "        text-align: right;\n",
       "    }\n",
       "</style>\n",
       "<table border=\"1\" class=\"dataframe\">\n",
       "  <thead>\n",
       "    <tr style=\"text-align: right;\">\n",
       "      <th>Accuracy</th>\n",
       "      <th>Pearson R</th>\n",
       "      <th>Spearman R</th>\n",
       "    </tr>\n",
       "    <tr>\n",
       "      <th>Target</th>\n",
       "      <th></th>\n",
       "      <th></th>\n",
       "    </tr>\n",
       "  </thead>\n",
       "  <tbody>\n",
       "    <tr>\n",
       "      <th>Thought Pattern 1</th>\n",
       "      <td>0.148283</td>\n",
       "      <td>0.125089</td>\n",
       "    </tr>\n",
       "    <tr>\n",
       "      <th>Thought Pattern 2</th>\n",
       "      <td>0.208355</td>\n",
       "      <td>0.220099</td>\n",
       "    </tr>\n",
       "    <tr>\n",
       "      <th>Wakefulness</th>\n",
       "      <td>0.281511</td>\n",
       "      <td>0.290120</td>\n",
       "    </tr>\n",
       "    <tr>\n",
       "      <th>Images</th>\n",
       "      <td>0.139341</td>\n",
       "      <td>0.108633</td>\n",
       "    </tr>\n",
       "    <tr>\n",
       "      <th>Surroundings</th>\n",
       "      <td>0.171443</td>\n",
       "      <td>0.164560</td>\n",
       "    </tr>\n",
       "    <tr>\n",
       "      <th>Past</th>\n",
       "      <td>0.130975</td>\n",
       "      <td>0.116012</td>\n",
       "    </tr>\n",
       "  </tbody>\n",
       "</table>\n",
       "</div>"
      ],
      "text/plain": [
       "Accuracy           Pearson R  Spearman R\n",
       "Target                                  \n",
       "Thought Pattern 1   0.148283    0.125089\n",
       "Thought Pattern 2   0.208355    0.220099\n",
       "Wakefulness         0.281511    0.290120\n",
       "Images              0.139341    0.108633\n",
       "Surroundings        0.171443    0.164560\n",
       "Past                0.130975    0.116012"
      ]
     },
     "execution_count": 2,
     "metadata": {},
     "output_type": "execute_result"
    }
   ],
   "source": [
    "our_acc = pd.read_csv('../resources/cpm/final_avg_accuracies.csv', index_col=0)\n",
    "our_acc.index.name='Target'\n",
    "our_acc.columns.name='Accuracy'\n",
    "our_acc.loc[['Thought Pattern 1','Thought Pattern 2','Wakefulness','Images','Surroundings','Past']]"
   ]
  },
  {
   "cell_type": "markdown",
   "id": "ff0cfb15-180b-452b-b52e-ce4788ea24ce",
   "metadata": {},
   "source": [
    "### 1. Load the data"
   ]
  },
  {
   "cell_type": "code",
   "execution_count": 4,
   "id": "6b4a0bbf-a61c-47d5-b644-0718f85bfd91",
   "metadata": {},
   "outputs": [],
   "source": [
    "data=pd.read_excel('../resources/cpm_literature_search/CPM_Literature_Search.xlsx', na_filter=True, skiprows=2, sheet_name='FINAL')\n",
    "data.columns=['Title','Year','# Subjects','Target','Category','Atlas','# ROIs','Pos Nw | R', 'Pos Nw | Rho', 'Neg Nw | R', 'Neg Nw | Rho','Both Nw | R','Both Nw | Rho','Cross Validation','Exclusion','Extra1']\n",
    "data.drop(['Extra1'],axis=1, inplace=True)"
   ]
  },
  {
   "cell_type": "code",
   "execution_count": 5,
   "id": "a03d912d-d178-4d11-aca3-ce1b33b5cdd4",
   "metadata": {},
   "outputs": [
    {
     "name": "stdout",
     "output_type": "stream",
     "text": [
      "++ INFO: Number of papers found in scopus: 88\n"
     ]
    }
   ],
   "source": [
    "scopus_num_studies = data['Title'].ffill().unique().shape[0]\n",
    "print (\"++ INFO: Number of papers found in scopus: %d\" % scopus_num_studies)"
   ]
  },
  {
   "cell_type": "markdown",
   "id": "7eea7943-d32d-472f-9ca4-471d15c0b17f",
   "metadata": {},
   "source": [
    "### 2. Count number of excluded studies per reason\n",
    "\n",
    "Report the number of studies excluded from further analysis and the reason for exclusion"
   ]
  },
  {
   "cell_type": "code",
   "execution_count": 6,
   "id": "fdd1c123-8f0b-4eee-88b1-87166ec80270",
   "metadata": {},
   "outputs": [
    {
     "data": {
      "text/plain": [
       "Exclusion\n",
       "Not Whole Brain / ROI Level        10\n",
       "Substantially modified CPM          8\n",
       "CPM on task data                    6\n",
       "Review Article                      3\n",
       "Incompatible Accuracy Reporting     2\n",
       "Non Human data                      1\n",
       "EEG Study                           1\n",
       "Name: count, dtype: int64"
      ]
     },
     "execution_count": 6,
     "metadata": {},
     "output_type": "execute_result"
    }
   ],
   "source": [
    "data['Exclusion'].value_counts()"
   ]
  },
  {
   "cell_type": "code",
   "execution_count": 7,
   "id": "62abdf48-3930-425c-9747-91109b03d351",
   "metadata": {},
   "outputs": [
    {
     "name": "stdout",
     "output_type": "stream",
     "text": [
      "++ INFO: Number of studies passing initial exclusion criteria: 57\n"
     ]
    }
   ],
   "source": [
    "print('++ INFO: Number of studies passing initial exclusion criteria: %d' % (scopus_num_studies - data['Exclusion'].value_counts().sum()))"
   ]
  },
  {
   "cell_type": "markdown",
   "id": "5ae5c15f-3009-4463-8f21-ff35ee99a500",
   "metadata": {},
   "source": [
    "### 3. Remove excluded studies"
   ]
  },
  {
   "cell_type": "code",
   "execution_count": 8,
   "id": "87cdb849-c877-43ca-805b-a1fd166d719d",
   "metadata": {},
   "outputs": [],
   "source": [
    "# Remove excluded studies\n",
    "data = data[data['Exclusion'].isnull()]\n",
    "data = data.drop(['Exclusion'],axis=1)\n",
    "data = data.reset_index(drop=True)"
   ]
  },
  {
   "cell_type": "code",
   "execution_count": 9,
   "id": "f04b51c5-6b36-4da3-a4c4-cf9ccae49758",
   "metadata": {},
   "outputs": [],
   "source": [
    "data = data.ffill()"
   ]
  },
  {
   "cell_type": "code",
   "execution_count": 10,
   "id": "86198b5d-d9bd-4985-89ee-317c299ebf8e",
   "metadata": {},
   "outputs": [
    {
     "data": {
      "text/html": [
       "<div>\n",
       "<style scoped>\n",
       "    .dataframe tbody tr th:only-of-type {\n",
       "        vertical-align: middle;\n",
       "    }\n",
       "\n",
       "    .dataframe tbody tr th {\n",
       "        vertical-align: top;\n",
       "    }\n",
       "\n",
       "    .dataframe thead th {\n",
       "        text-align: right;\n",
       "    }\n",
       "</style>\n",
       "<table border=\"1\" class=\"dataframe\">\n",
       "  <thead>\n",
       "    <tr style=\"text-align: right;\">\n",
       "      <th></th>\n",
       "      <th>Title</th>\n",
       "      <th>Year</th>\n",
       "      <th># Subjects</th>\n",
       "      <th>Target</th>\n",
       "      <th>Category</th>\n",
       "      <th>Atlas</th>\n",
       "      <th># ROIs</th>\n",
       "      <th>Pos Nw | R</th>\n",
       "      <th>Pos Nw | Rho</th>\n",
       "      <th>Neg Nw | R</th>\n",
       "      <th>Neg Nw | Rho</th>\n",
       "      <th>Both Nw | R</th>\n",
       "      <th>Both Nw | Rho</th>\n",
       "      <th>Cross Validation</th>\n",
       "    </tr>\n",
       "  </thead>\n",
       "  <tbody>\n",
       "    <tr>\n",
       "      <th>17</th>\n",
       "      <td>Sex differences in functional connectivity and...</td>\n",
       "      <td>2024.0</td>\n",
       "      <td>71 - Males</td>\n",
       "      <td>Montreal Cognitive Assesment Scores</td>\n",
       "      <td>Clinical</td>\n",
       "      <td>AAL</td>\n",
       "      <td>90</td>\n",
       "      <td>0.23</td>\n",
       "      <td>N/R</td>\n",
       "      <td>(NS)</td>\n",
       "      <td>N/R</td>\n",
       "      <td>N/R</td>\n",
       "      <td>N/R</td>\n",
       "      <td>LOOCV</td>\n",
       "    </tr>\n",
       "    <tr>\n",
       "      <th>104</th>\n",
       "      <td>Connectome-based modeling reveals a resting-st...</td>\n",
       "      <td>2023.0</td>\n",
       "      <td>560</td>\n",
       "      <td>rumination</td>\n",
       "      <td>Cognition</td>\n",
       "      <td>400 ROI Schaefer</td>\n",
       "      <td>400</td>\n",
       "      <td>0.045 (NS)</td>\n",
       "      <td>N/R</td>\n",
       "      <td>0.152</td>\n",
       "      <td>N/R</td>\n",
       "      <td>N/R</td>\n",
       "      <td>N/R</td>\n",
       "      <td>LOOCV</td>\n",
       "    </tr>\n",
       "    <tr>\n",
       "      <th>21</th>\n",
       "      <td>Task and Resting-State Functional Connectivity...</td>\n",
       "      <td>2023.0</td>\n",
       "      <td>29</td>\n",
       "      <td>Driving Lapses</td>\n",
       "      <td>Personality/Well-being</td>\n",
       "      <td>Shen 268-node</td>\n",
       "      <td>178</td>\n",
       "      <td>0.4</td>\n",
       "      <td>N/R</td>\n",
       "      <td>-0.56 (NS)</td>\n",
       "      <td>N/R</td>\n",
       "      <td>N/R</td>\n",
       "      <td>N/R</td>\n",
       "      <td>LOOCV</td>\n",
       "    </tr>\n",
       "    <tr>\n",
       "      <th>14</th>\n",
       "      <td>The individualized prediction of cognitive tes...</td>\n",
       "      <td>2020.0</td>\n",
       "      <td>91</td>\n",
       "      <td>Mini-mental State Examination</td>\n",
       "      <td>Cognition</td>\n",
       "      <td>AAL</td>\n",
       "      <td>90</td>\n",
       "      <td>0.51</td>\n",
       "      <td>N/R</td>\n",
       "      <td>0.52</td>\n",
       "      <td>N/R</td>\n",
       "      <td>0.54</td>\n",
       "      <td>N/R</td>\n",
       "      <td>LOOCV</td>\n",
       "    </tr>\n",
       "    <tr>\n",
       "      <th>81</th>\n",
       "      <td>Do intrinsic brain functional networks predict...</td>\n",
       "      <td>2020.0</td>\n",
       "      <td>87 - (preschoolers)</td>\n",
       "      <td>working memory</td>\n",
       "      <td>Cognition</td>\n",
       "      <td>Shen 268-node</td>\n",
       "      <td>268</td>\n",
       "      <td>N/R</td>\n",
       "      <td>N/R</td>\n",
       "      <td>N/R</td>\n",
       "      <td>N/R</td>\n",
       "      <td>N/R</td>\n",
       "      <td>0.118 (NS)</td>\n",
       "      <td>5-Fold CV</td>\n",
       "    </tr>\n",
       "    <tr>\n",
       "      <th>73</th>\n",
       "      <td>Trait repetitive negative thinking in depressi...</td>\n",
       "      <td>2023.0</td>\n",
       "      <td>62</td>\n",
       "      <td>Ruminative Response Scale</td>\n",
       "      <td>Clinical</td>\n",
       "      <td>Shen 268-node</td>\n",
       "      <td>230</td>\n",
       "      <td>N/R</td>\n",
       "      <td>N/R</td>\n",
       "      <td>N/R</td>\n",
       "      <td>N/R</td>\n",
       "      <td>N/R</td>\n",
       "      <td>0.613</td>\n",
       "      <td>5-Fold CV</td>\n",
       "    </tr>\n",
       "    <tr>\n",
       "      <th>77</th>\n",
       "      <td>Connectome-based model predicts individual psy...</td>\n",
       "      <td>2022.0</td>\n",
       "      <td>84</td>\n",
       "      <td>S-PTS (Psychopathic traits)</td>\n",
       "      <td>Personality/Well-being</td>\n",
       "      <td>Dosenbach</td>\n",
       "      <td>142</td>\n",
       "      <td>N/R</td>\n",
       "      <td>0.129 (NS)</td>\n",
       "      <td>N/R</td>\n",
       "      <td>0.309</td>\n",
       "      <td>N/R</td>\n",
       "      <td>0.353</td>\n",
       "      <td>LOOCV and k fold</td>\n",
       "    </tr>\n",
       "    <tr>\n",
       "      <th>20</th>\n",
       "      <td>Task and Resting-State Functional Connectivity...</td>\n",
       "      <td>2023.0</td>\n",
       "      <td>29</td>\n",
       "      <td>Impulsivity</td>\n",
       "      <td>Personality/Well-being</td>\n",
       "      <td>Shen 268-node</td>\n",
       "      <td>178</td>\n",
       "      <td>-0.27 (NS)</td>\n",
       "      <td>N/R</td>\n",
       "      <td>-0.09 (NS)</td>\n",
       "      <td>N/R</td>\n",
       "      <td>N/R</td>\n",
       "      <td>N/R</td>\n",
       "      <td>LOOCV</td>\n",
       "    </tr>\n",
       "    <tr>\n",
       "      <th>86</th>\n",
       "      <td>Connectome-Based Predictive Modeling of Indivi...</td>\n",
       "      <td>2021.0</td>\n",
       "      <td>76</td>\n",
       "      <td>Anxiety</td>\n",
       "      <td>Clinical</td>\n",
       "      <td>Shen 268-node</td>\n",
       "      <td>268</td>\n",
       "      <td>N/R</td>\n",
       "      <td>-0.01 (NS)</td>\n",
       "      <td>N/R</td>\n",
       "      <td>0.33</td>\n",
       "      <td>N/R</td>\n",
       "      <td>N/R</td>\n",
       "      <td>LOOCV</td>\n",
       "    </tr>\n",
       "    <tr>\n",
       "      <th>59</th>\n",
       "      <td>The Functional Brain Organization of an Indivi...</td>\n",
       "      <td>2019.0</td>\n",
       "      <td>99</td>\n",
       "      <td>ADOS Social Affect score</td>\n",
       "      <td>Clinical</td>\n",
       "      <td>Shen 268-node</td>\n",
       "      <td>268</td>\n",
       "      <td>N/R</td>\n",
       "      <td>N/R</td>\n",
       "      <td>N/R</td>\n",
       "      <td>N/R</td>\n",
       "      <td>0.53</td>\n",
       "      <td>N/R</td>\n",
       "      <td>LOOCV</td>\n",
       "    </tr>\n",
       "  </tbody>\n",
       "</table>\n",
       "</div>"
      ],
      "text/plain": [
       "                                                 Title    Year  \\\n",
       "17   Sex differences in functional connectivity and...  2024.0   \n",
       "104  Connectome-based modeling reveals a resting-st...  2023.0   \n",
       "21   Task and Resting-State Functional Connectivity...  2023.0   \n",
       "14   The individualized prediction of cognitive tes...  2020.0   \n",
       "81   Do intrinsic brain functional networks predict...  2020.0   \n",
       "73   Trait repetitive negative thinking in depressi...  2023.0   \n",
       "77   Connectome-based model predicts individual psy...  2022.0   \n",
       "20   Task and Resting-State Functional Connectivity...  2023.0   \n",
       "86   Connectome-Based Predictive Modeling of Indivi...  2021.0   \n",
       "59   The Functional Brain Organization of an Indivi...  2019.0   \n",
       "\n",
       "              # Subjects                               Target  \\\n",
       "17            71 - Males  Montreal Cognitive Assesment Scores   \n",
       "104                  560                           rumination   \n",
       "21                    29                       Driving Lapses   \n",
       "14                    91        Mini-mental State Examination   \n",
       "81   87 - (preschoolers)                       working memory   \n",
       "73                    62            Ruminative Response Scale   \n",
       "77                    84          S-PTS (Psychopathic traits)   \n",
       "20                    29                          Impulsivity   \n",
       "86                    76                              Anxiety   \n",
       "59                    99             ADOS Social Affect score   \n",
       "\n",
       "                   Category             Atlas # ROIs  Pos Nw | R Pos Nw | Rho  \\\n",
       "17                 Clinical               AAL     90        0.23          N/R   \n",
       "104               Cognition  400 ROI Schaefer    400  0.045 (NS)          N/R   \n",
       "21   Personality/Well-being     Shen 268-node    178         0.4          N/R   \n",
       "14                Cognition               AAL     90        0.51          N/R   \n",
       "81                Cognition     Shen 268-node    268         N/R          N/R   \n",
       "73                 Clinical     Shen 268-node    230         N/R          N/R   \n",
       "77   Personality/Well-being         Dosenbach    142         N/R   0.129 (NS)   \n",
       "20   Personality/Well-being     Shen 268-node    178  -0.27 (NS)          N/R   \n",
       "86                 Clinical     Shen 268-node    268         N/R   -0.01 (NS)   \n",
       "59                 Clinical     Shen 268-node    268         N/R          N/R   \n",
       "\n",
       "     Neg Nw | R Neg Nw | Rho Both Nw | R Both Nw | Rho  Cross Validation  \n",
       "17         (NS)          N/R         N/R           N/R             LOOCV  \n",
       "104       0.152          N/R         N/R           N/R             LOOCV  \n",
       "21   -0.56 (NS)          N/R         N/R           N/R             LOOCV  \n",
       "14         0.52          N/R        0.54           N/R             LOOCV  \n",
       "81          N/R          N/R         N/R    0.118 (NS)         5-Fold CV  \n",
       "73          N/R          N/R         N/R         0.613         5-Fold CV  \n",
       "77          N/R        0.309         N/R         0.353  LOOCV and k fold  \n",
       "20   -0.09 (NS)          N/R         N/R           N/R             LOOCV  \n",
       "86          N/R         0.33         N/R           N/R             LOOCV  \n",
       "59          N/R          N/R        0.53           N/R             LOOCV  "
      ]
     },
     "execution_count": 10,
     "metadata": {},
     "output_type": "execute_result"
    }
   ],
   "source": [
    "data.sample(10)"
   ]
  },
  {
   "cell_type": "code",
   "execution_count": 11,
   "id": "8ab30b4c-776d-49b0-9217-d776ee7656c1",
   "metadata": {},
   "outputs": [],
   "source": [
    "data['Year']       = data['Year'].astype(int)\n",
    "data['# Subjects'] = [int(str(i).split('-')[0]) for i in data['# Subjects']]\n",
    "\n",
    "data = data.replace('N/R',np.nan)\n",
    "\n",
    "for col in ['Pos Nw | R','Pos Nw | Rho','Neg Nw | R','Neg Nw | Rho','Both Nw | R','Both Nw | Rho']:\n",
    "    data[col] = [i if ('NS' not in str(i)) else np.nan for i in data[col]]"
   ]
  },
  {
   "cell_type": "code",
   "execution_count": 12,
   "id": "712fbfa5-1334-4fed-aa64-4211378b9606",
   "metadata": {},
   "outputs": [
    {
     "name": "stdout",
     "output_type": "stream",
     "text": [
      "++ Number of reported models: 159\n"
     ]
    }
   ],
   "source": [
    "print('++ Number of reported models: %d' % data[['Pos Nw | R','Neg Nw | R','Both Nw | R','Pos Nw | Rho','Neg Nw | Rho','Both Nw | Rho']].melt().dropna().shape[0])"
   ]
  },
  {
   "cell_type": "code",
   "execution_count": 13,
   "id": "22324a4a-1668-433f-bbee-7cfa1a7580fd",
   "metadata": {},
   "outputs": [
    {
     "data": {
      "text/plain": [
       "Category\n",
       "Clinical                  53\n",
       "Cognition                 32\n",
       "Personality/Well-being    26\n",
       "Name: count, dtype: int64"
      ]
     },
     "execution_count": 13,
     "metadata": {},
     "output_type": "execute_result"
    }
   ],
   "source": [
    "data['Category'].value_counts()"
   ]
  },
  {
   "cell_type": "markdown",
   "id": "338b2de3-2cda-42af-b6b1-e4c3309027f0",
   "metadata": {},
   "source": [
    "### Plot Pearson's R results"
   ]
  },
  {
   "cell_type": "code",
   "execution_count": 14,
   "id": "b2e869c3-c9ce-4a2c-b6e8-474110431632",
   "metadata": {},
   "outputs": [],
   "source": [
    "data2plot_R = None\n",
    "for category in ['Personality/Well-being','Clinical','Cognition']:\n",
    "    aux = data.set_index('Category').loc[category][['Pos Nw | R','Neg Nw | R','Both Nw | R']].melt().dropna()\n",
    "    aux['Category'] = category\n",
    "    aux.drop(['variable'],axis=1,inplace=True)\n",
    "    aux.columns=['Pearson R','Category']\n",
    "    if data2plot_R is None:\n",
    "        data2plot_R = aux\n",
    "    else:\n",
    "        data2plot_R = pd.concat([data2plot_R,aux])\n",
    "data2plot_R = data2plot_R.reset_index(drop=True)"
   ]
  },
  {
   "cell_type": "code",
   "execution_count": 15,
   "id": "6ca34609-3a3f-4dce-a50d-957776c86c21",
   "metadata": {},
   "outputs": [
    {
     "data": {
      "text/plain": [
       "Category\n",
       "Cognition                 43\n",
       "Clinical                  36\n",
       "Personality/Well-being    21\n",
       "Name: count, dtype: int64"
      ]
     },
     "execution_count": 15,
     "metadata": {},
     "output_type": "execute_result"
    }
   ],
   "source": [
    "data2plot_R['Category'].value_counts()"
   ]
  },
  {
   "cell_type": "code",
   "execution_count": 16,
   "id": "898f911f-1e71-470b-b0fe-bf2556f4cad4",
   "metadata": {},
   "outputs": [
    {
     "data": {
      "text/plain": [
       "(-0.5, 2.5)"
      ]
     },
     "execution_count": 16,
     "metadata": {},
     "output_type": "execute_result"
    },
    {
     "data": {
      "image/png": "[encoded data removed]",
      "text/plain": [
       "<Figure size 400x500 with 1 Axes>"
      ]
     },
     "metadata": {},
     "output_type": "display_data"
    }
   ],
   "source": [
    "label_pos_extra = np.array([0,.02,0,-.02,-.045,-.07])\n",
    "fig, ax = plt.subplots(1,1,figsize=(4,5))\n",
    "sns.set(font_scale=1)\n",
    "sns.set_style('white')\n",
    "sns.boxplot(data=data2plot_R,x='Category',y='Pearson R',saturation=0.3)\n",
    "sns.swarmplot(data=data2plot_R,x='Category',y='Pearson R', hue='Category',s=3)\n",
    "for i, TARGET in enumerate(['Wakefulness','Thought Pattern 2','Surroundings','Thought Pattern 1','Images','Past']):\n",
    "    ax.hlines(our_acc.loc[TARGET,'Pearson R'],-.5,2.5,'k', linestyles='dashed', label=TARGET, lw=1)\n",
    "    ax.annotate(TARGET, xy=(2.5, our_acc.loc[TARGET,'Pearson R']), xytext=(2.8,our_acc.loc[TARGET,'Pearson R']+label_pos_extra[i]) ,\n",
    "            arrowprops=dict(facecolor='black',width=2, headwidth=5), annotation_clip=False, fontsize=11, verticalalignment='center')\n",
    "    #ax.text(2.6,our_acc.loc[TARGET,'Pearson R']*.96,TARGET,arrowprops=dict(facecolor='black', shrink=0.05))\n",
    "ax.set_ylabel('Model Accuracy (Pearson`s R)')\n",
    "plt.ylim((0.0,.7))\n",
    "plt.xlim((-.5,2.5))"
   ]
  }
 ],
 "metadata": {
  "jupytext": {
   "formats": "ipynb,auto:light"
  },
  "kernelspec": {
   "display_name": "FC Instrospection py 3.10 | 2023b",
   "language": "python",
   "name": "fc_introspection_2023b_py310"
  },
  "language_info": {
   "codemirror_mode": {
    "name": "ipython",
    "version": 3
   },
   "file_extension": ".py",
   "mimetype": "text/x-python",
   "name": "python",
   "nbconvert_exporter": "python",
   "pygments_lexer": "ipython3",
   "version": "3.10.13"
  }
 },
 "nbformat": 4,
 "nbformat_minor": 5
}
