{
 "cells": [
  {
   "cell_type": "markdown",
   "metadata": {},
   "source": [
    "# Description - Create Swarm File to run structural pipeline on NC dataset\n",
    "\n",
    "This script creates the swarm file to run freesurfer on the NC dataset. \n",
    "\n",
    "Becuase this dataset is linked to the MPI LEMON dataset, sometimes subjects have an anatomical, but on other occasions the anatomical needs to be grabbed from the LEMON dataset.\n",
    "\n",
    "In Notebooks/SNYCQ01_CleanDownloadedData we created a dataframe that contains the final list of subjects to be analyzed (i.e., only those with resting runs accompanied by SNYCQ) and for each of these subjects, the dataframe also contains the path of the anatomical for each subject.\n",
    "\n",
    "***"
   ]
  },
  {
   "cell_type": "code",
   "execution_count": 1,
   "metadata": {},
   "outputs": [],
   "source": [
    "import pandas as pd\n",
    "import os.path as osp\n",
    "import os\n",
    "from datetime import datetime\n",
    "import getpass"
   ]
  },
  {
   "cell_type": "code",
   "execution_count": 2,
   "metadata": {},
   "outputs": [],
   "source": [
    "from utils.basics import NOTEBOOKS_DIR, RESOURCES_DINFO_DIR, PRJ_DIR, SCRIPTS_DIR"
   ]
  },
  {
   "cell_type": "code",
   "execution_count": 3,
   "metadata": {},
   "outputs": [
    {
     "name": "stdout",
     "output_type": "stream",
     "text": [
      "++ INFO: user working now --> javiergc\n"
     ]
    }
   ],
   "source": [
    "username = getpass.getuser()\n",
    "print('++ INFO: user working now --> %s' % username)"
   ]
  },
  {
   "cell_type": "code",
   "execution_count": 4,
   "metadata": {},
   "outputs": [],
   "source": [
    "#user specific folders\n",
    "#=====================\n",
    "swarm_folder   = osp.join(PRJ_DIR,'SwarmFiles.{username}'.format(username=username))\n",
    "logs_folder    = osp.join(PRJ_DIR,'Logs.{username}'.format(username=username))         \n",
    "                          \n",
    "anat_info_path = osp.join(RESOURCES_DINFO_DIR,'NC_anat_info.csv')\n",
    "swarm_path     = osp.join(swarm_folder,'S01_NC_run_structural.SWARM.sh')"
   ]
  },
  {
   "cell_type": "raw",
   "metadata": {},
   "source": [
    "project_folder = '/data/SFIMJGC_Introspec/prj2021_dyneusr/'\n",
    "scripts_folder = osp.join(project_folder,'Notebooks')\n",
    "proc_files_dir = '/data/SFIMJGC_Introspec/prj2021_dyneusr/Resources/'\n",
    "\n",
    "#user specific folders\n",
    "#=====================\n",
    "swarm_folder   = osp.join(project_folder,'SwarmFiles.{username}'.format(username=username))\n",
    "logs_folder    = osp.join(project_folder,'Logs.{username}'.format(username=username))         \n",
    "                          \n",
    "anat_info_path = osp.join(proc_files_dir,'NC_anat_info.csv')\n",
    "swarm_path     = osp.join(swarm_folder,'S01_NC_run_structural.SWARM.sh')"
   ]
  },
  {
   "cell_type": "code",
   "execution_count": 5,
   "metadata": {},
   "outputs": [],
   "source": [
    "# create user specific folders if needed\n",
    "# ======================================\n",
    "if not osp.exists(swarm_folder):\n",
    "    os.makedirs(swarm_folder)\n",
    "if not osp.exists(logs_folder):\n",
    "    os.makedirs(logs_folder)"
   ]
  },
  {
   "cell_type": "markdown",
   "metadata": {},
   "source": [
    "***\n",
    "# 1. Load DataFrame with subject list and path to anatomical"
   ]
  },
  {
   "cell_type": "code",
   "execution_count": 6,
   "metadata": {},
   "outputs": [],
   "source": [
    "anat_info = pd.read_csv(anat_info_path, index_col='subject')"
   ]
  },
  {
   "cell_type": "code",
   "execution_count": 7,
   "metadata": {},
   "outputs": [
    {
     "data": {
      "text/html": [
       "<div>\n",
       "<style scoped>\n",
       "    .dataframe tbody tr th:only-of-type {\n",
       "        vertical-align: middle;\n",
       "    }\n",
       "\n",
       "    .dataframe tbody tr th {\n",
       "        vertical-align: top;\n",
       "    }\n",
       "\n",
       "    .dataframe thead th {\n",
       "        text-align: right;\n",
       "    }\n",
       "</style>\n",
       "<table border=\"1\" class=\"dataframe\">\n",
       "  <thead>\n",
       "    <tr style=\"text-align: right;\">\n",
       "      <th></th>\n",
       "      <th>ses-01</th>\n",
       "      <th>ses-02</th>\n",
       "      <th>anat_path</th>\n",
       "    </tr>\n",
       "    <tr>\n",
       "      <th>subject</th>\n",
       "      <th></th>\n",
       "      <th></th>\n",
       "      <th></th>\n",
       "    </tr>\n",
       "  </thead>\n",
       "  <tbody>\n",
       "    <tr>\n",
       "      <th>sub-010014</th>\n",
       "      <td>False</td>\n",
       "      <td>True</td>\n",
       "      <td>/data/DSST/MPI_LEMON/ds000221-download/sub-010...</td>\n",
       "    </tr>\n",
       "    <tr>\n",
       "      <th>sub-010079</th>\n",
       "      <td>True</td>\n",
       "      <td>False</td>\n",
       "      <td>/data/DSST/MPI_LEMON/ds000221-download/sub-010...</td>\n",
       "    </tr>\n",
       "    <tr>\n",
       "      <th>sub-010080</th>\n",
       "      <td>True</td>\n",
       "      <td>False</td>\n",
       "      <td>/data/DSST/MPI_LEMON/ds000221-download/sub-010...</td>\n",
       "    </tr>\n",
       "    <tr>\n",
       "      <th>sub-010082</th>\n",
       "      <td>False</td>\n",
       "      <td>True</td>\n",
       "      <td>/data/DSST/MPI_LEMON/ds000221-download/sub-010...</td>\n",
       "    </tr>\n",
       "    <tr>\n",
       "      <th>sub-010084</th>\n",
       "      <td>True</td>\n",
       "      <td>False</td>\n",
       "      <td>/data/DSST/MPI_LEMON/ds000221-download/sub-010...</td>\n",
       "    </tr>\n",
       "  </tbody>\n",
       "</table>\n",
       "</div>"
      ],
      "text/plain": [
       "            ses-01  ses-02                                          anat_path\n",
       "subject                                                                      \n",
       "sub-010014   False    True  /data/DSST/MPI_LEMON/ds000221-download/sub-010...\n",
       "sub-010079    True   False  /data/DSST/MPI_LEMON/ds000221-download/sub-010...\n",
       "sub-010080    True   False  /data/DSST/MPI_LEMON/ds000221-download/sub-010...\n",
       "sub-010082   False    True  /data/DSST/MPI_LEMON/ds000221-download/sub-010...\n",
       "sub-010084    True   False  /data/DSST/MPI_LEMON/ds000221-download/sub-010..."
      ]
     },
     "execution_count": 7,
     "metadata": {},
     "output_type": "execute_result"
    }
   ],
   "source": [
    "anat_info.head()"
   ]
  },
  {
   "cell_type": "markdown",
   "metadata": {},
   "source": [
    "# 2. Create Log Directory for swarm jobs"
   ]
  },
  {
   "cell_type": "code",
   "execution_count": 8,
   "metadata": {},
   "outputs": [],
   "source": [
    "logdir_path = osp.join(logs_folder,'S01_NC_run_structural.logs')\n",
    "if not osp.exists(logdir_path):\n",
    "    os.mkdir(logdir_path)\n",
    "    print(\"++ INFO: Log folder created [%s]\" % logdir_path)"
   ]
  },
  {
   "cell_type": "markdown",
   "metadata": {
    "tags": []
   },
   "source": [
    "***\n",
    "# 3. Create Swarm File"
   ]
  },
  {
   "cell_type": "markdown",
   "metadata": {},
   "source": [
    "This will create a swarm file with one line call to S01_NC_run_structural.sh per subject. The inputs to that bash script are:\n",
    "\n",
    "* SBJ = subject ID\n",
    "* ANAT_PREFIX = 'ses-01' or 'ses-02' depending on where the anatomical data resides. This information will be used by ```structural.py``` and ```mp2rage.py``` within the lemon pipeline.\n",
    "* ANAT_PATH = folder containing the anatomical scans. They will be also used by the two pipeline files mentioned above"
   ]
  },
  {
   "cell_type": "code",
   "execution_count": 9,
   "metadata": {},
   "outputs": [],
   "source": [
    "# Open the file\n",
    "swarm_file = open(swarm_path, \"w\")\n",
    "# Log the date and time when the SWARM file is created\n",
    "swarm_file.write('#Create Time: %s' % datetime.now().strftime(\"%d/%m/%Y %H:%M:%S\"))\n",
    "swarm_file.write('\\n')\n",
    "# Insert comment line with SWARM command\n",
    "swarm_file.write('#swarm -f {swarm_path} -g 32 -t 32 --time 48:00:00 --logdir {logdir}'.format(swarm_path=swarm_path,logdir=logdir_path))\n",
    "swarm_file.write('\\n')\n",
    "# Insert one line per subject\n",
    "for sbj,row in anat_info.iterrows():\n",
    "    anat_prefix = 'missing'\n",
    "    if row['ses-01'] == True:\n",
    "        anat_prefix = 'ses-01'\n",
    "    if row['ses-02'] == True:\n",
    "        anat_prefix = 'ses-02'\n",
    "    swarm_file.write(\"export SBJ={sbj} ANAT_PREFIX={anat_prefix} ANAT_PATH={anat_path}; sh {scripts_folder}/S01_NC_run_structural.sh\".format(sbj=sbj,\n",
    "                                                                                                                                             anat_prefix=anat_prefix,\n",
    "                                                                                                                                             anat_path=row['anat_path'],\n",
    "                                                                                                                                             scripts_folder=SCRIPTS_DIR))\n",
    "    swarm_file.write('\\n')\n",
    "swarm_file.close()"
   ]
  },
  {
   "cell_type": "code",
   "execution_count": null,
   "metadata": {},
   "outputs": [],
   "source": []
  }
 ],
 "metadata": {
  "jupytext": {
   "formats": "ipynb,py:light"
  },
  "kernelspec": {
   "display_name": "FC Instrospection (Jan 2023)",
   "language": "python",
   "name": "fc_introspection"
  },
  "language_info": {
   "codemirror_mode": {
    "name": "ipython",
    "version": 3
   },
   "file_extension": ".py",
   "mimetype": "text/x-python",
   "name": "python",
   "nbconvert_exporter": "python",
   "pygments_lexer": "ipython3",
   "version": "3.7.16"
  }
 },
 "nbformat": 4,
 "nbformat_minor": 4
}
