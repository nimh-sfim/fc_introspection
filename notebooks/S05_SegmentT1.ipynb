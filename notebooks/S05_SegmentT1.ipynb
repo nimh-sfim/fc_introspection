{
 "cells": [
  {
   "cell_type": "markdown",
   "id": "1fbb2de9-520d-4355-8380-03f062593c60",
   "metadata": {},
   "source": [
    "# Description - Create Swarm File to run transformation to MNI pipeline on the preprocessed data\n",
    "\n",
    "This script creates the SWARM file to run the pipeline that will transform the data to MNI space, which is necessary for the following step of this project."
   ]
  },
  {
   "cell_type": "code",
   "execution_count": 7,
   "id": "71384c48-817a-421c-bdd1-65447c0ed5bd",
   "metadata": {},
   "outputs": [
    {
     "name": "stdout",
     "output_type": "stream",
     "text": [
      "++ INFO: Project Dir:                  /data/SFIMJGC_Introspec/2023_fc_introspection\n",
      "++ INFO: Bash Scripts Dir:             /data/SFIMJGC_Introspec/2023_fc_introspection/code/fc_introspection/bash\n",
      "++ INFO: Data Dir:                     /data/SFIMJGC_Introspec/pdn\n"
     ]
    }
   ],
   "source": [
    "import pandas as pd\n",
    "import os.path as osp\n",
    "import os\n",
    "from datetime import datetime\n",
    "import getpass\n",
    "import subprocess\n",
    "\n",
    "from utils.basics import get_sbj_scan_list\n",
    "\n",
    "from utils.basics import PRJ_DIR, DATA_DIR, SCRIPTS_DIR\n",
    "print('++ INFO: Project Dir:                  %s' % PRJ_DIR) \n",
    "print('++ INFO: Bash Scripts Dir:             %s' % SCRIPTS_DIR)\n",
    "print('++ INFO: Data Dir:                     %s' % DATA_DIR)"
   ]
  },
  {
   "cell_type": "code",
   "execution_count": 8,
   "id": "3d45197b-74cf-440e-ae5d-e83e5351f194",
   "metadata": {},
   "outputs": [
    {
     "name": "stdout",
     "output_type": "stream",
     "text": [
      "++ INFO: user working now --> javiergc\n"
     ]
    }
   ],
   "source": [
    "username = getpass.getuser()\n",
    "print('++ INFO: user working now --> %s' % username)"
   ]
  },
  {
   "cell_type": "markdown",
   "id": "d7a9eb4f-7971-48f0-81cf-31a868ca44c5",
   "metadata": {},
   "source": [
    "# 1. Load list of scans that completed struct and func pre-processing and have low motion"
   ]
  },
  {
   "cell_type": "code",
   "execution_count": 9,
   "id": "af087272-d555-41eb-b93c-1f83972d2aa9",
   "metadata": {},
   "outputs": [
    {
     "name": "stdout",
     "output_type": "stream",
     "text": [
      "++ [post_motion] Number of subjects: 133 subjects\n",
      "++ [post_motion] Number of scans:    471 scans\n"
     ]
    }
   ],
   "source": [
    "sbj_list, scan_list, SNYCQ_data = get_sbj_scan_list('post_motion')"
   ]
  },
  {
   "cell_type": "markdown",
   "id": "27ea3499-8f39-4506-82dc-ca7ce392df10",
   "metadata": {},
   "source": [
    "***\n",
    "# 2. Create SWARM file\n",
    "\n",
    "This will create a swarm file with one line call per subject. The inputs to that bash script are:\n",
    "\n",
    "* SBJ = subject ID"
   ]
  },
  {
   "cell_type": "code",
   "execution_count": 10,
   "id": "617e8084-a37b-4850-a310-3737a74e8aa6",
   "metadata": {},
   "outputs": [],
   "source": [
    "#user specific folders\n",
    "#=====================\n",
    "swarm_folder   = osp.join(PRJ_DIR,'SwarmFiles.{username}'.format(username=username))\n",
    "logs_folder    = osp.join(PRJ_DIR,'Logs.{username}'.format(username=username))\n",
    "\n",
    "swarm_path     = osp.join(swarm_folder,'S05_SegmentT1.SWARM.sh')\n",
    "logdir_path    = osp.join(logs_folder, 'S05_SegmentT1.logs')"
   ]
  },
  {
   "cell_type": "code",
   "execution_count": 11,
   "id": "65daf774-6b15-43b4-8879-24030b23c7b2",
   "metadata": {},
   "outputs": [],
   "source": [
    "# create user specific folders if needed\n",
    "# ======================================\n",
    "if not osp.exists(swarm_folder):\n",
    "    os.makedirs(swarm_folder)\n",
    "    print('++ INFO: New folder for swarm files created [%s]' % swarm_folder)\n",
    "if not osp.exists(logdir_path):\n",
    "    os.makedirs(logdir_path)\n",
    "    print('++ INFO: New folder for log files created [%s]' % logdir_path)"
   ]
  },
  {
   "cell_type": "code",
   "execution_count": 14,
   "id": "70f870fa-3d35-426e-ad12-2cec68ecac5e",
   "metadata": {},
   "outputs": [],
   "source": [
    "# Open the file\n",
    "swarm_file = open(swarm_path, \"w\")\n",
    "# Log the date and time when the SWARM file is created\n",
    "swarm_file.write('#Create Time: %s' % datetime.now().strftime(\"%d/%m/%Y %H:%M:%S\"))\n",
    "swarm_file.write('\\n')\n",
    "# Insert comment line with SWARM command\n",
    "swarm_file.write('#swarm -f {swarm_path} -g 32 -t 32 -b 4 --time 00:30:00 --partition quick,norm --logdir {logdir_path}'.format(swarm_path=swarm_path,logdir_path=logdir_path))\n",
    "swarm_file.write('\\n')\n",
    "\n",
    "# Insert one line per subject\n",
    "for sbj in sbj_list:\n",
    "    swarm_file.write(\"export SBJ={sbj}; sh {scripts_folder}/S05_SegmentT1.sh\".format(sbj=sbj, scripts_folder = SCRIPTS_DIR))\n",
    "    swarm_file.write('\\n')\n",
    "swarm_file.close()"
   ]
  }
 ],
 "metadata": {
  "jupytext": {
   "formats": "ipynb,py:light"
  },
  "kernelspec": {
   "display_name": "FC Instrospection py 3.10 | 2023b",
   "language": "python",
   "name": "fc_introspection_2023b_py310"
  },
  "language_info": {
   "codemirror_mode": {
    "name": "ipython",
    "version": 3
   },
   "file_extension": ".py",
   "mimetype": "text/x-python",
   "name": "python",
   "nbconvert_exporter": "python",
   "pygments_lexer": "ipython3",
   "version": "3.10.13"
  },
  "toc-autonumbering": false,
  "toc-showmarkdowntxt": false
 },
 "nbformat": 4,
 "nbformat_minor": 5
}
