{
 "cells": [
  {
   "cell_type": "code",
   "execution_count": 1,
   "id": "cc0e4807-60d4-48ed-aa5a-f1e7eca31d8f",
   "metadata": {},
   "outputs": [],
   "source": [
    "import os.path as osp\n",
    "import os\n",
    "import pandas as pd\n",
    "import numpy as np\n",
    "import xarray as xr\n",
    "from sfim_lib.io.afni import load_netcc\n",
    "from shutil import rmtree"
   ]
  },
  {
   "cell_type": "code",
   "execution_count": 3,
   "id": "5b35d4ec-c935-4158-97e8-12434d037a32",
   "metadata": {},
   "outputs": [
    {
     "ename": "SyntaxError",
     "evalue": "trailing comma not allowed without surrounding parentheses (1133106652.py, line 1)",
     "output_type": "error",
     "traceback": [
      "\u001b[0;36m  File \u001b[0;32m\"/tmp/ipykernel_71522/1133106652.py\"\u001b[0;36m, line \u001b[0;32m1\u001b[0m\n\u001b[0;31m    from utils.basics import RESOURCES_NBS_DIR, CORTICAL_ATLAS_NAME, CORTICAL_ATLAS_PATH,\u001b[0m\n\u001b[0m                            ^\u001b[0m\n\u001b[0;31mSyntaxError\u001b[0m\u001b[0;31m:\u001b[0m trailing comma not allowed without surrounding parentheses\n"
     ]
    }
   ],
   "source": [
    "from utils.basics import RESOURCES_NBS_DIR, CORTICAL_ATLAS_NAME, CORTICAL_ATLAS_PATH\n",
    "from utils.basics import ATLASES_DIR, CORTICAL_ATLAS_PATH, SNYCQ_CLUSTERS_INFO_PATH, BRAINNET_NODES_PATH, DATA_DIR\n",
    "from utils.basics import get_sbj_scan_list"
   ]
  },
  {
   "cell_type": "code",
   "execution_count": null,
   "id": "ce74e1b2-bee1-4164-aca5-3483109e6978",
   "metadata": {},
   "outputs": [],
   "source": [
    "if not osp.exists(RESOURCES_NBS_DIR):\n",
    "    os.makedirs(RESOURCES_NBS_DIR)"
   ]
  },
  {
   "cell_type": "markdown",
   "id": "9298f220-7c60-4fd8-8967-a5b78c913898",
   "metadata": {},
   "source": [
    "# 1. Create the BrainNet_Nodes.node, NBS Coordinates and Labels files"
   ]
  },
  {
   "cell_type": "code",
   "execution_count": 4,
   "id": "62d72da4-8570-4abf-9c6e-f3bf049387de",
   "metadata": {},
   "outputs": [],
   "source": [
    "ATLASINFO_PATH = osp.join(ATLASES_DIR,ATLAS_NAME,'{ATLAS_NAME}_order_FSLMNI152_2mm.ranked.roi_info.csv'.format(ATLAS_NAME=ATLAS_NAME))\n",
    "roi_info       = pd.read_csv(ATLASINFO_PATH)"
   ]
  },
  {
   "cell_type": "code",
   "execution_count": 5,
   "id": "3b1dcacb-a805-4194-90d5-7b47165cdc06",
   "metadata": {},
   "outputs": [
    {
     "name": "stdout",
     "output_type": "stream",
     "text": [
      "187\n"
     ]
    }
   ],
   "source": [
    "Nrois = roi_info.shape[0]\n",
    "print(Nrois)"
   ]
  },
  {
   "cell_type": "code",
   "execution_count": 6,
   "id": "23e7ae61-9ab9-4f3d-abec-1208cd09021c",
   "metadata": {},
   "outputs": [],
   "source": [
    "Nw2Id                           = {'Vis':1,'SomMot':2,'DorsAttn':3,'SalVentAttn':4,'Limbic':5,'Cont':6,'Default':7}\n",
    "BRAINNET_NODES_df               = roi_info[['pos_R','pos_A','pos_S','ROI_Name']].copy()\n",
    "BRAINNET_NODES_df['Node Size']  = 1\n",
    "BRAINNET_NODES_df['Node Color'] = [Nw2Id[n.split('_')[1]] for n in BRAINNET_NODES_df['ROI_Name']]\n",
    "BRAINNET_NODES_df = BRAINNET_NODES_df[['pos_R','pos_A','pos_S','Node Color','Node Size','ROI_Name']]"
   ]
  },
  {
   "cell_type": "code",
   "execution_count": 20,
   "id": "715c6ee4-dfbb-48a1-8699-7eb62d0929b6",
   "metadata": {},
   "outputs": [
    {
     "data": {
      "text/plain": [
       "array([1, 2, 3, 4, 6, 7])"
      ]
     },
     "execution_count": 20,
     "metadata": {},
     "output_type": "execute_result"
    }
   ],
   "source": [
    "BRAINNET_NODES_df['Node Color'].unique()"
   ]
  },
  {
   "cell_type": "code",
   "execution_count": 7,
   "id": "071b8115-50dd-428e-ad8c-c8a6d169e80b",
   "metadata": {},
   "outputs": [
    {
     "name": "stdout",
     "output_type": "stream",
     "text": [
      "++ INFO: BrainNet_Node file written to disk [/data/SFIMJGC_Introspec/2023_fc_introspection/code/fc_introspection/resources/nbs/Schaefer2018_200Parcels_7Networks_BrainNet_Nodes.node]\n"
     ]
    }
   ],
   "source": [
    "BRAINNET_NODES_df.to_csv(BRAINNET_NODES_PATH, sep=' ', index=None, header=None)\n",
    "print('++ INFO: BrainNet_Node file written to disk [%s]' % BRAINNET_NODES_PATH)"
   ]
  },
  {
   "cell_type": "code",
   "execution_count": 8,
   "id": "5a2942e4-300a-4a1f-a6eb-ba845ba67b2f",
   "metadata": {},
   "outputs": [],
   "source": [
    "BRAINNET_NODES_df[['pos_R','pos_A','pos_S']].to_csv(osp.join(RESOURCES_NBS_DIR,'NBS_Node_Coordinates.txt'), sep=' ', index=None, header=None)\n",
    "BRAINNET_NODES_df['ROI_Name'].to_csv(osp.join(RESOURCES_NBS_DIR,'NBS_Node_Labels.txt'), sep=' ', index=None, header=None)"
   ]
  },
  {
   "cell_type": "markdown",
   "id": "9f660070-0410-4fc3-9cb8-ea3201b0c164",
   "metadata": {},
   "source": [
    "***\n",
    "# 2. Create Design Matrix for NBS"
   ]
  },
  {
   "cell_type": "code",
   "execution_count": 9,
   "id": "171bd236-a713-4a1e-9fad-11e377c5941b",
   "metadata": {},
   "outputs": [],
   "source": [
    "clusters_info = pd.read_csv(SNYCQ_CLUSTERS_INFO_PATH, index_col=['Subject','Run'])"
   ]
  },
  {
   "cell_type": "code",
   "execution_count": 12,
   "id": "a4db6482-1f5e-4bdc-9617-fca64d44bebf",
   "metadata": {},
   "outputs": [
    {
     "data": {
      "text/html": [
       "<div>\n",
       "<style scoped>\n",
       "    .dataframe tbody tr th:only-of-type {\n",
       "        vertical-align: middle;\n",
       "    }\n",
       "\n",
       "    .dataframe tbody tr th {\n",
       "        vertical-align: top;\n",
       "    }\n",
       "\n",
       "    .dataframe thead th {\n",
       "        text-align: right;\n",
       "    }\n",
       "</style>\n",
       "<table border=\"1\" class=\"dataframe\">\n",
       "  <thead>\n",
       "    <tr style=\"text-align: right;\">\n",
       "      <th></th>\n",
       "      <th></th>\n",
       "      <th>Cluster ID</th>\n",
       "      <th>Cluster Label</th>\n",
       "    </tr>\n",
       "    <tr>\n",
       "      <th>Subject</th>\n",
       "      <th>Run</th>\n",
       "      <th></th>\n",
       "      <th></th>\n",
       "    </tr>\n",
       "  </thead>\n",
       "  <tbody>\n",
       "    <tr>\n",
       "      <th>sub-010080</th>\n",
       "      <th>post-ses-02-run-02-acq-PA</th>\n",
       "      <td>1</td>\n",
       "      <td>Large F1</td>\n",
       "    </tr>\n",
       "    <tr>\n",
       "      <th rowspan=\"2\" valign=\"top\">sub-010098</th>\n",
       "      <th>post-ses-02-run-01-acq-PA</th>\n",
       "      <td>1</td>\n",
       "      <td>Large F1</td>\n",
       "    </tr>\n",
       "    <tr>\n",
       "      <th>post-ses-02-run-02-acq-AP</th>\n",
       "      <td>1</td>\n",
       "      <td>Large F1</td>\n",
       "    </tr>\n",
       "    <tr>\n",
       "      <th>sub-010101</th>\n",
       "      <th>post-ses-02-run-01-acq-AP</th>\n",
       "      <td>1</td>\n",
       "      <td>Large F1</td>\n",
       "    </tr>\n",
       "    <tr>\n",
       "      <th>sub-010018</th>\n",
       "      <th>post-ses-02-run-01-acq-AP</th>\n",
       "      <td>1</td>\n",
       "      <td>Large F1</td>\n",
       "    </tr>\n",
       "    <tr>\n",
       "      <th>...</th>\n",
       "      <th>...</th>\n",
       "      <td>...</td>\n",
       "      <td>...</td>\n",
       "    </tr>\n",
       "    <tr>\n",
       "      <th>sub-010071</th>\n",
       "      <th>post-ses-02-run-02-acq-PA</th>\n",
       "      <td>1</td>\n",
       "      <td>Large F1</td>\n",
       "    </tr>\n",
       "    <tr>\n",
       "      <th>sub-010072</th>\n",
       "      <th>post-ses-02-run-02-acq-PA</th>\n",
       "      <td>1</td>\n",
       "      <td>Large F1</td>\n",
       "    </tr>\n",
       "    <tr>\n",
       "      <th rowspan=\"3\" valign=\"top\">sub-010077</th>\n",
       "      <th>post-ses-02-run-01-acq-AP</th>\n",
       "      <td>1</td>\n",
       "      <td>Large F1</td>\n",
       "    </tr>\n",
       "    <tr>\n",
       "      <th>post-ses-02-run-01-acq-PA</th>\n",
       "      <td>1</td>\n",
       "      <td>Large F1</td>\n",
       "    </tr>\n",
       "    <tr>\n",
       "      <th>post-ses-02-run-02-acq-AP</th>\n",
       "      <td>1</td>\n",
       "      <td>Large F1</td>\n",
       "    </tr>\n",
       "  </tbody>\n",
       "</table>\n",
       "<p>90 rows × 2 columns</p>\n",
       "</div>"
      ],
      "text/plain": [
       "                                      Cluster ID Cluster Label\n",
       "Subject    Run                                                \n",
       "sub-010080 post-ses-02-run-02-acq-PA           1      Large F1\n",
       "sub-010098 post-ses-02-run-01-acq-PA           1      Large F1\n",
       "           post-ses-02-run-02-acq-AP           1      Large F1\n",
       "sub-010101 post-ses-02-run-01-acq-AP           1      Large F1\n",
       "sub-010018 post-ses-02-run-01-acq-AP           1      Large F1\n",
       "...                                          ...           ...\n",
       "sub-010071 post-ses-02-run-02-acq-PA           1      Large F1\n",
       "sub-010072 post-ses-02-run-02-acq-PA           1      Large F1\n",
       "sub-010077 post-ses-02-run-01-acq-AP           1      Large F1\n",
       "           post-ses-02-run-01-acq-PA           1      Large F1\n",
       "           post-ses-02-run-02-acq-AP           1      Large F1\n",
       "\n",
       "[90 rows x 2 columns]"
      ]
     },
     "execution_count": 12,
     "metadata": {},
     "output_type": "execute_result"
    }
   ],
   "source": [
    "clusters_info[clusters_info['Cluster Label']=='Large F1']"
   ]
  },
  {
   "cell_type": "code",
   "execution_count": 13,
   "id": "f33ef496-139c-4435-b770-e998a51bb046",
   "metadata": {},
   "outputs": [
    {
     "name": "stdout",
     "output_type": "stream",
     "text": [
      "++ INFO: Number of Clusters = 3 clusters\n"
     ]
    }
   ],
   "source": [
    "N_clusters = len(clusters_info['Cluster ID'].unique())\n",
    "print(\"++ INFO: Number of Clusters = %d clusters\" % N_clusters)"
   ]
  },
  {
   "cell_type": "code",
   "execution_count": 14,
   "id": "92c5b5c0-62ad-4dbc-9d64-bc6ef202db4d",
   "metadata": {},
   "outputs": [],
   "source": [
    "scans_per_cluster={cl_label:clusters_info[clusters_info['Cluster Label']==cl_label].index for cl_label in ['Large F1','Large F2','Middle']}"
   ]
  },
  {
   "cell_type": "code",
   "execution_count": 12,
   "id": "c4353ec7-3314-477e-9ac8-d1f20a78e74e",
   "metadata": {},
   "outputs": [
    {
     "name": "stdout",
     "output_type": "stream",
     "text": [
      "++ INFO: Design Matrix for 3 Cluster solution saved in [/data/SFIMJGC_Introspec/2023_fc_introspection/code/fc_introspection/resources/nbs/NBS_CL03_DesingMatrix.txt]\n",
      "++ INFO: Design Matrix for 3 Cluster solution has shape [(471, 3)]\n"
     ]
    }
   ],
   "source": [
    "DESIGN_MATRIX = np.vstack([np.tile(np.array([1,0,0]),(len(scans_per_cluster['Large F1']),1)),\n",
    "                           np.tile(np.array([0,1,0]),(len(scans_per_cluster['Large F2']),1)),\n",
    "                           np.tile(np.array([0,0,1]),(len(scans_per_cluster['Middle']),  1))])\n",
    "DESIGN_MATRIX_PATH = osp.join(RESOURCES_NBS_DIR,'NBS_CL03_DesingMatrix.txt')\n",
    "np.savetxt(DESIGN_MATRIX_PATH,DESIGN_MATRIX,delimiter=' ',fmt='%d')\n",
    "print('++ INFO: Design Matrix for 3 Cluster solution saved in [%s]' % DESIGN_MATRIX_PATH)\n",
    "print('++ INFO: Design Matrix for 3 Cluster solution has shape [%s]' % str(DESIGN_MATRIX.shape))"
   ]
  },
  {
   "cell_type": "code",
   "execution_count": 24,
   "id": "66cc6475-5cfe-4777-b61a-0f5aabcd063b",
   "metadata": {},
   "outputs": [
    {
     "name": "stdout",
     "output_type": "stream",
     "text": [
      "++ INFO: Design Matrix for 3 Cluster solution saved in [/data/SFIMJGC_Introspec/2023_fc_introspection/code/fc_introspection/resources/nbs/NBS_CL02_DesingMatrix.txt]\n",
      "++ INFO: Design Matrix for 3 Cluster solution has shape [(158, 2)]\n"
     ]
    }
   ],
   "source": [
    "DESIGN_MATRIX = np.vstack([np.tile(np.array([1,0]),(len(scans_per_cluster['Large F1']),1)),\n",
    "                           np.tile(np.array([0,1]),(len(scans_per_cluster['Large F2']),1))])\n",
    "DESIGN_MATRIX_PATH = osp.join(RESOURCES_NBS_DIR,'NBS_CL02_DesingMatrix.txt')\n",
    "np.savetxt(DESIGN_MATRIX_PATH,DESIGN_MATRIX,delimiter=' ',fmt='%d')\n",
    "print('++ INFO: Design Matrix for 3 Cluster solution saved in [%s]' % DESIGN_MATRIX_PATH)\n",
    "print('++ INFO: Design Matrix for 3 Cluster solution has shape [%s]' % str(DESIGN_MATRIX.shape))"
   ]
  },
  {
   "cell_type": "markdown",
   "id": "bf84c887-9d81-4937-a0f5-790248484c16",
   "metadata": {},
   "source": [
    "***\n",
    "# 3. Create Copies of Matrices in NBS folder"
   ]
  },
  {
   "cell_type": "code",
   "execution_count": 14,
   "id": "01f4dec1-03c8-4464-9ed8-0d3ce2994b87",
   "metadata": {},
   "outputs": [
    {
     "name": "stdout",
     "output_type": "stream",
     "text": [
      "++ [post_motion] Number of subjects: 133 subjects\n",
      "++ [post_motion] Number of scans:    471 scans\n"
     ]
    }
   ],
   "source": [
    "_,scans_list = get_sbj_scan_list(when='post_motion', return_snycq=False)\n",
    "Nscans = len(scans_list)"
   ]
  },
  {
   "cell_type": "code",
   "execution_count": 13,
   "id": "75c94fd2-212e-4407-96e5-f80349f63192",
   "metadata": {},
   "outputs": [
    {
     "name": "stdout",
     "output_type": "stream",
     "text": [
      "CPU times: user 5.08 s, sys: 969 ms, total: 6.05 s\n",
      "Wall time: 7.05 s\n"
     ]
    }
   ],
   "source": [
    "%%time\n",
    "sfc_Z_arr = np.empty((Nscans,Nrois,Nrois)) * np.nan\n",
    "scan_idx      = 0\n",
    "scan_name_idx = []\n",
    "for cluster_id in ['Large F1', 'Large F2','Middle']:\n",
    "    for sbj,run in scans_per_cluster[cluster_id]:\n",
    "        scan_name_idx.append('.'.join([sbj,run]))\n",
    "        _,_,sesID,_,runID,_,acqID = run.split('-')\n",
    "        sfc_path = osp.join(DATA_DIR,'PrcsData',sbj,'preprocessed','func','pb06_staticFC','{acqID}_run-{runID}.Schaefer2018_200Parcels_7Networks_000.netcc'.format(acqID=acqID,runID=runID))\n",
    "        aux_cc_r = load_netcc(sfc_path)\n",
    "        aux_cc_Z = aux_cc_r.apply(np.arctanh)\n",
    "        np.fill_diagonal(aux_cc_Z.values,1)\n",
    "        sfc_Z_arr[scan_idx,:,:] = aux_cc_Z\n",
    "        scan_idx = scan_idx + 1"
   ]
  },
  {
   "cell_type": "code",
   "execution_count": 14,
   "id": "2180d7e9-07ed-45e0-b8ba-1c684995214e",
   "metadata": {},
   "outputs": [],
   "source": [
    "sfc_Z_xr = xr.DataArray(sfc_Z_arr,\n",
    "                        dims=['scan','roi_x','roi_y'],\n",
    "                        coords={'scan':scan_name_idx,\n",
    "                                'roi_x':roi_info['ROI_ID'],\n",
    "                                'roi_y':roi_info['ROI_ID']})"
   ]
  },
  {
   "cell_type": "markdown",
   "id": "98ac5b85-78d0-4e23-885c-36376da96ea7",
   "metadata": {},
   "source": [
    "#### Create Data Folder for this solution"
   ]
  },
  {
   "cell_type": "code",
   "execution_count": 16,
   "id": "480d32f6-38b0-4695-9958-05092e025c7c",
   "metadata": {},
   "outputs": [],
   "source": [
    "NBS_CL03_matrices_folder = osp.join(RESOURCES_NBS_DIR,'NBS_CL03_Data')\n",
    "if osp.exists(NBS_CL03_matrices_folder):\n",
    "    rmtree(NBS_CL03_matrices_folder)\n",
    "os.mkdir(NBS_CL03_matrices_folder)"
   ]
  },
  {
   "cell_type": "markdown",
   "id": "fd9d7f14-02b0-428a-85ce-f84f6d132afc",
   "metadata": {},
   "source": [
    "#### Make copies of matrices into the folder"
   ]
  },
  {
   "cell_type": "code",
   "execution_count": 17,
   "id": "643dd2b1-3806-4e82-8f7e-f60995993975",
   "metadata": {},
   "outputs": [
    {
     "name": "stdout",
     "output_type": "stream",
     "text": [
      "CPU times: user 3.75 s, sys: 81.2 ms, total: 3.83 s\n",
      "Wall time: 5.25 s\n"
     ]
    }
   ],
   "source": [
    "%%time\n",
    "for i,item in enumerate(list(sfc_Z_xr.indexes['scan'])):\n",
    "    dest_path = osp.join(NBS_CL03_matrices_folder,'subject{id}.txt'.format(id=str(i+1).zfill(3)))\n",
    "    np.savetxt(dest_path,sfc_Z_xr.loc[item,:,:],delimiter=' ',fmt='%f')"
   ]
  },
  {
   "cell_type": "markdown",
   "id": "da59562a-2d86-464b-9b1a-5ca8d17ebd05",
   "metadata": {},
   "source": [
    "***\n",
    "# 3. Create Copies of Matrices in NBS folder"
   ]
  },
  {
   "cell_type": "code",
   "execution_count": 19,
   "id": "d24723ff-edd1-4321-add7-eb99b227d04f",
   "metadata": {},
   "outputs": [],
   "source": [
    "Nscans = clusters_info.set_index('Cluster Label').loc[['Large F1','Large F2']].shape[0]"
   ]
  },
  {
   "cell_type": "code",
   "execution_count": 20,
   "id": "5e3ba62d-b7fa-41c2-92a7-849955412a41",
   "metadata": {},
   "outputs": [
    {
     "name": "stdout",
     "output_type": "stream",
     "text": [
      "CPU times: user 1.62 s, sys: 202 ms, total: 1.82 s\n",
      "Wall time: 4.75 s\n"
     ]
    }
   ],
   "source": [
    "%%time\n",
    "sfc_Z_arr = np.empty((Nscans,Nrois,Nrois)) * np.nan\n",
    "scan_idx      = 0\n",
    "scan_name_idx = []\n",
    "for cluster_id in ['Large F1', 'Large F2']:\n",
    "    for sbj,run in scans_per_cluster[cluster_id]:\n",
    "        scan_name_idx.append('.'.join([sbj,run]))\n",
    "        _,_,sesID,_,runID,_,acqID = run.split('-')\n",
    "        sfc_path = osp.join(DATA_DIR,'PrcsData',sbj,'preprocessed','func','pb06_staticFC','{acqID}_run-{runID}.Schaefer2018_200Parcels_7Networks_000.netcc'.format(acqID=acqID,runID=runID))\n",
    "        aux_cc_r = load_netcc(sfc_path)\n",
    "        aux_cc_Z = aux_cc_r.apply(np.arctanh)\n",
    "        np.fill_diagonal(aux_cc_Z.values,1)\n",
    "        sfc_Z_arr[scan_idx,:,:] = aux_cc_Z\n",
    "        scan_idx = scan_idx + 1"
   ]
  },
  {
   "cell_type": "code",
   "execution_count": 21,
   "id": "713eb864-b089-45b7-a887-f23cd2dfae50",
   "metadata": {},
   "outputs": [],
   "source": [
    "sfc_Z_xr = xr.DataArray(sfc_Z_arr,\n",
    "                        dims=['scan','roi_x','roi_y'],\n",
    "                        coords={'scan':scan_name_idx,\n",
    "                                'roi_x':roi_info['ROI_ID'],\n",
    "                                'roi_y':roi_info['ROI_ID']})"
   ]
  },
  {
   "cell_type": "markdown",
   "id": "92120a1d-5fb4-46a0-958b-42a75ac059ac",
   "metadata": {},
   "source": [
    "#### Create Data Folder for this solution"
   ]
  },
  {
   "cell_type": "code",
   "execution_count": 22,
   "id": "bca9f93b-d096-46e5-9166-59c8fe5289ee",
   "metadata": {},
   "outputs": [],
   "source": [
    "NBS_CL02_matrices_folder = osp.join(RESOURCES_NBS_DIR,'NBS_CL02_Data')\n",
    "if osp.exists(NBS_CL02_matrices_folder):\n",
    "    rmtree(NBS_CL02_matrices_folder)\n",
    "os.mkdir(NBS_CL02_matrices_folder)"
   ]
  },
  {
   "cell_type": "markdown",
   "id": "c66e2b65-6451-4f39-a77c-106782cda8b5",
   "metadata": {},
   "source": [
    "#### Make copies of matrices into the folder"
   ]
  },
  {
   "cell_type": "code",
   "execution_count": 23,
   "id": "4e6ebcf5-1288-40fd-ab58-e071a5139183",
   "metadata": {},
   "outputs": [
    {
     "name": "stdout",
     "output_type": "stream",
     "text": [
      "CPU times: user 1.25 s, sys: 26 ms, total: 1.28 s\n",
      "Wall time: 1.61 s\n"
     ]
    }
   ],
   "source": [
    "%%time\n",
    "for i,item in enumerate(list(sfc_Z_xr.indexes['scan'])):\n",
    "    dest_path = osp.join(NBS_CL02_matrices_folder,'subject{id}.txt'.format(id=str(i+1).zfill(3)))\n",
    "    np.savetxt(dest_path,sfc_Z_xr.loc[item,:,:],delimiter=' ',fmt='%f')"
   ]
  },
  {
   "cell_type": "code",
   "execution_count": null,
   "id": "51587bc6-38fe-44d0-8f54-222acb33c581",
   "metadata": {},
   "outputs": [],
   "source": []
  }
 ],
 "metadata": {
  "jupytext": {
   "formats": "ipynb,auto:light"
  },
  "kernelspec": {
   "display_name": "FC Introspection (Jan 2023)",
   "language": "python",
   "name": "fc_introspection"
  },
  "language_info": {
   "codemirror_mode": {
    "name": "ipython",
    "version": 3
   },
   "file_extension": ".py",
   "mimetype": "text/x-python",
   "name": "python",
   "nbconvert_exporter": "python",
   "pygments_lexer": "ipython3",
   "version": "3.7.16"
  }
 },
 "nbformat": 4,
 "nbformat_minor": 5
}
