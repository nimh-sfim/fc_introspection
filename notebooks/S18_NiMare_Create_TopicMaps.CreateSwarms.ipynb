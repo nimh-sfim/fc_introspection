{
 "cells": [
  {
   "cell_type": "code",
   "execution_count": 1,
   "id": "882bc6cd-bc01-4a50-838d-7bfdc08752dc",
   "metadata": {},
   "outputs": [
    {
     "name": "stderr",
     "output_type": "stream",
     "text": [
      "INFO:numexpr.utils:Note: detected 72 virtual cores but NumExpr set to maximum of 64, check \"NUMEXPR_MAX_THREADS\" environment variable.\n",
      "INFO:numexpr.utils:Note: NumExpr detected 72 cores but \"NUMEXPR_MAX_THREADS\" not set, so enforcing safe limit of 8.\n",
      "INFO:numexpr.utils:NumExpr defaulting to 8 threads.\n",
      "/data/SFIMJGC_HCP7T/Apps/envs/fc_introspection/lib/python3.7/site-packages/nimare/__init__.py:74: FutureWarning: Python 3.6 and 3.7 support is deprecated and will be removed in release 0.1.0 of NiMARE. Consider switching to Python 3.8, 3.9 or 3.10.\n",
      "  _python_deprecation_warnings()\n"
     ]
    }
   ],
   "source": [
    "import os.path as osp\n",
    "import shutil\n",
    "import os\n",
    "import nimare\n",
    "from nimare.extract import fetch_neurosynth\n",
    "from nimare.io import convert_neurosynth_to_dataset\n",
    "from glob import glob\n",
    "import numpy as np\n",
    "import pickle"
   ]
  },
  {
   "cell_type": "code",
   "execution_count": 2,
   "id": "77cfc26b-92d5-49e6-aaf6-2b396574fbfa",
   "metadata": {},
   "outputs": [
    {
     "name": "stdout",
     "output_type": "stream",
     "text": [
      "0.0.13\n"
     ]
    }
   ],
   "source": [
    "print(nimare.__version__)"
   ]
  },
  {
   "cell_type": "markdown",
   "id": "ae17f125-75cf-437c-9960-2f9221cfdd62",
   "metadata": {},
   "source": [
    "# 1. Folder Setup"
   ]
  },
  {
   "cell_type": "code",
   "execution_count": 3,
   "id": "b1a1554b-d5de-4d24-9b4c-a9c4bcf6d969",
   "metadata": {},
   "outputs": [],
   "source": [
    "PRJDIR = \"/data/SFIMJGC_Introspec/2023_fc_introspection\"\n",
    "vocab = 'LDA400'"
   ]
  },
  {
   "cell_type": "code",
   "execution_count": 4,
   "id": "2ac39931-a8f2-4fa2-961d-f6d43a2a0d84",
   "metadata": {},
   "outputs": [
    {
     "name": "stdout",
     "output_type": "stream",
     "text": [
      "/data/SFIMJGC_Introspec/2023_fc_introspection/nimare/LDA400/neurosynth_dataset_LDA400.pkl.gz\n"
     ]
    }
   ],
   "source": [
    "RESOURCE_NIMARE_DIR  = osp.join(PRJDIR,'nimare')\n",
    "VOCAB_DIR            = osp.join(RESOURCE_NIMARE_DIR,vocab)\n",
    "METAMAPS_ORIG_DIR    = osp.join(VOCAB_DIR,\"meta-analyses-orig\")  # where to save meta-analysis maps\n",
    "METAMAPS_RPI_DIR     = osp.join(VOCAB_DIR,\"meta-analyses-RPI\")  # where to save meta-analysis maps\n",
    "\n",
    "ns_dset_path         = os.path.join(VOCAB_DIR, f\"neurosynth_dataset_{vocab}.pkl.gz\")\n",
    "print(ns_dset_path)"
   ]
  },
  {
   "cell_type": "code",
   "execution_count": 5,
   "id": "1af82c5d-c783-4d5d-bd65-cf5bf35ab1f5",
   "metadata": {},
   "outputs": [
    {
     "name": "stdout",
     "output_type": "stream",
     "text": [
      "++ INFO: Setting up all necessary folders\n",
      " + WARNING: Removing folder [/data/SFIMJGC_Introspec/2023_fc_introspection/nimare/LDA400]\n",
      " + INFO: Generating/Regenerating output folder [/data/SFIMJGC_Introspec/2023_fc_introspection/nimare/LDA400]\n",
      " + INFO: Generating/Regenerating output folder [/data/SFIMJGC_Introspec/2023_fc_introspection/nimare/LDA400/meta-analyses-orig]\n"
     ]
    }
   ],
   "source": [
    "# Create Empty Output Folders\n",
    "# ===========================\n",
    "print(\"++ INFO: Setting up all necessary folders\")\n",
    "for folder_path in [VOCAB_DIR, METAMAPS_ORIG_DIR]:\n",
    "    if osp.exists(folder_path):\n",
    "        print(\" + WARNING: Removing folder [%s]\" % folder_path)\n",
    "        shutil.rmtree(folder_path)\n",
    "    print(\" + INFO: Generating/Regenerating output folder [%s]\" % folder_path)\n",
    "    os.mkdir(folder_path)"
   ]
  },
  {
   "cell_type": "markdown",
   "id": "e57505d2-8478-4731-8b12-9acb39557283",
   "metadata": {},
   "source": [
    "# 2. Download Neurosynth 7 database"
   ]
  },
  {
   "cell_type": "code",
   "execution_count": 6,
   "id": "ba2320c3-e777-489b-bba1-e4dbdf62a634",
   "metadata": {},
   "outputs": [
    {
     "name": "stderr",
     "output_type": "stream",
     "text": [
      "INFO:nimare.extract.utils:Dataset created in /data/SFIMJGC_Introspec/2023_fc_introspection/nimare/LDA400/neurosynth\n",
      "INFO:nimare.extract.extract:Searching for any feature files matching the following criteria: [('vocab-LDA400', 'source-abstract', 'data-neurosynth', 'version-7')]\n"
     ]
    },
    {
     "name": "stdout",
     "output_type": "stream",
     "text": [
      "++ INFO: Fetching neurosynth dataset for this vocabulary...\n",
      "Downloading data-neurosynth_version-7_coordinates.tsv.gz\n",
      "Downloading data-neurosynth_version-7_metadata.tsv.gz\n",
      "Downloading data-neurosynth_version-7_vocab-LDA400_keys.tsv\n",
      "Downloading data-neurosynth_version-7_vocab-LDA400_metadata.json\n",
      "Downloading data-neurosynth_version-7_vocab-LDA400_source-abstract_type-weight_features.npz\n",
      "Downloading data-neurosynth_version-7_vocab-LDA400_vocabulary.txt\n"
     ]
    }
   ],
   "source": [
    "# Download NeuroSynth database\n",
    "print(\"++ INFO: Fetching neurosynth dataset for this vocabulary...\")\n",
    "files = fetch_neurosynth(data_dir=VOCAB_DIR, version=\"7\", overwrite=False, vocab=vocab, source=\"abstract\")"
   ]
  },
  {
   "cell_type": "markdown",
   "id": "99fc08eb-1e18-48f8-b16b-fbb0d4cb4ad2",
   "metadata": {},
   "source": [
    "# 3. Convert Neurosynth Database to NiMare Dataset"
   ]
  },
  {
   "cell_type": "code",
   "execution_count": 7,
   "id": "fd51ce49-1246-48a8-a56e-5dee0564ed92",
   "metadata": {},
   "outputs": [
    {
     "name": "stderr",
     "output_type": "stream",
     "text": [
      "WARNING:nimare.utils:Not applying transforms to coordinates in unrecognized space 'UNKNOWN'\n"
     ]
    },
    {
     "name": "stdout",
     "output_type": "stream",
     "text": [
      "CPU times: user 2min 46s, sys: 1.73 s, total: 2min 48s\n",
      "Wall time: 2min 42s\n"
     ]
    }
   ],
   "source": [
    "%%time\n",
    "# Convert to NiMare Dataset\n",
    "neurosynth_db = files[0]\n",
    "neurosynth_dset = convert_neurosynth_to_dataset(\n",
    "        coordinates_file=neurosynth_db['coordinates'],\n",
    "        metadata_file=neurosynth_db['metadata'],\n",
    "        annotations_files=neurosynth_db['features'],\n",
    "        )"
   ]
  },
  {
   "cell_type": "code",
   "execution_count": 8,
   "id": "d70ad248-afad-4fa2-9633-164fee910624",
   "metadata": {},
   "outputs": [
    {
     "name": "stdout",
     "output_type": "stream",
     "text": [
      " + Saving dataset to /data/SFIMJGC_Introspec/2023_fc_introspection/nimare/LDA400/neurosynth_dataset_LDA400.pkl.gz\n"
     ]
    }
   ],
   "source": [
    "# Save the dataset as a pickle file to the Resources directory\n",
    "print (\" + Saving dataset to %s\" % ns_dset_path)\n",
    "neurosynth_dset.save(ns_dset_path)"
   ]
  },
  {
   "cell_type": "code",
   "execution_count": 9,
   "id": "39b30658-8e89-41e5-b140-df26d48408bd",
   "metadata": {},
   "outputs": [
    {
     "name": "stdout",
     "output_type": "stream",
     "text": [
      "['LDA400_abstract_weight__0_exercise_igd_internet', 'LDA400_abstract_weight__1_context_contextual_contexts', 'LDA400_abstract_weight__2_sulcus_intraparietal_ips', 'LDA400_abstract_weight__3_individuals_resonance_magnetic', 'LDA400_abstract_weight__4_mood_affective_induction', 'LDA400_abstract_weight__5_judgments_judgment_judged', 'LDA400_abstract_weight__6_long_term_short', 'LDA400_abstract_weight__7_passive_viewing_listening', 'LDA400_abstract_weight__8_arousal_subjective_ratings', 'LDA400_abstract_weight__9_amplitude_spontaneous_frequency']\n",
      "400\n"
     ]
    }
   ],
   "source": [
    "# Extract Topic Names\n",
    "topics_ORIG = neurosynth_dset.get_labels()\n",
    "print(topics_ORIG[0:10])\n",
    "print(len(topics_ORIG))"
   ]
  },
  {
   "cell_type": "markdown",
   "id": "68ef7e9b-0827-4a62-beb0-12a3d85268ed",
   "metadata": {},
   "source": [
    "***"
   ]
  },
  {
   "cell_type": "markdown",
   "id": "e4a7f91c-ccc6-41b1-9f98-f259fa6f7dc3",
   "metadata": {},
   "source": [
    "# 4. Train LDA Model\n",
    "\n",
    "> Call S20s for 50 and 400 topics. This takes days to run and about 100GB of memory. Can be run on spersist node with 24 cpus using the NUMEXPR_MAX_THREADS environment variable."
   ]
  },
  {
   "cell_type": "code",
   "execution_count": 10,
   "id": "7447f0f7-5b47-4fd2-af5e-60f9f1f7e36e",
   "metadata": {},
   "outputs": [],
   "source": [
    "lda_model_path = f'/data/SFIMJGC_Introspec/prj2021_dyneusr/Resources_NiMare/{vocab}/lda_model.pkl.gz'\n",
    "with open(lda_model_path,'rb') as f:\n",
    "    model_results = pickle.load(f)"
   ]
  },
  {
   "cell_type": "code",
   "execution_count": 11,
   "id": "534d4780-384b-4e65-a3af-5f6e4a795fb7",
   "metadata": {},
   "outputs": [],
   "source": [
    "neurosynth_EXTRA_dset = model_results['new_dset']"
   ]
  },
  {
   "cell_type": "code",
   "execution_count": 12,
   "id": "c129fd51-bd60-4196-b502-4b5538620543",
   "metadata": {},
   "outputs": [
    {
     "name": "stdout",
     "output_type": "stream",
     "text": [
      "400 800\n"
     ]
    }
   ],
   "source": [
    "topics       = neurosynth_dset.get_labels()\n",
    "topics_EXTRA = neurosynth_EXTRA_dset.get_labels()\n",
    "print(len(topics), len(topics_EXTRA))"
   ]
  },
  {
   "cell_type": "code",
   "execution_count": 13,
   "id": "c414148a-ce10-480d-969d-be9d7035582a",
   "metadata": {},
   "outputs": [
    {
     "name": "stdout",
     "output_type": "stream",
     "text": [
      " + Saving dataset to /data/SFIMJGC_Introspec/2023_fc_introspection/nimare/LDA400/neurosynth_dataset_LDA400_EXTRA.pkl.gz\n"
     ]
    }
   ],
   "source": [
    "# Save the dataset as a pickle file to the Resources directory\n",
    "ns_dset_EXTRA_path         = os.path.join(VOCAB_DIR, f\"neurosynth_dataset_{vocab}_EXTRA.pkl.gz\")\n",
    "print (\" + Saving dataset to %s\" % ns_dset_EXTRA_path)\n",
    "neurosynth_EXTRA_dset.save(ns_dset_EXTRA_path)"
   ]
  },
  {
   "cell_type": "markdown",
   "id": "e12ef69e-1a41-4bb0-bddb-f53208d4301e",
   "metadata": {},
   "source": [
    "# 5. Generate Topic Maps"
   ]
  },
  {
   "cell_type": "code",
   "execution_count": 14,
   "id": "7ef04efd-7433-4791-90cc-8b35048394ec",
   "metadata": {},
   "outputs": [
    {
     "name": "stdout",
     "output_type": "stream",
     "text": [
      "++ INFO: Project Dir:                  /data/SFIMJGC_Introspec/2023_fc_introspection\n",
      "++ INFO: Bash Scripts Dir:             /data/SFIMJGC_Introspec/2023_fc_introspection/code/fc_introspection/bash\n",
      "++ INFO: Data Dir:                     /data/SFIMJGC_Introspec/pdn\n"
     ]
    }
   ],
   "source": [
    "import pandas as pd\n",
    "import os.path as osp\n",
    "import os\n",
    "from datetime import datetime\n",
    "import getpass\n",
    "import subprocess\n",
    "\n",
    "from utils.basics import get_sbj_scan_list\n",
    "\n",
    "from utils.basics import PRJ_DIR, DATA_DIR, SCRIPTS_DIR #NOTEBOOKS_DIR, RESOURCES_DINFO_DIR, PREPROCESSING_NOTES_DIR, \n",
    "print('++ INFO: Project Dir:                  %s' % PRJ_DIR) \n",
    "#print('++ INFO: Notebooks Dir:                %s' % NOTEBOOKS_DIR) \n",
    "print('++ INFO: Bash Scripts Dir:             %s' % SCRIPTS_DIR)\n",
    "#print('++ INFO: Resources (Dataset Info) Dir: %s' % RESOURCES_DINFO_DIR)\n",
    "#print('++ INFO: Pre-processing Notes Dir:     %s' % PREPROCESSING_NOTES_DIR)\n",
    "print('++ INFO: Data Dir:                     %s' % DATA_DIR)"
   ]
  },
  {
   "cell_type": "code",
   "execution_count": 15,
   "id": "2a586c7c-4f35-49e8-83e5-4d7a1458bd53",
   "metadata": {},
   "outputs": [
    {
     "name": "stdout",
     "output_type": "stream",
     "text": [
      "++ INFO: user working now --> javiergc\n"
     ]
    }
   ],
   "source": [
    "username = getpass.getuser()\n",
    "print('++ INFO: user working now --> %s' % username)"
   ]
  },
  {
   "cell_type": "code",
   "execution_count": 16,
   "id": "fc3b16de-9e88-40fa-8c98-3eae702653b4",
   "metadata": {},
   "outputs": [
    {
     "name": "stdout",
     "output_type": "stream",
     "text": [
      "++ INFO: swarm_path = /data/SFIMJGC_Introspec/2023_fc_introspection/SwarmFiles.javiergc/S19_NiMareTopics_LDA400.SWARM.sh\n",
      "++ INFO: logs dir   = /data/SFIMJGC_Introspec/2023_fc_introspection/Logs.javiergc/S19_NiMareTopics_LDA400.logs\n"
     ]
    }
   ],
   "source": [
    "#user specific folders\n",
    "#=====================\n",
    "swarm_folder   = osp.join(PRJ_DIR,'SwarmFiles.{username}'.format(username=username))\n",
    "logs_folder    = osp.join(PRJ_DIR,'Logs.{username}'.format(username=username))\n",
    "\n",
    "swarm_path     = osp.join(swarm_folder,f'S19_NiMareTopics_{vocab}.SWARM.sh')\n",
    "logdir_path    = osp.join(logs_folder, f'S19_NiMareTopics_{vocab}.logs')\n",
    "print('++ INFO: swarm_path = %s' % swarm_path)\n",
    "print('++ INFO: logs dir   = %s' % logdir_path)"
   ]
  },
  {
   "cell_type": "code",
   "execution_count": 17,
   "id": "01e8d0bc-a3eb-452b-8d0f-5129cdc5d262",
   "metadata": {},
   "outputs": [],
   "source": [
    "# create user specific folders if needed\n",
    "# ======================================\n",
    "if not osp.exists(swarm_folder):\n",
    "    os.makedirs(swarm_folder)\n",
    "    print('++ INFO: New folder for swarm files created [%s]' % swarm_folder)\n",
    "if not osp.exists(logdir_path):\n",
    "    os.makedirs(logdir_path)\n",
    "    print('++ INFO: New folder for log files created [%s]' % logdir_path)"
   ]
  },
  {
   "cell_type": "code",
   "execution_count": 18,
   "id": "01a31d98-0408-4e10-b002-1e6962d01d41",
   "metadata": {},
   "outputs": [],
   "source": [
    "# Open the file\n",
    "swarm_file = open(swarm_path, \"w\")\n",
    "# Log the date and time when the SWARM file is created\n",
    "swarm_file.write('#Create Time: %s' % datetime.now().strftime(\"%d/%m/%Y %H:%M:%S\"))\n",
    "swarm_file.write('\\n')\n",
    "# Insert comment line with SWARM command\n",
    "swarm_file.write('#swarm -f {swarm_path} -g 32 -t 8 --partition quick,norm -b 5 --time 00:48:00 --logdir {logdir_path}'.format(swarm_path=swarm_path,logdir_path=logdir_path))\n",
    "swarm_file.write('\\n')\n",
    "\n",
    "# Insert one line per subject\n",
    "for topic in topics_EXTRA:\n",
    "    topic = topic.replace(' ','-')\n",
    "    swarm_file.write(f\"export VOCAB={vocab} TOPIC={topic}; sh {SCRIPTS_DIR}/S19_NiMare_Create_TopicMaps.sh\")\n",
    "    swarm_file.write('\\n')\n",
    "swarm_file.close()"
   ]
  },
  {
   "cell_type": "markdown",
   "id": "9c400803-f647-4068-a19a-99b3fafc8fd9",
   "metadata": {},
   "source": [
    "# 5. Flip them to RPI\n",
    "\n",
    "> Need code to generate the master file"
   ]
  },
  {
   "cell_type": "code",
   "execution_count": 19,
   "id": "15ac04e7-1dab-409e-a5c0-3063b9e17944",
   "metadata": {},
   "outputs": [],
   "source": [
    "# Path to script that will generate the corrected version of the meta-analytic maps\n",
    "nimare_flip_metamaps_script_path = osp.join(SCRIPTS_DIR,'STEP19_NiMare_Flip_TopicMaps.{vocab}.sh'.format(vocab=vocab))\n",
    "\n",
    "# Path to fMRI Dataset to be used as reference when resampling. We pick the final data in MNI space from one random subject. All other subjects should be in the same space/grid\n",
    "master_path = '/data/SFIMJGC_Introspec/2023_fc_introspection/nimare/NiMare_Decoding_Mask_GMribbon_2023.nii.gz'"
   ]
  },
  {
   "cell_type": "code",
   "execution_count": 20,
   "id": "f6e7eb95-d871-437f-8852-158bb76642fb",
   "metadata": {},
   "outputs": [
    {
     "name": "stdout",
     "output_type": "stream",
     "text": [
      "800\n"
     ]
    }
   ],
   "source": [
    "nimare_metamaps_orig        = sorted(glob(os.path.join(METAMAPS_ORIG_DIR, f\"{vocab}_*z_desc-specificity.nii.gz\")))\n",
    "print(len(nimare_metamaps_orig))"
   ]
  },
  {
   "cell_type": "code",
   "execution_count": 21,
   "id": "bb28125f-0eaa-479e-a734-84ed01947141",
   "metadata": {},
   "outputs": [],
   "source": [
    "nimare_flip_metamaps_script = open(nimare_flip_metamaps_script_path, \"w\")\n",
    "nimare_flip_metamaps_script.write('# Script to create flipped version of NiMare outputs\\n')\n",
    "nimare_flip_metamaps_script.write('module load afni\\n')\n",
    "nimare_flip_metamaps_script.write('\\n')\n",
    "nimare_flip_metamaps_script.write('set -e\\n')\n",
    "nimare_flip_metamaps_script.write('\\n')\n",
    "nimare_flip_metamaps_script.write('# Create output folder (if needed)\\n')\n",
    "nimare_flip_metamaps_script.write('if [ ! -d {out_folder} ]; then mkdir {out_folder}; fi\\n\\n'.format(out_folder=METAMAPS_RPI_DIR))\n",
    "for orig_path in nimare_metamaps_orig:\n",
    "    orig_file = osp.basename(orig_path)\n",
    "    #orig_file = orig_file.replace(' ','\\ ')\n",
    "    new_path  = osp.join(METAMAPS_RPI_DIR,orig_file)\n",
    "    #new_path  = new_path.replace(' ','-')\n",
    "    nimare_flip_metamaps_script.write('3dLRflip -LR -overwrite -prefix \"{out_file}\" \"{in_file}\"\\n'.format(in_file=orig_path, out_file=new_path))\n",
    "    nimare_flip_metamaps_script.write('3drefit -orient RPI -space MNI \"{in_file}\"\\n'.format(in_file=new_path))\n",
    "    nimare_flip_metamaps_script.write('3dresample -overwrite -master {master_path} -input \"{in_file}\" -prefix \"{out_file}\"\\n\\n'.format(master_path = master_path,\n",
    "                                                                                                                               in_file = new_path,\n",
    "                                                                                                                               out_file = new_path))\n",
    "nimare_flip_metamaps_script.close()"
   ]
  },
  {
   "cell_type": "code",
   "execution_count": 22,
   "id": "634c7715-6196-4ef7-9e82-6dcd25aa6322",
   "metadata": {},
   "outputs": [
    {
     "data": {
      "text/plain": [
       "'/data/SFIMJGC_Introspec/2023_fc_introspection/code/fc_introspection/bash/STEP19_NiMare_Flip_TopicMaps.LDA400.sh'"
      ]
     },
     "execution_count": 22,
     "metadata": {},
     "output_type": "execute_result"
    }
   ],
   "source": [
    "nimare_flip_metamaps_script_path"
   ]
  },
  {
   "cell_type": "code",
   "execution_count": null,
   "id": "a5fb93b0-c9e8-45b5-b071-ece65f24a5c2",
   "metadata": {},
   "outputs": [],
   "source": []
  }
 ],
 "metadata": {
  "jupytext": {
   "formats": "ipynb,auto:light"
  },
  "kernelspec": {
   "display_name": "FC Introspection (Jan 2023)",
   "language": "python",
   "name": "fc_introspection"
  },
  "language_info": {
   "codemirror_mode": {
    "name": "ipython",
    "version": 3
   },
   "file_extension": ".py",
   "mimetype": "text/x-python",
   "name": "python",
   "nbconvert_exporter": "python",
   "pygments_lexer": "ipython3",
   "version": "3.7.16"
  }
 },
 "nbformat": 4,
 "nbformat_minor": 5
}
