{
 "cells": [
  {
   "cell_type": "markdown",
   "id": "1fbb2de9-520d-4355-8380-03f062593c60",
   "metadata": {},
   "source": [
    "# Description - Create Swarm File to run transformation to MNI pipeline on the preprocessed data\n",
    "\n",
    "This notebook contians the code to extract representative timeseries for ROIs using the 7 Networks / 200 ROIs version of the Yeo Atlas.\n",
    "\n",
    "First, we will prepare the atlas for its use in this work\n",
    "\n",
    "Next, we will run AFNI's program ```3dNetCorr``` to extract the represenative timeseries. This second step will be done via a swarm job."
   ]
  },
  {
   "cell_type": "markdown",
   "id": "4a3e3535-40ba-41de-9371-da5a3403f797",
   "metadata": {},
   "source": [
    "Prior to running this notebook you need to make sure the following variables are correctly set:\n",
    "\n",
    "1. Assign the full path to the atlases folder to variable [```ATLASES_DIR``` in ```basics.py```](https://github.com/nimh-sfim/fc_introspection/blob/main/notebooks/utils/basics.py#L65).\n",
    "\n",
    "2. Assign the name of the cortical atlas (Schaefer2018_200Parcels_7Networks) to the [```CORTICAL_ATLAS_NAME``` variable in ```basics.py```](https://github.com/nimh-sfim/fc_introspection/blob/main/notebooks/utils/basics.py#L66).\n",
    "\n",
    "3. Assign the name of the cortical atlas (aal2) to the [```SUBCORTICAL_ATLAS_NAME``` variable in ```basics.py```](https://github.com/nimh-sfim/fc_introspection/blob/main/notebooks/utils/basics.py#L68).\n",
    "\n",
    "> **NOTE**: Initially, you will only need to change the ATLASES_DIR value to match your system configuration. For the other two, you should be able to use the values provided.\n"
   ]
  },
  {
   "cell_type": "code",
   "execution_count": 1,
   "id": "9982f56e-8948-4198-a1fd-c3e24dcb1b4c",
   "metadata": {},
   "outputs": [],
   "source": [
    "import subprocess\n",
    "import getpass\n",
    "import os\n",
    "import pandas as pd\n",
    "from datetime import datetime\n",
    "from shutil import rmtree\n",
    "from utils.basics import CORTICAL_ATLAS_PATH, CORTICAL_ATLAS_NAME, SUBCORTICAL_ATLAS_PATH, SUBCORTICAL_ATLAS_NAME, FB_ATLAS_NAME, FB_ATLAS_PATH\n",
    "from utils.basics import DATA_DIR, PRJ_DIR, SCRIPTS_DIR, ATLASES_DIR\n",
    "from utils.basics import get_sbj_scan_list\n",
    "import os.path as osp\n",
    "from sfim_lib.atlases.raking import correct_ranked_atlas"
   ]
  },
  {
   "cell_type": "markdown",
   "id": "048dba58-85c5-43fb-bf70-f624cfa4f3d5",
   "metadata": {},
   "source": [
    "# 1. Atlas Preparation: Schaeffer 200 ROI Atlas\n",
    "\n",
    "This project uses the 200 ROI version of the Schaefer Atlas sorted according to the 7 Yeo Networks. This atlas is publicly available [here](https://github.com/ThomasYeoLab/CBIG/tree/master/stable_projects/brain_parcellation/Schaefer2018_LocalGlobal).\n",
    "\n",
    "To prepare this atlas for the project, please perform the following operations:\n",
    "\n",
    "1. Create a local folder for brain parcellations: (e.g., ```/data/SFIMJGC_Introspec/2023_fc_intrsopection/atlases```)\n",
    "\n",
    "\n",
    "   > **NOTE**: Unless you are using a different version of the Schaefer Atlas, you can skip this step.\n",
    "\n",
    "\n",
    "3. Create a sub-folder for the 200 Schaefer Atlas:\n",
    "```bash\n",
    "cd ${ATLASES_DIR}\n",
    "mkdir Schaefer2018_200Parcels_7Networks\n",
    "```\n",
    "\n",
    "3. Copy the following files from their original location in CBIG repo (link above) to your local Schaefer Atlas folder:\n",
    "\n",
    "* [```Schaefer2018_200Parcels_7Networks_order_FSLMNI152_2mm.nii.gz```](https://github.com/ThomasYeoLab/CBIG/tree/master/stable_projects/brain_parcellation/Schaefer2018_LocalGlobal/Parcellations/MNI/Schaefer2018_200Parcels_7Networks_order_FSLMNI152_2mm.nii.gz): 200 ROI Atlas / 7 Yeo Networks in MNI space on a 2mm grid.\n",
    "\n",
    "* [```Schaefer2018_200Parcels_7Networks_order.txt```](https://github.com/ThomasYeoLab/CBIG/tree/master/stable_projects/brain_parcellation/Schaefer2018_LocalGlobal/Parcellations/MNI/freeview_lut/Schaefer2018_200Parcels_7Networks_order.txt): list of all ROI, their network membership and color code (RGB).\n",
    "\n",
    "* [```Schaefer2018_200Parcels_7Networks_order.lut```](https://github.com/ThomasYeoLab/CBIG/tree/master/stable_projects/brain_parcellation/Schaefer2018_LocalGlobal/Parcellations/MNI/fsleyes_lut/Schaefer2018_200Parcels_7Networks_order.lut): same as above, but coded for FSL eyes.\n",
    "\n",
    "* [```Schaefer2018_200Parcels_7Networks_order_FSLMNI152_2mm.Centroid_RAS.csv```](https://github.com/ThomasYeoLab/CBIG/tree/master/stable_projects/brain_parcellation/Schaefer2018_LocalGlobal/Parcellations/MNI/Centroid_coordinates/Schaefer2018_200Parcels_7Networks_order_FSLMNI152_2mm.Centroid_RAS.csv): information about each ROI centroid coordinates."
   ]
  },
  {
   "cell_type": "markdown",
   "id": "a4d2cad9-0210-406c-9ccb-f78ba59640cb",
   "metadata": {},
   "source": [
    "4. Correct space, generate label table and attach it to atlas file"
   ]
  },
  {
   "cell_type": "code",
   "execution_count": 2,
   "id": "5af3cc8b-151a-4e37-81c0-292667d6243f",
   "metadata": {
    "scrolled": true,
    "tags": []
   },
   "outputs": [
    {
     "name": "stdout",
     "output_type": "stream",
     "text": [
      "[+] Loading AFNI current-openmp  ... \n",
      "AFNI/current-openmp last updated  2023-02-10\n",
      "\n",
      "++ 3drefit: AFNI version=AFNI_23.0.03 (Feb  6 2023) [64-bit]\n",
      "++ Authored by: RW Cox\n",
      "++ Processing AFNI dataset Schaefer2018_200Parcels_7Networks_order_FSLMNI152_2mm.nii.gz\n",
      "\u001b[7m*+ WARNING:\u001b[0m Changing the space of an ORIG view dataset may cause confusion!\n",
      "\u001b[7m*+ WARNING:\u001b[0m  NIFTI copies will be interpreted as TLRC view (not TLRC space).\n",
      "\u001b[7m*+ WARNING:\u001b[0m  Consider changing the view of the dataset to TLRC view also\n",
      " + loading and re-writing dataset Schaefer2018_200Parcels_7Networks_order_FSLMNI152_2mm.nii.gz (/gpfs/gsfs11/users/SFIMJGC_Introspec/2023_fc_introspection/atlases/Schaefer2018_200Parcels_7Networks/Schaefer2018_200Parcels_7Networks_order_FSLMNI152_2mm.nii.gz in NIFTI storage)\n",
      "++ 3drefit processed 1 datasets\n",
      "++ 3drefit: AFNI version=AFNI_23.0.03 (Feb  6 2023) [64-bit]\n",
      "++ Authored by: RW Cox\n",
      "++ Processing AFNI dataset Schaefer2018_200Parcels_7Networks_order_FSLMNI152_2mm.nii.gz\n",
      " + setting labeltable\n",
      " + loading and re-writing dataset Schaefer2018_200Parcels_7Networks_order_FSLMNI152_2mm.nii.gz (/gpfs/gsfs11/users/SFIMJGC_Introspec/2023_fc_introspection/atlases/Schaefer2018_200Parcels_7Networks/Schaefer2018_200Parcels_7Networks_order_FSLMNI152_2mm.nii.gz in NIFTI storage)\n",
      "++ 3drefit processed 1 datasets\n"
     ]
    }
   ],
   "source": [
    "# Correct the space tag, generate a label table, attach it to the original atlas file.\n",
    "command = \"\"\"module load afni; \\\n",
    "   cd {ATLAS_PATH}; \\\n",
    "   3drefit -space MNI {ATLAS_NAME}_order_FSLMNI152_2mm.nii.gz; \\\n",
    "   @MakeLabelTable -lab_file {ATLAS_NAME}_order.txt 1 0 -labeltable {ATLAS_NAME}_order.niml.lt -dset {ATLAS_NAME}_order_FSLMNI152_2mm.nii.gz;\"\"\".format(ATLAS_PATH=CORTICAL_ATLAS_PATH,ATLAS_NAME=CORTICAL_ATLAS_NAME)\n",
    "output  = subprocess.check_output(command, shell=True, stderr=subprocess.STDOUT)\n",
    "print(output.strip().decode())"
   ]
  },
  {
   "cell_type": "markdown",
   "id": "166a2add-6fd0-496f-ae9b-2cba7db6813b",
   "metadata": {},
   "source": [
    "5. Convert Atlas file to final grid of all pre-processed data"
   ]
  },
  {
   "cell_type": "code",
   "execution_count": 3,
   "id": "399116f8-a25d-4781-9fc9-1eac364e4c05",
   "metadata": {},
   "outputs": [
    {
     "name": "stdout",
     "output_type": "stream",
     "text": [
      "[+] Loading AFNI current-openmp  ... \n",
      "AFNI/current-openmp last updated  2023-02-10\n",
      "\n",
      "++ 3dZeropad: AFNI version=AFNI_23.0.03 (Feb  6 2023) [64-bit]\n",
      "++ 3dZeropad -master => -I 0 -S -12 -A -6 -P -8 -R -7 -L -10\n",
      "++ output dataset: ./Schaefer2018_200Parcels_7Networks_order_FSLMNI152_2mm.nii.gz\n",
      "++ 3drefit: AFNI version=AFNI_23.0.03 (Feb  6 2023) [64-bit]\n",
      "++ Authored by: RW Cox\n",
      "++ Processing AFNI dataset Schaefer2018_200Parcels_7Networks_order_FSLMNI152_2mm.nii.gz\n",
      " + setting labeltable\n",
      " + loading and re-writing dataset Schaefer2018_200Parcels_7Networks_order_FSLMNI152_2mm.nii.gz (/gpfs/gsfs11/users/SFIMJGC_Introspec/2023_fc_introspection/atlases/Schaefer2018_200Parcels_7Networks/Schaefer2018_200Parcels_7Networks_order_FSLMNI152_2mm.nii.gz in NIFTI storage)\n",
      "++ 3drefit processed 1 datasets\n"
     ]
    }
   ],
   "source": [
    "# Put in the final grid that agress with that of all fully pre-processed functional scans\n",
    "command = \"\"\"module load afni; \\\n",
    "   cd {ATLAS_PATH}; \\\n",
    "   3dZeropad -overwrite -master {DATA_DIR}/PrcsData/ALL_SCANS/all_mean.box.nii.gz -prefix {ATLAS_NAME}_order_FSLMNI152_2mm.nii.gz {ATLAS_NAME}_order_FSLMNI152_2mm.nii.gz; \\\n",
    "   3drefit -labeltable {ATLAS_NAME}_order.niml.lt {ATLAS_NAME}_order_FSLMNI152_2mm.nii.gz\"\"\".format(ATLAS_PATH=CORTICAL_ATLAS_PATH,ATLAS_NAME=CORTICAL_ATLAS_NAME, DATA_DIR=DATA_DIR)\n",
    "output  = subprocess.check_output(command, shell=True, stderr=subprocess.STDOUT)\n",
    "print(output.strip().decode())"
   ]
  },
  {
   "cell_type": "markdown",
   "id": "648e8bb9-725f-4229-8c0c-d7c28288fc2e",
   "metadata": {},
   "source": [
    "6. Remove regions with bad coverage from the atlas"
   ]
  },
  {
   "cell_type": "code",
   "execution_count": 4,
   "id": "3902a117-a437-4c9f-8401-732be60e55dd",
   "metadata": {},
   "outputs": [
    {
     "name": "stdout",
     "output_type": "stream",
     "text": [
      "[+] Loading AFNI current-openmp  ... \n",
      "AFNI/current-openmp last updated  2023-02-10\n",
      "\n",
      "++ 3dcalc: AFNI version=AFNI_23.0.03 (Feb  6 2023) [64-bit]\n",
      "++ Authored by: A cast of thousands\n",
      "++ Output dataset ./Schaefer2018_200Parcels_7Networks_Removed_ROIs.nii.gz\n",
      "++ 3dcalc: AFNI version=AFNI_23.0.03 (Feb  6 2023) [64-bit]\n",
      "++ Authored by: A cast of thousands\n",
      "++ Output dataset ./Schaefer2018_200Parcels_7Networks_order_FSLMNI152_2mm.nii.gz\n",
      "++ 3drefit: AFNI version=AFNI_23.0.03 (Feb  6 2023) [64-bit]\n",
      "++ Authored by: RW Cox\n",
      "++ Processing AFNI dataset Schaefer2018_200Parcels_7Networks_order_FSLMNI152_2mm.nii.gz\n",
      " + setting labeltable\n",
      " + loading and re-writing dataset Schaefer2018_200Parcels_7Networks_order_FSLMNI152_2mm.nii.gz (/gpfs/gsfs11/users/SFIMJGC_Introspec/2023_fc_introspection/atlases/Schaefer2018_200Parcels_7Networks/Schaefer2018_200Parcels_7Networks_order_FSLMNI152_2mm.nii.gz in NIFTI storage)\n",
      "++ 3drefit processed 1 datasets\n"
     ]
    }
   ],
   "source": [
    "# Remove a series of regions with bad coverage / low signal levels\n",
    "# Limbic LH Temporal Pole 1-4: 57,58,59,60\n",
    "# Limbic RH Temporal Pole 1-3: 162,163,164\n",
    "# Limbic LH OFC 1-2: 55,56\n",
    "# Limbic RH OFC 1-3: 159,160,161\n",
    "# LH_Default_Temp_2: 75 | for several scans this ROI caused issues \n",
    "command=\"\"\"module load afni; \\\n",
    "           cd {ATLAS_PATH}; \\\n",
    "           3dcalc -overwrite \\\n",
    "                  -a {ATLAS_NAME}_order_FSLMNI152_2mm.nii.gz \\\n",
    "                  -expr 'equals(a,57)+equals(a,58)+equals(a,59)+equals(a,60)+equals(a,162)+equals(a,163)+equals(a,164)+equals(a,55)+equals(a,56)+equals(a,159)+equals(a,160)+equals(a,161)+equals(a,75)' \\\n",
    "                  -prefix {ATLAS_NAME}_Removed_ROIs.nii.gz; \\\n",
    "           3dcalc -overwrite \\\n",
    "                  -a      {ATLAS_NAME}_order_FSLMNI152_2mm.nii.gz \\\n",
    "                  -expr 'a-57*equals(a,57)-58*equals(a,58)-59*equals(a,59)-60*equals(a,60)-162*equals(a,162)-163*equals(a,163)-164*equals(a,164)-55*equals(a,55)-56*equals(a,56)-159*equals(a,159)-160*equals(a,160)-161*equals(a,161)-75*equals(a,75)' \\\n",
    "                  -prefix {ATLAS_NAME}_order_FSLMNI152_2mm.nii.gz; \\\n",
    "           3drefit -labeltable {ATLAS_NAME}_order.niml.lt {ATLAS_NAME}_order_FSLMNI152_2mm.nii.gz\"\"\".format(ATLAS_PATH=CORTICAL_ATLAS_PATH,ATLAS_NAME=CORTICAL_ATLAS_NAME, DATA_DIR=DATA_DIR)\n",
    "output  = subprocess.check_output(command, shell=True, stderr=subprocess.STDOUT)\n",
    "print(output.strip().decode())"
   ]
  },
  {
   "cell_type": "markdown",
   "id": "fca7f82a-a116-469c-996d-c4d88e7d9538",
   "metadata": {},
   "source": [
    "7. Rank the atlas with missing ROIs"
   ]
  },
  {
   "cell_type": "code",
   "execution_count": 5,
   "id": "97d98dc9-9ee8-43e9-b05d-1759af0a0700",
   "metadata": {},
   "outputs": [
    {
     "name": "stdout",
     "output_type": "stream",
     "text": [
      "[+] Loading AFNI current-openmp  ... \n",
      "AFNI/current-openmp last updated  2023-02-10\n",
      "\n",
      "++ Output dataset /gpfs/gsfs11/users/SFIMJGC_Introspec/2023_fc_introspection/atlases/Schaefer2018_200Parcels_7Networks/Schaefer2018_200Parcels_7Networks_order_FSLMNI152_2mm.ranked.nii.gz\n"
     ]
    }
   ],
   "source": [
    "command = \"\"\"module load afni; \\\n",
    "             cd {ATLAS_PATH}; \\\n",
    "             3dRank -prefix {ATLAS_NAME}_order_FSLMNI152_2mm.ranked.nii.gz -input {ATLAS_NAME}_order_FSLMNI152_2mm.nii.gz;\"\"\".format(ATLAS_PATH=CORTICAL_ATLAS_PATH,ATLAS_NAME=CORTICAL_ATLAS_NAME)\n",
    "output  = subprocess.check_output(command, shell=True, stderr=subprocess.STDOUT)\n",
    "print(output.strip().decode())"
   ]
  },
  {
   "cell_type": "markdown",
   "id": "8ce0544b-bfc7-44d3-b57b-f9441d17f2b5",
   "metadata": {},
   "source": [
    "8. Create rank corrected Order & Centroid Files"
   ]
  },
  {
   "cell_type": "code",
   "execution_count": 6,
   "id": "3089bd55-58bb-4255-bd89-005d9a247e6d",
   "metadata": {},
   "outputs": [
    {
     "name": "stdout",
     "output_type": "stream",
     "text": [
      "++ INFO [correct_ranked_shaefer_atlas] Original Order File in memory [(200, 5)]\n",
      "++ INFO [correct_ranked_shaefer_atlas] Original Centroids File in memory [(200, 4)]\n",
      "++ INFO [correct_ranked_shaefer_atlas] Rank information in memory    [(188, 2)]\n",
      "++ INFO [correct_ranked_shaefer_atlas] New order file written to disk: /data/SFIMJGC_Introspec/2023_fc_introspection/atlases/Schaefer2018_200Parcels_7Networks/Schaefer2018_200Parcels_7Networks_order.ranked.txt\n",
      "++ INFO [correct_ranked_shaefer_atlas] New centroids file written to disk: /data/SFIMJGC_Introspec/2023_fc_introspection/atlases/Schaefer2018_200Parcels_7Networks/Schaefer2018_200Parcels_7Networks_order_FSLMNI152_2mm.Centroid_RAS.ranked.txt\n",
      "======================================\n",
      " + Original Number of ROIs = 200\n",
      " + New      Number of ROIs = 187\n",
      "======================================\n",
      " + Last entry in original Order File:\n",
      "ID      7Networks_RH_Default_pCunPCC_3\n",
      "R                                  208\n",
      "G                                   63\n",
      "B                                   77\n",
      "Size                                 0\n",
      "Name: 200, dtype: object\n",
      " + Last entry in new Order File:\n",
      "Number                               187\n",
      "ID        7Networks_RH_Default_pCunPCC_3\n",
      "R                                    208\n",
      "G                                     63\n",
      "B                                     77\n",
      "Size                                   0\n",
      "Name: 186, dtype: object\n",
      "======================================\n",
      " + Last entry in original Centroids File:\n",
      "ROI Name    7Networks_RH_Default_pCunPCC_3\n",
      "R                                        6\n",
      "A                                      -58\n",
      "S                                       44\n",
      "Name: 200, dtype: object\n",
      " + Last entry in new Centroids File:\n",
      "ROI Label                               187\n",
      "ROI Name     7Networks_RH_Default_pCunPCC_3\n",
      "R                                         6\n",
      "A                                       -58\n",
      "S                                        44\n",
      "Name: 186, dtype: object\n"
     ]
    }
   ],
   "source": [
    "path_to_order_file = osp.join(CORTICAL_ATLAS_PATH,'Schaefer2018_200Parcels_7Networks_order.txt')\n",
    "path_to_rank_file  = osp.join(CORTICAL_ATLAS_PATH,'Schaefer2018_200Parcels_7Networks_order_FSLMNI152_2mm.ranked.nii.gz.rankmap.1D')\n",
    "path_to_centroids_file = osp.join(CORTICAL_ATLAS_PATH,'Schaefer2018_200Parcels_7Networks_order_FSLMNI152_2mm.Centroid_RAS.csv')\n",
    "correct_ranked_atlas(path_to_order_file,path_to_centroids_file,path_to_rank_file)"
   ]
  },
  {
   "cell_type": "markdown",
   "id": "1415f242-b7f6-4f5e-b8c5-f635979777fd",
   "metadata": {},
   "source": [
    "9. Add corrected label table to the ranked version of the atlas"
   ]
  },
  {
   "cell_type": "code",
   "execution_count": 7,
   "id": "c2a1c15a-bf49-4f7b-929e-7276b6119427",
   "metadata": {},
   "outputs": [
    {
     "name": "stdout",
     "output_type": "stream",
     "text": [
      "[+] Loading AFNI current-openmp  ... \n",
      "AFNI/current-openmp last updated  2023-02-10\n",
      "\n",
      "++ 3drefit: AFNI version=AFNI_23.0.03 (Feb  6 2023) [64-bit]\n",
      "++ Authored by: RW Cox\n",
      "++ Processing AFNI dataset Schaefer2018_200Parcels_7Networks_order_FSLMNI152_2mm.ranked.nii.gz\n",
      " + setting labeltable\n",
      " + loading and re-writing dataset Schaefer2018_200Parcels_7Networks_order_FSLMNI152_2mm.ranked.nii.gz (/gpfs/gsfs11/users/SFIMJGC_Introspec/2023_fc_introspection/atlases/Schaefer2018_200Parcels_7Networks/Schaefer2018_200Parcels_7Networks_order_FSLMNI152_2mm.ranked.nii.gz in NIFTI storage)\n",
      "++ 3drefit processed 1 datasets\n"
     ]
    }
   ],
   "source": [
    "command = \"\"\"module load afni; \\\n",
    "             cd {ATLAS_PATH}; \\\n",
    "             @MakeLabelTable -lab_file {ATLAS_NAME}_order.ranked.txt 1 0 -labeltable {ATLAS_NAME}_order.ranked.niml.lt -dset {ATLAS_NAME}_order_FSLMNI152_2mm.ranked.nii.gz;\"\"\".format(ATLAS_PATH=CORTICAL_ATLAS_PATH,ATLAS_NAME=CORTICAL_ATLAS_NAME)\n",
    "output  = subprocess.check_output(command, shell=True, stderr=subprocess.STDOUT)\n",
    "print(output.strip().decode())"
   ]
  },
  {
   "cell_type": "markdown",
   "id": "461b80c3-a156-4760-9361-7d0b36f092f7",
   "metadata": {},
   "source": [
    "10. Create a dataframe with all the necessary info about this atlas\n",
    "\n",
    "We now create a single dataframe with all the info we need: roi number, roi label, network, hemisphere, colors codes and centroid position. We save this to disk so that it can be easily accessed by any other notebook"
   ]
  },
  {
   "cell_type": "code",
   "execution_count": 8,
   "id": "4f9dc4c0-1708-4637-b193-e5d5f04f6b24",
   "metadata": {},
   "outputs": [],
   "source": [
    "# Load the cetroid file for the ranked atlas in memory\n",
    "centroids_info               = pd.read_csv(osp.join(ATLASES_DIR, CORTICAL_ATLAS_NAME,'{ATLAS_NAME}_order_FSLMNI152_2mm.Centroid_RAS.ranked.txt'.format(ATLAS_NAME=CORTICAL_ATLAS_NAME) ))\n",
    "centroids_info['ROI Name']   = [label.split('7Networks_')[1] for label in centroids_info['ROI Name']]\n",
    "centroids_info['Hemisphere'] = [item.split('_')[0] for item in centroids_info['ROI Name']]\n",
    "centroids_info['Network']    = [item.split('_')[1] for item in centroids_info['ROI Name']]\n",
    "# Load the color info file for the ranked atlas in memory\n",
    "color_info = pd.read_csv(osp.join(ATLASES_DIR, CORTICAL_ATLAS_NAME,'{ATLAS_NAME}_order.ranked.txt'.format(ATLAS_NAME=CORTICAL_ATLAS_NAME)),sep='\\t', header=None)\n",
    "# Combine all the useful columns into a single new dataframe\n",
    "df         = pd.concat([centroids_info[['ROI Label','Hemisphere','Network','ROI Name','R','A','S']],color_info[[2,3,4]]], axis=1)\n",
    "df.columns = ['ROI_ID','Hemisphere','Network','ROI_Name','pos_R','pos_A','pos_S','color_R','color_G','color_B']\n",
    "# Save the new data frame to disk\n",
    "df.to_csv(osp.join(ATLASES_DIR,CORTICAL_ATLAS_NAME,'{ATLAS_NAME}_order_FSLMNI152_2mm.ranked.roi_info.csv'.format(ATLAS_NAME=CORTICAL_ATLAS_NAME)), index=False)"
   ]
  },
  {
   "cell_type": "markdown",
   "id": "45e37f4f-ccc2-4cbf-b699-2397a01c991d",
   "metadata": {},
   "source": [
    "***\n",
    "# 2. Prepare the AAL v2 Atlas\n",
    "\n",
    "We will use this atlas to obtain defintions for 8 subcortical regions not includes in the Schaeffer atlas, namely L/R caudate, L/R putamen, L/R pallidum and L/R thalamus.\n",
    "\n",
    "To prepare this atlas for the project, please preform the following operations:\n",
    "\n",
    "1. Create a sub-folder within ```ATLASES_DIR``` for this second atlas\n",
    "\n",
    "```bash\n",
    "cd ${ATLASES_DIR}\n",
    "mkdir aal2\n",
    "```\n",
    "\n",
    "2. Download the AAL v2 Atlas from [here](https://www.gin.cnrs.fr/en/tools/aal/)\n",
    "\n",
    "3. Unzip the contents of the downloaded file into the AAL2 folder.\n",
    "\n",
    "   > **NOTE**: we only need two files ```aal2.nii.gz``` and ```aal2.nii.txt```. So make sure those are available in ```${ATLASES_DIR}/aal2``` \n",
    "\n",
    "4. We need to correct the space in ```aal2.nii.gz``` to have the correct MNI space tag for AFNI"
   ]
  },
  {
   "cell_type": "code",
   "execution_count": 9,
   "id": "70f39616-c3c7-40eb-8b06-499eb7aebfbb",
   "metadata": {},
   "outputs": [
    {
     "name": "stdout",
     "output_type": "stream",
     "text": [
      "[+] Loading AFNI current-openmp  ... \n",
      "AFNI/current-openmp last updated  2023-02-10\n",
      "\n",
      "++ 3drefit: AFNI version=AFNI_23.0.03 (Feb  6 2023) [64-bit]\n",
      "++ Authored by: RW Cox\n",
      "++ Processing AFNI dataset aal2.nii.gz\n",
      " + loading and re-writing dataset aal2.nii.gz (/gpfs/gsfs11/users/SFIMJGC_Introspec/2023_fc_introspection/atlases/aal2/aal2.nii.gz in NIFTI storage)\n",
      "++ 3drefit processed 1 datasets\n",
      "++ 3drefit: AFNI version=AFNI_23.0.03 (Feb  6 2023) [64-bit]\n",
      "++ Authored by: RW Cox\n",
      "++ Processing AFNI dataset aal2.nii.gz\n",
      " + setting labeltable\n",
      " + loading and re-writing dataset aal2.nii.gz (/gpfs/gsfs11/users/SFIMJGC_Introspec/2023_fc_introspection/atlases/aal2/aal2.nii.gz in NIFTI storage)\n",
      "++ 3drefit processed 1 datasets\n"
     ]
    }
   ],
   "source": [
    "# Correct the space tag, generate a label table, attach it to the original atlas file.\n",
    "command = \"\"\"module load afni; \\\n",
    "   cd {ATLAS_PATH}; \\\n",
    "   3drefit -space MNI {ATLAS_NAME}.nii.gz; \\\n",
    "   @MakeLabelTable -lab_file {ATLAS_NAME}.nii.txt 1 0 -labeltable {ATLAS_NAME}.niml.lt -dset {ATLAS_NAME}.nii.gz;\"\"\".format(ATLAS_PATH=SUBCORTICAL_ATLAS_PATH,ATLAS_NAME=SUBCORTICAL_ATLAS_NAME)\n",
    "output  = subprocess.check_output(command, shell=True, stderr=subprocess.STDOUT)\n",
    "print(output.strip().decode())"
   ]
  },
  {
   "cell_type": "markdown",
   "id": "6fca17b8-4e6a-4529-bd0d-ad6c037774b4",
   "metadata": {},
   "source": [
    "5. Convert Atlas to the same grid as the functional data"
   ]
  },
  {
   "cell_type": "code",
   "execution_count": 10,
   "id": "28bf2868-2982-43b3-b761-0d9f674b00d3",
   "metadata": {},
   "outputs": [
    {
     "name": "stdout",
     "output_type": "stream",
     "text": [
      "[+] Loading AFNI current-openmp  ... \n",
      "AFNI/current-openmp last updated  2023-02-10\n",
      "\n",
      "++ 3dZeropad: AFNI version=AFNI_23.0.03 (Feb  6 2023) [64-bit]\n",
      "++ 3dZeropad -master => -I 0 -S 0 -A 0 -P 0 -R 0 -L 0\n",
      "++ THD_zeropad: all pad values are zero - just copying dataset\n",
      "++ output dataset: ./aal2.nii.gz\n",
      "++ 3drefit: AFNI version=AFNI_23.0.03 (Feb  6 2023) [64-bit]\n",
      "++ Authored by: RW Cox\n",
      "++ Processing AFNI dataset aal2.nii.gz\n",
      " + setting labeltable\n",
      " + loading and re-writing dataset aal2.nii.gz (/gpfs/gsfs11/users/SFIMJGC_Introspec/2023_fc_introspection/atlases/aal2/aal2.nii.gz in NIFTI storage)\n",
      "++ 3drefit processed 1 datasets\n"
     ]
    }
   ],
   "source": [
    "# Put in the final grid that agress with that of all fully pre-processed functional scans\n",
    "command = \"\"\"module load afni; \\\n",
    "   cd {ATLAS_PATH}; \\\n",
    "   3dZeropad -overwrite -master {DATA_DIR}/PrcsData/ALL_SCANS/all_mean.box.nii.gz -prefix {ATLAS_NAME}.nii.gz {ATLAS_NAME}.nii.gz; \\\n",
    "   3drefit -labeltable {ATLAS_NAME}.niml.lt {ATLAS_NAME}.nii.gz\"\"\".format(ATLAS_PATH=SUBCORTICAL_ATLAS_PATH,ATLAS_NAME=SUBCORTICAL_ATLAS_NAME, DATA_DIR=DATA_DIR)\n",
    "output  = subprocess.check_output(command, shell=True, stderr=subprocess.STDOUT)\n",
    "print(output.strip().decode())"
   ]
  },
  {
   "cell_type": "markdown",
   "id": "3e7d7bb1-9b89-476a-adea-02537fdba840",
   "metadata": {},
   "source": [
    "6. Create new atlas file with only the 8 ROIs we need"
   ]
  },
  {
   "cell_type": "code",
   "execution_count": 11,
   "id": "2bec6f0b-d816-45be-b0d9-234309853a13",
   "metadata": {
    "scrolled": true,
    "tags": []
   },
   "outputs": [
    {
     "name": "stdout",
     "output_type": "stream",
     "text": [
      "[+] Loading AFNI current-openmp  ... \n",
      "AFNI/current-openmp last updated  2023-02-10\n",
      "\n",
      "++ 3dcalc: AFNI version=AFNI_23.0.03 (Feb  6 2023) [64-bit]\n",
      "++ Authored by: A cast of thousands\n",
      "++ Output dataset ./aal2.subcortical.nii.gz\n",
      "++ no -frac option: defaulting to -union\n",
      "++ processing 1 input dataset(s), NN=2...\n",
      "++ padding all datasets by 0 (for dilations)\n",
      "++ frac 0 over 1 volumes gives min count 0\n",
      "++ voxel limits: 0 clipped, 2605 survived, 552765 were zero\n",
      "++ writing result rm.aal2.subcortical.nii.gz...\n",
      "++ Output dataset ./rm.aal2.subcortical.nii.gz\n",
      "++ 3dcalc: AFNI version=AFNI_23.0.03 (Feb  6 2023) [64-bit]\n",
      "++ Authored by: A cast of thousands\n",
      "++ Output dataset ./aal2.subcortical.nii.gz\n",
      "++ 3drefit: AFNI version=AFNI_23.0.03 (Feb  6 2023) [64-bit]\n",
      "++ Authored by: RW Cox\n",
      "++ Processing AFNI dataset aal2.subcortical.nii.gz\n",
      " + setting labeltable\n",
      " + loading and re-writing dataset aal2.subcortical.nii.gz (/gpfs/gsfs11/users/SFIMJGC_Introspec/2023_fc_introspection/atlases/aal2/aal2.subcortical.nii.gz in NIFTI storage)\n",
      "++ 3drefit processed 1 datasets\n"
     ]
    }
   ],
   "source": [
    "command = \"\"\"module load afni; \\\n",
    "             cd {ATLAS_PATH}; \\\n",
    "             3dcalc -overwrite -a {ATLAS_NAME}.nii.gz \\\n",
    "                    -expr '75*equals(a,75) + 76*equals(a,76) + 77*equals(a,77) + 78*equals(a,78) + 79*equals(a,79) + 80*equals(a,80) + 81 * equals(a,81) + 82*equals(a,82)' \\\n",
    "                    -prefix {ATLAS_NAME}.subcortical.nii.gz; \\\n",
    "             3dmask_tool -overwrite -inputs {ATLAS_NAME}.subcortical.nii.gz -dilate_inputs -1 -prefix rm.{ATLAS_NAME}.subcortical.nii.gz; \\\n",
    "             3dcalc -overwrite -a {ATLAS_NAME}.subcortical.nii.gz -b rm.{ATLAS_NAME}.subcortical.nii.gz -expr 'a*b' -prefix {ATLAS_NAME}.subcortical.nii.gz; \\\n",
    "             3drefit -labeltable {ATLAS_NAME}.niml.lt {ATLAS_NAME}.subcortical.nii.gz; \\\n",
    "             rm rm.{ATLAS_NAME}.subcortical.nii.gz;\"\"\".format(ATLAS_PATH=SUBCORTICAL_ATLAS_PATH,ATLAS_NAME=SUBCORTICAL_ATLAS_NAME)\n",
    "output  = subprocess.check_output(command, shell=True, stderr=subprocess.STDOUT)\n",
    "print(output.strip().decode())"
   ]
  },
  {
   "cell_type": "markdown",
   "id": "4c64cea5-f5f1-4709-b41b-89bbdba122e3",
   "metadata": {},
   "source": [
    "7. Remove areas of overlap between the two atlases\n",
    "\n",
    "Upon visual inspection we realized that despite having eroded the subcortical ROIs from the AAL2 atlas, we could still observe one voxel that overlaps with the Schaeffer atlas. Given at a later stage we will be merging both atlases, it is best to remove this voxel from the ```aal2.subcortical.nii.gz``` file now."
   ]
  },
  {
   "cell_type": "code",
   "execution_count": 12,
   "id": "8464711a-d6c9-4d37-b61b-66a4ee58232f",
   "metadata": {},
   "outputs": [
    {
     "name": "stdout",
     "output_type": "stream",
     "text": [
      "[+] Loading AFNI current-openmp  ... \n",
      "AFNI/current-openmp last updated  2023-02-10\n",
      "\n",
      "++ 3dcalc: AFNI version=AFNI_23.0.03 (Feb  6 2023) [64-bit]\n",
      "++ Authored by: A cast of thousands\n",
      "++ Output dataset ./rm.overlap_between_atlases.nii.gz\n",
      "++ 3dcalc: AFNI version=AFNI_23.0.03 (Feb  6 2023) [64-bit]\n",
      "++ Authored by: A cast of thousands\n",
      "++ Output dataset ./aal2.subcortical.nii.gz\n",
      "++ 3drefit: AFNI version=AFNI_23.0.03 (Feb  6 2023) [64-bit]\n",
      "++ Authored by: RW Cox\n",
      "++ Processing AFNI dataset aal2.subcortical.nii.gz\n",
      " + setting labeltable\n",
      " + loading and re-writing dataset aal2.subcortical.nii.gz (/gpfs/gsfs11/users/SFIMJGC_Introspec/2023_fc_introspection/atlases/aal2/aal2.subcortical.nii.gz in NIFTI storage)\n",
      "++ 3drefit processed 1 datasets\n"
     ]
    }
   ],
   "source": [
    "command=\"\"\"module load afni; \\\n",
    "           cd {SUBCORTICAL_ATLAS_PATH};  \\\n",
    "           3dcalc -overwrite -a {SUBCORTICAL_ATLAS_NAME}.subcortical.nii.gz -b {CORTICAL_ATLAS_PATH}/{CORTICAL_ATLAS_NAME}_order_FSLMNI152_2mm.ranked.nii.gz -expr 'equals(0,step(a*b))' -prefix rm.overlap_between_atlases.nii.gz; \\\n",
    "           3dcalc -overwrite -a {SUBCORTICAL_ATLAS_NAME}.subcortical.nii.gz -b rm.overlap_between_atlases.nii.gz -expr 'a*b' -prefix {SUBCORTICAL_ATLAS_NAME}.subcortical.nii.gz; \\\n",
    "           3drefit -labeltable {SUBCORTICAL_ATLAS_NAME}.niml.lt {SUBCORTICAL_ATLAS_NAME}.subcortical.nii.gz; \\\n",
    "           rm rm.overlap_between_atlases.nii.gz;\"\"\".format(SUBCORTICAL_ATLAS_PATH=SUBCORTICAL_ATLAS_PATH, SUBCORTICAL_ATLAS_NAME=SUBCORTICAL_ATLAS_NAME, CORTICAL_ATLAS_NAME=CORTICAL_ATLAS_NAME, CORTICAL_ATLAS_PATH=CORTICAL_ATLAS_PATH)\n",
    "output  = subprocess.check_output(command, shell=True, stderr=subprocess.STDOUT)\n",
    "print(output.strip().decode())"
   ]
  },
  {
   "cell_type": "markdown",
   "id": "2cb272a9-e640-42d0-8b9b-b85c2668b974",
   "metadata": {},
   "source": [
    "8. Rank the atlas with missing ROIs"
   ]
  },
  {
   "cell_type": "code",
   "execution_count": 13,
   "id": "9a95be36-b3f8-4582-a544-646af9282241",
   "metadata": {},
   "outputs": [
    {
     "name": "stdout",
     "output_type": "stream",
     "text": [
      "[+] Loading AFNI current-openmp  ... \n",
      "AFNI/current-openmp last updated  2023-02-10\n",
      "\n",
      "++ Output dataset /gpfs/gsfs11/users/SFIMJGC_Introspec/2023_fc_introspection/atlases/aal2/aal2.subcortical.ranked.nii.gz\n"
     ]
    }
   ],
   "source": [
    "command = \"\"\"module load afni; \\\n",
    "             cd {ATLAS_PATH}; \\\n",
    "             3dRank -prefix {ATLAS_NAME}.subcortical.ranked.nii.gz -input {ATLAS_NAME}.subcortical.nii.gz;\"\"\".format(ATLAS_PATH=SUBCORTICAL_ATLAS_PATH,ATLAS_NAME=SUBCORTICAL_ATLAS_NAME)\n",
    "output  = subprocess.check_output(command, shell=True, stderr=subprocess.STDOUT)\n",
    "print(output.strip().decode())"
   ]
  },
  {
   "cell_type": "markdown",
   "id": "2569a608-aa09-4545-a9e7-e61b4c7417cf",
   "metadata": {},
   "source": [
    "9. Create two additional text files with info about centroids and colors that we will need later\n",
    "\n",
    "* ```aal2.subcortical_order.txt```: contains ROI_ID, ROI_Name, RGB Color, Size"
   ]
  },
  {
   "cell_type": "code",
   "execution_count": 14,
   "id": "e4ad2e33-6280-4605-a5cf-711d15d1897e",
   "metadata": {},
   "outputs": [
    {
     "name": "stdout",
     "output_type": "stream",
     "text": [
      "\n"
     ]
    }
   ],
   "source": [
    "command = \"\"\"cd {ATLAS_PATH}; \\\n",
    "             cat {ATLAS_NAME}.nii.txt | grep -e Thalamus -e Pallidum -e Caudate -e Putamen | awk -F '[ _]' '{{print $1\"\\taal2_\"$3\"H_\"$2\"_1\\t128\\t128\\t128\\t0\"}}' > {ATLAS_NAME}.subcortical_order.txt;\n",
    "             \"\"\".format(ATLAS_PATH=SUBCORTICAL_ATLAS_PATH,ATLAS_NAME=SUBCORTICAL_ATLAS_NAME)\n",
    "output  = subprocess.check_output(command, shell=True, stderr=subprocess.STDOUT)\n",
    "print(output.strip().decode())"
   ]
  },
  {
   "cell_type": "markdown",
   "id": "4758d071-f2ad-4108-ad97-10cebce4df5c",
   "metadata": {},
   "source": [
    "* ```aal2.subcortical.Centroid_RAS.csv```: contains ROI_ID, ROI_Name , Centroid coordinates"
   ]
  },
  {
   "cell_type": "markdown",
   "id": "d6f98702-656a-4221-8b21-461f9ebce158",
   "metadata": {},
   "source": [
    "```bash\n",
    "cd /data/SFIMJGC_Introspec/2023_fc_introspection/atlases/aal2\n",
    "module load afni\n",
    "cat aal2.subcortical_order.txt | awk -F '\\t' '{print $1\",\"$2\",\"}' > rm01.aal2.subcortical.Centroid_RAS.csv\n",
    "3dCM -Icent -all_rois -Icent aal2.subcortical.nii.gz | grep -v '#' | tail -n 8 | awk '{print int($1)*-1\",\"int($2)*-1\",\"int($3)*-1}' > rm02.aal2.subcortical.Centroid_RAS.csv\n",
    "paste -d'\\0' rm01.aal2.subcortical.Centroid_RAS.csv rm02.aal2.subcortical.Centroid_RAS.csv > aal2.subcortical.Centroid_RAS.csv\n",
    "sed -i '1s/^/ROI Label,ROI Name,R,A,S\\n/' aal2.subcortical.Centroid_RAS.csv;\n",
    "rm rm01.aal2.subcortical.Centroid_RAS.csv rm02.aal2.subcortical.Centroid_RAS.csv\n",
    "```"
   ]
  },
  {
   "cell_type": "markdown",
   "id": "4fe028e0-d02c-44c1-95c0-cf2a3cfd3ecb",
   "metadata": {},
   "source": [
    "10. Create Rank corrected Order and Centroid Files"
   ]
  },
  {
   "cell_type": "code",
   "execution_count": 15,
   "id": "71691da6-3c4c-42c8-ae0b-1921c1cc85f5",
   "metadata": {},
   "outputs": [
    {
     "name": "stdout",
     "output_type": "stream",
     "text": [
      "++ INFO [correct_ranked_shaefer_atlas] Original Order File in memory [(8, 5)]\n",
      "++ INFO [correct_ranked_shaefer_atlas] Original Centroids File in memory [(8, 4)]\n",
      "++ INFO [correct_ranked_shaefer_atlas] Rank information in memory    [(9, 2)]\n",
      "++ INFO [correct_ranked_shaefer_atlas] New order file written to disk: /data/SFIMJGC_Introspec/2023_fc_introspection/atlases/aal2/aal2.subcortical_order.ranked.txt\n",
      "++ INFO [correct_ranked_shaefer_atlas] New centroids file written to disk: /data/SFIMJGC_Introspec/2023_fc_introspection/atlases/aal2/aal2.subcortical.Centroid_RAS.ranked.txt\n",
      "======================================\n",
      " + Original Number of ROIs = 82\n",
      " + New      Number of ROIs = 8\n",
      "======================================\n",
      " + Last entry in original Order File:\n",
      "ID      aal2_RH_Thalamus_1\n",
      "R                      128\n",
      "G                      128\n",
      "B                      128\n",
      "Size                     0\n",
      "Name: 82, dtype: object\n",
      " + Last entry in new Order File:\n",
      "Number                     8\n",
      "ID        aal2_RH_Thalamus_1\n",
      "R                        128\n",
      "G                        128\n",
      "B                        128\n",
      "Size                       0\n",
      "Name: 7, dtype: object\n",
      "======================================\n",
      " + Last entry in original Centroids File:\n",
      "ROI Name    aal2_RH_Thalamus_1\n",
      "R                           12\n",
      "A                          -18\n",
      "S                           -6\n",
      "Name: 82, dtype: object\n",
      " + Last entry in new Centroids File:\n",
      "ROI Label                     8\n",
      "ROI Name     aal2_RH_Thalamus_1\n",
      "R                            12\n",
      "A                           -18\n",
      "S                            -6\n",
      "Name: 7, dtype: object\n"
     ]
    }
   ],
   "source": [
    "path_to_order_file = osp.join(SUBCORTICAL_ATLAS_PATH,'aal2.subcortical_order.txt')\n",
    "path_to_rank_file  = osp.join(SUBCORTICAL_ATLAS_PATH,'aal2.subcortical.ranked.nii.gz.rankmap.1D')\n",
    "path_to_centroids_file = osp.join(SUBCORTICAL_ATLAS_PATH,'aal2.subcortical.Centroid_RAS.csv')\n",
    "correct_ranked_atlas(path_to_order_file,path_to_centroids_file,path_to_rank_file)"
   ]
  },
  {
   "cell_type": "markdown",
   "id": "8717b347-168d-4de7-a6cb-82ed08dfdb7f",
   "metadata": {},
   "source": [
    "11. Add corrected label table to the ranked version of the atlas"
   ]
  },
  {
   "cell_type": "code",
   "execution_count": 16,
   "id": "c750e227-dfb0-42e1-8904-4aa1d7cb9129",
   "metadata": {},
   "outputs": [
    {
     "name": "stdout",
     "output_type": "stream",
     "text": [
      "[+] Loading AFNI current-openmp  ... \n",
      "AFNI/current-openmp last updated  2023-02-10\n",
      "\n",
      "++ 3drefit: AFNI version=AFNI_23.0.03 (Feb  6 2023) [64-bit]\n",
      "++ Authored by: RW Cox\n",
      "++ Processing AFNI dataset aal2.subcortical.ranked.nii.gz\n",
      " + setting labeltable\n",
      " + loading and re-writing dataset aal2.subcortical.ranked.nii.gz (/gpfs/gsfs11/users/SFIMJGC_Introspec/2023_fc_introspection/atlases/aal2/aal2.subcortical.ranked.nii.gz in NIFTI storage)\n",
      "++ 3drefit processed 1 datasets\n"
     ]
    }
   ],
   "source": [
    "command = \"\"\"module load afni; \\\n",
    "             cd {ATLAS_PATH}; \\\n",
    "             @MakeLabelTable -lab_file aal2.subcortical_order.ranked.txt 1 0 -labeltable aal2.subcortical_order.ranked.niml.lt -dset aal2.subcortical.ranked.nii.gz;\"\"\".format(ATLAS_PATH=SUBCORTICAL_ATLAS_PATH)\n",
    "output  = subprocess.check_output(command, shell=True, stderr=subprocess.STDOUT)\n",
    "print(output.strip().decode())"
   ]
  },
  {
   "cell_type": "markdown",
   "id": "341e768d-9105-4ccd-9e40-b5ae7aebaf15",
   "metadata": {},
   "source": [
    "10. Create a dataframe with all the necessary info about this atlas\n",
    "\n",
    "We now create a single dataframe with all the info we need: roi number, roi label, network, hemisphere, colors codes and centroid position. We save this to disk so that it can be easily accessed by any other notebook"
   ]
  },
  {
   "cell_type": "code",
   "execution_count": 17,
   "id": "eb00047c-b299-4e98-9b96-5be0e6d47257",
   "metadata": {},
   "outputs": [],
   "source": [
    "# Load the cetroid file for the ranked atlas in memory\n",
    "centroids_info               = pd.read_csv(osp.join(ATLASES_DIR, SUBCORTICAL_ATLAS_NAME,'aal2.subcortical.Centroid_RAS.ranked.txt' ))\n",
    "centroids_info['ROI Name']   = [label.split('aal2_')[1] for label in centroids_info['ROI Name']]\n",
    "centroids_info['Hemisphere'] = [item.split('_')[0] for item in centroids_info['ROI Name']]\n",
    "centroids_info['Network']    = [item.split('_')[1] for item in centroids_info['ROI Name']]\n",
    "# Load the color info file for the ranked atlas in memory\n",
    "color_info = pd.read_csv(osp.join(ATLASES_DIR, SUBCORTICAL_ATLAS_NAME,'aal2.subcortical_order.ranked.txt'),sep='\\t', header=None)\n",
    "# Combine all the useful columns into a single new dataframe\n",
    "df         = pd.concat([centroids_info[['ROI Label','Hemisphere','Network','ROI Name','R','A','S']],color_info[[2,3,4]]], axis=1)\n",
    "df.columns = ['ROI_ID','Hemisphere','Network','ROI_Name','pos_R','pos_A','pos_S','color_R','color_G','color_B']\n",
    "# Save the new data frame to disk\n",
    "df.to_csv(osp.join(ATLASES_DIR,SUBCORTICAL_ATLAS_NAME,'aal2.subcortical.ranked.roi_info.csv'), index=False)"
   ]
  },
  {
   "cell_type": "markdown",
   "id": "cd353891-f037-4e86-978c-c294120c9ba6",
   "metadata": {},
   "source": [
    "***\n",
    "# 3. Combine Cortical and Subcortical Atlas\n",
    "\n",
    "1. Create new folder for the combined atlas"
   ]
  },
  {
   "cell_type": "code",
   "execution_count": 29,
   "id": "5a5c471d-bea0-4edd-87a2-4b362accfcd8",
   "metadata": {},
   "outputs": [
    {
     "name": "stdout",
     "output_type": "stream",
     "text": [
      "++ WARNING: Removing pre-existing folder for combined atlas [/data/SFIMJGC_Introspec/2023_fc_introspection/atlases/Schaefer2018_200Parcels_7Networks_AAL2]\n"
     ]
    }
   ],
   "source": [
    "if osp.exists(FB_ATLAS_PATH):\n",
    "    rmtree(FB_ATLAS_PATH)\n",
    "    print('++ WARNING: Removing pre-existing folder for combined atlas [%s]' % FB_ATLAS_PATH)\n",
    "os.makedirs(FB_ATLAS_PATH)"
   ]
  },
  {
   "cell_type": "markdown",
   "id": "4566712f-0524-444a-a6a4-cd8023a04869",
   "metadata": {},
   "source": [
    "2. Create un-ranked combined atlas NII file\n",
    "```bash\n",
    "cd /data/SFIMJGC_Introspec/2023_fc_introspection/atlases/Schaefer2018_200Parcels_7Networks_AAL2\n",
    "3dcalc -overwrite -a ../aal2/aal2.subcortical.ranked.nii.gz -expr 'step(a)*(200+a)' -prefix rm.subcortical.nii.gz\n",
    "3dcalc -overwrite -a ../Schaefer2018_200Parcels_7Networks/Schaefer2018_200Parcels_7Networks_order_FSLMNI152_2mm.ranked.nii.gz -b rm.subcortical.nii.gz -expr 'a+b' -prefix Schaefer2018_200Parcels_7Networks_AAL2.nii.gz\n",
    "rm rm.subcortical.nii.gz\n",
    "```"
   ]
  },
  {
   "cell_type": "markdown",
   "id": "c6b1463f-fb41-4b8c-b80b-04eeaab818e5",
   "metadata": {},
   "source": [
    "3. Create un-ranked combined atlas Order file\n",
    "```bash\n",
    "cat ../Schaefer2018_200Parcels_7Networks/Schaefer2018_200Parcels_7Networks_order.ranked.txt | awk '{gsub(\"7Networks\",\"8Networks\",$2); print $1\"\\t\"$2\"\\t\"$3\"\\t\"$4\"\\t\"$5\"\\t\"$6}' > Schaefer2018_200Parcels_7Networks_AAL2_order.txt\n",
    "cat ../aal2/aal2.subcortical_order.ranked.txt | awk '{gsub(\"aal2\",\"8Networks\",$2); print 200+$1\"\\t\"$2\"\\t\"$3\"\\t\"$4\"\\t\"$5\"\\t\"$6}' >> Schaefer2018_200Parcels_7Networks_AAL2_order.txt\n",
    "```"
   ]
  },
  {
   "cell_type": "markdown",
   "id": "4f9afd4c-6c37-48e5-9b6f-54e35d75f5e5",
   "metadata": {},
   "source": [
    "4. Create un-ranked combined atlas Centroid file\n",
    "```bash\n",
    "head -n 1 ../Schaefer2018_200Parcels_7Networks/Schaefer2018_200Parcels_7Networks_order_FSLMNI152_2mm.Centroid_RAS.ranked.txt                                                                                > Schaefer2018_200Parcels_7Networks_AAL2.Centroid_RAS.txt\n",
    "sed '1d' ../Schaefer2018_200Parcels_7Networks/Schaefer2018_200Parcels_7Networks_order_FSLMNI152_2mm.Centroid_RAS.ranked.txt | awk -F ',' '{gsub(\"7Networks\",\"8Networks\",$2); print $0}' | tr -s ' ' ',' >> Schaefer2018_200Parcels_7Networks_AAL2.Centroid_RAS.txt\n",
    "tail -n 8 ../aal2/aal2.subcortical.Centroid_RAS.ranked.txt | awk -F ',' '{gsub(\"aal2\",\"8Networks\",$2); print 200+$1\",\"$2\",\"$3\",\"$4\",\"$5}'                                                                  >> Schaefer2018_200Parcels_7Networks_AAL2.Centroid_RAS.txt\n",
    "```"
   ]
  },
  {
   "cell_type": "markdown",
   "id": "6215418e-3af9-4457-9fce-968651747306",
   "metadata": {},
   "source": [
    "5. Rank the atlas with missing ROIs"
   ]
  },
  {
   "cell_type": "code",
   "execution_count": 30,
   "id": "fff384c2-1ee7-4521-b6de-633ecafe7cd9",
   "metadata": {},
   "outputs": [
    {
     "name": "stdout",
     "output_type": "stream",
     "text": [
      "[+] Loading AFNI current-openmp  ... \n",
      "AFNI/current-openmp last updated  2023-02-10\n",
      "\n",
      "++ Output dataset /gpfs/gsfs11/users/SFIMJGC_Introspec/2023_fc_introspection/atlases/Schaefer2018_200Parcels_7Networks_AAL2/Schaefer2018_200Parcels_7Networks_AAL2.ranked.nii.gz\n"
     ]
    }
   ],
   "source": [
    "command = \"\"\"module load afni; \\\n",
    "             cd {ATLAS_PATH}; \\\n",
    "             3dRank -prefix {ATLAS_NAME}.ranked.nii.gz -input {ATLAS_NAME}.nii.gz;\"\"\".format(ATLAS_PATH=FB_ATLAS_PATH,ATLAS_NAME=FB_ATLAS_NAME)\n",
    "output  = subprocess.check_output(command, shell=True, stderr=subprocess.STDOUT)\n",
    "print(output.strip().decode())"
   ]
  },
  {
   "cell_type": "markdown",
   "id": "28f8813f-1def-4a8e-b3b3-1e694e41ba02",
   "metadata": {},
   "source": [
    "6. Create Rank corrected Order and Centroid Files"
   ]
  },
  {
   "cell_type": "code",
   "execution_count": 32,
   "id": "04e5de47-6b04-4c85-8d2c-23a18d527dd0",
   "metadata": {},
   "outputs": [
    {
     "name": "stdout",
     "output_type": "stream",
     "text": [
      "++ INFO [correct_ranked_shaefer_atlas] Original Order File in memory [(195, 5)]\n",
      "++ INFO [correct_ranked_shaefer_atlas] Original Centroids File in memory [(195, 4)]\n",
      "++ INFO [correct_ranked_shaefer_atlas] Rank information in memory    [(196, 2)]\n",
      "++ INFO [correct_ranked_shaefer_atlas] New order file written to disk: /data/SFIMJGC_Introspec/2023_fc_introspection/atlases/Schaefer2018_200Parcels_7Networks_AAL2/Schaefer2018_200Parcels_7Networks_AAL2_order.ranked.txt\n",
      "++ INFO [correct_ranked_shaefer_atlas] New centroids file written to disk: /data/SFIMJGC_Introspec/2023_fc_introspection/atlases/Schaefer2018_200Parcels_7Networks_AAL2/Schaefer2018_200Parcels_7Networks_AAL2.Centroid_RAS.ranked.txt\n",
      "======================================\n",
      " + Original Number of ROIs = 208\n",
      " + New      Number of ROIs = 195\n",
      "======================================\n",
      " + Last entry in original Order File:\n",
      "ID      8Networks_RH_Thalamus_1\n",
      "R                           128\n",
      "G                           128\n",
      "B                           128\n",
      "Size                          0\n",
      "Name: 208, dtype: object\n",
      " + Last entry in new Order File:\n",
      "Number                        195\n",
      "ID        8Networks_RH_Thalamus_1\n",
      "R                             128\n",
      "G                             128\n",
      "B                             128\n",
      "Size                            0\n",
      "Name: 194, dtype: object\n",
      "======================================\n",
      " + Last entry in original Centroids File:\n",
      "ROI Name    8Networks_RH_Thalamus_1\n",
      "R                                12\n",
      "A                               -18\n",
      "S                                -6\n",
      "Name: 208, dtype: object\n",
      " + Last entry in new Centroids File:\n",
      "ROI Label                        195\n",
      "ROI Name     8Networks_RH_Thalamus_1\n",
      "R                                 12\n",
      "A                                -18\n",
      "S                                 -6\n",
      "Name: 194, dtype: object\n"
     ]
    }
   ],
   "source": [
    "path_to_order_file = osp.join(FB_ATLAS_PATH,'{ATLAS_NAME}_order.txt'.format(ATLAS_NAME=FB_ATLAS_NAME))\n",
    "path_to_rank_file  = osp.join(FB_ATLAS_PATH,'{ATLAS_NAME}.ranked.nii.gz.rankmap.1D'.format(ATLAS_NAME=FB_ATLAS_NAME))\n",
    "path_to_centroids_file = osp.join(FB_ATLAS_PATH,'{ATLAS_NAME}.Centroid_RAS.txt'.format(ATLAS_NAME=FB_ATLAS_NAME))\n",
    "correct_ranked_atlas(path_to_order_file,path_to_centroids_file,path_to_rank_file)"
   ]
  },
  {
   "cell_type": "markdown",
   "id": "5a25cc62-de80-475f-bd1b-45fbce82c388",
   "metadata": {},
   "source": [
    "11. Add corrected label table to the ranked version of the atlas"
   ]
  },
  {
   "cell_type": "code",
   "execution_count": 33,
   "id": "ffd7ff2f-aad9-4112-a38c-4f8d6e74b3c7",
   "metadata": {},
   "outputs": [
    {
     "name": "stdout",
     "output_type": "stream",
     "text": [
      "[+] Loading AFNI current-openmp  ... \n",
      "AFNI/current-openmp last updated  2023-02-10\n",
      "\n",
      "++ 3drefit: AFNI version=AFNI_23.0.03 (Feb  6 2023) [64-bit]\n",
      "++ Authored by: RW Cox\n",
      "++ Processing AFNI dataset Schaefer2018_200Parcels_7Networks_AAL2.ranked.nii.gz\n",
      " + setting labeltable\n",
      " + loading and re-writing dataset Schaefer2018_200Parcels_7Networks_AAL2.ranked.nii.gz (/gpfs/gsfs11/users/SFIMJGC_Introspec/2023_fc_introspection/atlases/Schaefer2018_200Parcels_7Networks_AAL2/Schaefer2018_200Parcels_7Networks_AAL2.ranked.nii.gz in NIFTI storage)\n",
      "++ 3drefit processed 1 datasets\n"
     ]
    }
   ],
   "source": [
    "command = \"\"\"module load afni; \\\n",
    "             cd {ATLAS_PATH}; \\\n",
    "             @MakeLabelTable -lab_file {ATLAS_NAME}_order.ranked.txt 1 0 -labeltable {ATLAS_NAME}_order.ranked.niml.lt -dset {ATLAS_NAME}.ranked.nii.gz;\n",
    "             \"\"\".format(ATLAS_PATH=FB_ATLAS_PATH, ATLAS_NAME=FB_ATLAS_NAME)\n",
    "output  = subprocess.check_output(command, shell=True, stderr=subprocess.STDOUT)\n",
    "print(output.strip().decode())"
   ]
  },
  {
   "cell_type": "markdown",
   "id": "a96b7de6-de64-432c-8983-88af85bdf1c0",
   "metadata": {},
   "source": [
    "10. Create a dataframe with all the necessary info about this atlas\n",
    "\n",
    "We now create a single dataframe with all the info we need: roi number, roi label, network, hemisphere, colors codes and centroid position. We save this to disk so that it can be easily accessed by any other notebook"
   ]
  },
  {
   "cell_type": "code",
   "execution_count": 35,
   "id": "0e29f654-3dcd-4de8-bcab-0f7af76497a9",
   "metadata": {},
   "outputs": [],
   "source": [
    "# Load the cetroid file for the ranked atlas in memory\n",
    "centroids_info               = pd.read_csv(osp.join(ATLASES_DIR, FB_ATLAS_NAME,'{ATLAS_NAME}.Centroid_RAS.ranked.txt'.format(ATLAS_NAME=FB_ATLAS_NAME) ))\n",
    "centroids_info['ROI Name']   = [label.split('8Networks_')[1] for label in centroids_info['ROI Name']]\n",
    "centroids_info['Hemisphere'] = [item.split('_')[0] for item in centroids_info['ROI Name']]\n",
    "centroids_info['Network']    = [item.split('_')[1] for item in centroids_info['ROI Name']]\n",
    "# Load the color info file for the ranked atlas in memory\n",
    "color_info = pd.read_csv(osp.join(ATLASES_DIR, FB_ATLAS_NAME,'{ATLAS_NAME}_order.ranked.txt'.format(ATLAS_NAME=FB_ATLAS_NAME)),sep='\\t', header=None)\n",
    "# Combine all the useful columns into a single new dataframe\n",
    "df         = pd.concat([centroids_info[['ROI Label','Hemisphere','Network','ROI Name','R','A','S']],color_info[[2,3,4]]], axis=1)\n",
    "df.columns = ['ROI_ID','Hemisphere','Network','ROI_Name','pos_R','pos_A','pos_S','color_R','color_G','color_B']\n",
    "# Save the new data frame to disk\n",
    "df.to_csv(osp.join(ATLASES_DIR,FB_ATLAS_NAME,'{ATLAS_NAME}.ranked.roi_info.csv'.format(ATLAS_NAME=FB_ATLAS_NAME)), index=False)"
   ]
  }
 ],
 "metadata": {
  "jupytext": {
   "formats": "ipynb,py:light"
  },
  "kernelspec": {
   "display_name": "FC Introspection (Jan 2023)",
   "language": "python",
   "name": "fc_introspection"
  },
  "language_info": {
   "codemirror_mode": {
    "name": "ipython",
    "version": 3
   },
   "file_extension": ".py",
   "mimetype": "text/x-python",
   "name": "python",
   "nbconvert_exporter": "python",
   "pygments_lexer": "ipython3",
   "version": "3.7.16"
  },
  "toc-autonumbering": false,
  "toc-showmarkdowntxt": false
 },
 "nbformat": 4,
 "nbformat_minor": 5
}
