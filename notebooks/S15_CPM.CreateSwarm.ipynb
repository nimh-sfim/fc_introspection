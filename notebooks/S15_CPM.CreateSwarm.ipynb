{
 "cells": [
  {
   "cell_type": "markdown",
   "id": "071acdca-7071-40d1-875d-4ad544592fa2",
   "metadata": {},
   "source": [
    "# Description\n",
    "\n",
    "This notebook create the swarm jobs to run CPM on 100 iterations over the real data and 10,000 iterations over randomized data. \n",
    "\n",
    "This happens separately for each question in the SNYCQ"
   ]
  },
  {
   "cell_type": "code",
   "execution_count": 1,
   "id": "4bcc2d9b-ddb4-4d2c-a2ad-90d794cc907e",
   "metadata": {},
   "outputs": [],
   "source": [
    "import os.path as osp\n",
    "import os\n",
    "from datetime import datetime\n",
    "import getpass\n",
    "from utils.basics import get_sbj_scan_list\n",
    "from utils.basics import PRJ_DIR, SCRIPTS_DIR, RESOURCES_CPM_DIR"
   ]
  },
  {
   "cell_type": "code",
   "execution_count": 2,
   "id": "bcd15404-9a55-4b34-9221-87f21f52a262",
   "metadata": {},
   "outputs": [],
   "source": [
    "CPM_NITERATIONS      = 100       # Number of iterations on real data (to evaluate robustness against fold generation)\n",
    "CPM_NULL_NITERATIONS = 10000     # Number of iterations used to build a null distribution\n",
    "CORR_TYPE            = 'pearson' # Correlation type to use on the edge-selection step\n",
    "E_SUMMARY_METRIC     = 'sum'     # How to summarize across selected edges on the final model\n",
    "E_THR_P              = 0.01      # Threshold used on the edge-selection step"
   ]
  },
  {
   "cell_type": "code",
   "execution_count": 3,
   "id": "04b9646c-7cf6-4231-96e2-a57eda1ed13f",
   "metadata": {},
   "outputs": [
    {
     "name": "stdout",
     "output_type": "stream",
     "text": [
      "++ [post_motion] Number of subjects: 133 subjects\n",
      "++ [post_motion] Number of scans:    471 scans\n"
     ]
    }
   ],
   "source": [
    "sbj_list, scan_list, snycq = get_sbj_scan_list(when='post_motion', return_snycq=True)"
   ]
  },
  {
   "cell_type": "code",
   "execution_count": 4,
   "id": "5b6050c8-f26a-47d4-982e-7ea1a694e259",
   "metadata": {},
   "outputs": [
    {
     "name": "stdout",
     "output_type": "stream",
     "text": [
      "['Positive', 'Negative', 'Future', 'Past', 'Myself', 'People', 'Surroundings', 'Vigilance', 'Images', 'Words', 'Specific', 'Intrusive']\n"
     ]
    }
   ],
   "source": [
    "behaviors = list(snycq.columns)\n",
    "print(behaviors)"
   ]
  },
  {
   "cell_type": "code",
   "execution_count": 5,
   "id": "8a8eb8a0-2ac7-4516-8400-b48c861a0cfe",
   "metadata": {},
   "outputs": [
    {
     "name": "stdout",
     "output_type": "stream",
     "text": [
      "++ INFO: user working now --> javiergc\n"
     ]
    }
   ],
   "source": [
    "username = getpass.getuser()\n",
    "print('++ INFO: user working now --> %s' % username)"
   ]
  },
  {
   "cell_type": "markdown",
   "id": "36a81d08-7d0c-405d-a4d1-4dd91ea783ce",
   "metadata": {},
   "source": [
    "We will generate separate swarm files per question. Similarly we will separate the swarm jobs that are for computations on real data and those that are for the generation of the null distribution."
   ]
  },
  {
   "cell_type": "markdown",
   "id": "a9b05253-d108-45eb-b830-b8fe6c785c09",
   "metadata": {},
   "source": [
    "## 1. Swarm Jobs for the real data"
   ]
  },
  {
   "cell_type": "code",
   "execution_count": 6,
   "id": "954aa36b-1f4a-49d9-a97c-b12568099ad3",
   "metadata": {},
   "outputs": [],
   "source": [
    "#user specific folders\n",
    "#=====================\n",
    "swarm_folder = osp.join(PRJ_DIR,'SwarmFiles.{username}'.format(username=username))\n",
    "logs_folder  = osp.join(PRJ_DIR,'Logs.{username}'.format(username=username))\n",
    "swarm_path,logdir_path={},{} \n",
    "for behavior in behaviors:    \n",
    "    swarm_path[behavior]  = osp.join(swarm_folder,'S15_CPM_{beh}.SWARM.sh'.format(beh=behavior))\n",
    "    logdir_path[behavior] = osp.join(logs_folder, 'S15_CPM_{beh}.logs'.format(beh=behavior))"
   ]
  },
  {
   "cell_type": "code",
   "execution_count": 7,
   "id": "5954c512-b125-429a-a935-1ffa0ee7fbc2",
   "metadata": {},
   "outputs": [],
   "source": [
    "# create user specific folders if needed\n",
    "# ======================================\n",
    "if not osp.exists(swarm_folder):\n",
    "    os.makedirs(swarm_folder)\n",
    "    print('++ INFO: New folder for swarm files created [%s]' % swarm_folder)\n",
    "for behavior in behaviors:\n",
    "    if not osp.exists(logdir_path[behavior]):\n",
    "        os.makedirs(logdir_path[behavior])\n",
    "        print('++ INFO: New folder for log files created [%s]' % logdir_path[behavior])"
   ]
  },
  {
   "cell_type": "code",
   "execution_count": 8,
   "id": "50e035b5-deb8-424b-a487-ca5ca890fd36",
   "metadata": {},
   "outputs": [],
   "source": [
    "for behavior in behaviors:\n",
    "    # Open the file\n",
    "    swarm_file = open(swarm_path[behavior], \"w\")\n",
    "    # Log the date and time when the SWARM file is created\n",
    "    swarm_file.write('#Create Time: %s' % datetime.now().strftime(\"%d/%m/%Y %H:%M:%S\"))\n",
    "    swarm_file.write('\\n')\n",
    "    # Insert comment line with SWARM command\n",
    "    swarm_file.write('#swarm -f {swarm_path} -g 8 -t 8 -b 10 --time 00:15:00 --partition quick,norm --logdir {logdir_path}'.format(swarm_path=swarm_path[behavior],logdir_path=logdir_path[behavior]))\n",
    "    swarm_file.write('\\n')\n",
    "    for n_iter in range(CPM_NITERATIONS):\n",
    "        out_dir = osp.join(RESOURCES_CPM_DIR,'results',behavior,CORR_TYPE,E_SUMMARY_METRIC)\n",
    "        if not osp.exists(out_dir):\n",
    "            os.makedirs(out_dir)\n",
    "        swarm_file.write(\"export BEHAV_PATH={behav_path} FC_PATH={fc_path} OUT_DIR={output_dir} BEHAVIOR={behavior} NUM_FOLDS={k} NUM_ITER={n_iter} CORR_TYPE={corr_type} E_SUMMARY_METRIC={e_summary_metric} E_THR_P={e_thr_p} VERBOSE=True RANDOMIZE_BEHAVIOR=False; sh {scripts_folder}/S15_cpm_batch.sh\".format(scripts_folder = SCRIPTS_DIR,\n",
    "                           behav_path       = osp.join(RESOURCES_CPM_DIR,'behav_data.csv'),\n",
    "                           fc_path          = osp.join(RESOURCES_CPM_DIR,'fc_data.csv'),\n",
    "                           output_dir       = out_dir,\n",
    "                           behavior         = behavior,\n",
    "                           k                = 10,\n",
    "                           n_iter           = n_iter + 1,\n",
    "                           corr_type        = CORR_TYPE,\n",
    "                           e_summary_metric = E_SUMMARY_METRIC,\n",
    "                           e_thr_p          = E_THR_P))\n",
    "        swarm_file.write('\\n')\n",
    "    swarm_file.close()"
   ]
  },
  {
   "cell_type": "markdown",
   "id": "272ec13f-f9f5-4aa5-a323-f5c56cbb63c6",
   "metadata": {},
   "source": [
    "***\n",
    "## 2. Swarm jobs for the Null Distributions"
   ]
  },
  {
   "cell_type": "code",
   "execution_count": 9,
   "id": "30c8c72b-b868-4e3d-b332-d3d50daf73a1",
   "metadata": {},
   "outputs": [],
   "source": [
    "#user specific folders\n",
    "#=====================\n",
    "swarm_folder = osp.join(PRJ_DIR,'SwarmFiles.{username}'.format(username=username))\n",
    "logs_folder  = osp.join(PRJ_DIR,'Logs.{username}'.format(username=username))\n",
    "swarm_path,logdir_path={},{} \n",
    "for behavior in behaviors:    \n",
    "    swarm_path[behavior]  = osp.join(swarm_folder,'S15_CPM_null_{beh}.SWARM.sh'.format(beh=behavior))\n",
    "    logdir_path[behavior] = osp.join(logs_folder, 'S15_CPM_null_{beh}.logs'.format(beh=behavior))"
   ]
  },
  {
   "cell_type": "code",
   "execution_count": 10,
   "id": "fa42d831-9424-4c8c-a288-6b3eb7f2300b",
   "metadata": {},
   "outputs": [],
   "source": [
    "# create user specific folders if needed\n",
    "# ======================================\n",
    "if not osp.exists(swarm_folder):\n",
    "    os.makedirs(swarm_folder)\n",
    "    print('++ INFO: New folder for swarm files created [%s]' % swarm_folder)\n",
    "for behavior in behaviors:\n",
    "    if not osp.exists(logdir_path[behavior]):\n",
    "        os.makedirs(logdir_path[behavior])\n",
    "        print('++ INFO: New folder for log files created [%s]' % logdir_path[behavior])"
   ]
  },
  {
   "cell_type": "code",
   "execution_count": 11,
   "id": "7bf61670-d5c4-4658-91be-eac3e0a0ae85",
   "metadata": {},
   "outputs": [],
   "source": [
    "for behavior in behaviors:\n",
    "    # Open the file\n",
    "    swarm_file = open(swarm_path[behavior], \"w\")\n",
    "    # Log the date and time when the SWARM file is created\n",
    "    swarm_file.write('#Create Time: %s' % datetime.now().strftime(\"%d/%m/%Y %H:%M:%S\"))\n",
    "    swarm_file.write('\\n')\n",
    "    # Insert comment line with SWARM command\n",
    "    swarm_file.write('#swarm -f {swarm_path} -g 8 -t 8 -b 50 --time 00:04:30 --partition quick,norm --logdir {logdir_path}'.format(swarm_path=swarm_path[behavior],logdir_path=logdir_path[behavior]))\n",
    "    swarm_file.write('\\n')\n",
    "    for n_iter in range(CPM_NULL_NITERATIONS):\n",
    "        out_dir = osp.join(RESOURCES_CPM_DIR,'null_distribution',behavior,CORR_TYPE,E_SUMMARY_METRIC)\n",
    "        if not osp.exists(out_dir):\n",
    "            os.makedirs(out_dir)\n",
    "        swarm_file.write(\"export BEHAV_PATH={behav_path} FC_PATH={fc_path} OUT_DIR={output_dir} BEHAVIOR={behavior} NUM_FOLDS={k} NUM_ITER={n_iter} CORR_TYPE={corr_type} E_SUMMARY_METRIC={e_summary_metric} E_THR_P={e_thr_p} VERBOSE=True RANDOMIZE_BEHAVIOR=True; sh {scripts_folder}/S15_cpm_batch.sh\".format(scripts_folder = SCRIPTS_DIR,\n",
    "                           behav_path       = osp.join(RESOURCES_CPM_DIR,'behav_data.csv'),\n",
    "                           fc_path          = osp.join(RESOURCES_CPM_DIR,'fc_data.csv'),\n",
    "                           output_dir       = out_dir,\n",
    "                           behavior         = behavior,\n",
    "                           k                = 10,\n",
    "                           n_iter           = n_iter + 1,\n",
    "                           corr_type        = CORR_TYPE,\n",
    "                           e_summary_metric = E_SUMMARY_METRIC,\n",
    "                           e_thr_p          = E_THR_P))\n",
    "        swarm_file.write('\\n')\n",
    "    swarm_file.close()"
   ]
  }
 ],
 "metadata": {
  "jupytext": {
   "formats": "ipynb,auto:light"
  },
  "kernelspec": {
   "display_name": "FC Introspection (Jan 2023)",
   "language": "python",
   "name": "fc_introspection"
  },
  "language_info": {
   "codemirror_mode": {
    "name": "ipython",
    "version": 3
   },
   "file_extension": ".py",
   "mimetype": "text/x-python",
   "name": "python",
   "nbconvert_exporter": "python",
   "pygments_lexer": "ipython3",
   "version": "3.7.16"
  }
 },
 "nbformat": 4,
 "nbformat_minor": 5
}
