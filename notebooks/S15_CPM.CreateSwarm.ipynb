{
 "cells": [
  {
   "cell_type": "markdown",
   "id": "071acdca-7071-40d1-875d-4ad544592fa2",
   "metadata": {},
   "source": [
    "# Description\n",
    "\n",
    "This notebook create the swarm jobs to run CPM on 100 iterations over the real data and 10,000 iterations over randomized data. \n",
    "\n",
    "This happens separately for each question in the SNYCQ"
   ]
  },
  {
   "cell_type": "code",
   "execution_count": 1,
   "id": "4bcc2d9b-ddb4-4d2c-a2ad-90d794cc907e",
   "metadata": {},
   "outputs": [],
   "source": [
    "import os.path as osp\n",
    "import os\n",
    "from datetime import datetime\n",
    "import getpass\n",
    "from utils.basics import get_sbj_scan_list\n",
    "from utils.basics import PRJ_DIR, SCRIPTS_DIR, RESOURCES_CPM_DIR, DATA_DIR, FB_400ROI_ATLAS_NAME\n",
    "from cpm.cpm import read_fc_matrices"
   ]
  },
  {
   "cell_type": "code",
   "execution_count": 2,
   "id": "bcd15404-9a55-4b34-9221-87f21f52a262",
   "metadata": {},
   "outputs": [],
   "source": [
    "CPM_NITERATIONS      = 100       # Number of iterations on real data (to evaluate robustness against fold generation)\n",
    "CPM_NULL_NITERATIONS = 10000     # Number of iterations used to build a null distribution\n",
    "CORR_TYPE            = 'pearson'      # Correlation type to use on the edge-selection step\n",
    "E_SUMMARY_METRIC     = 'sum'           # How to summarize across selected edges on the final model\n",
    "E_THR_P              = 0.01            # Threshold used on the edge-selection step\n",
    "SPLIT_MODE           = 'subject_aware' # Split mode for cross validation\n",
    "MODEL_TYPE           = 'pearson_sum'\n",
    "CONFOUNDS            = 'conf_not_residualized'\n",
    "ATLAS                = FB_400ROI_ATLAS_NAME"
   ]
  },
  {
   "cell_type": "code",
   "execution_count": 3,
   "id": "8a8eb8a0-2ac7-4516-8400-b48c861a0cfe",
   "metadata": {},
   "outputs": [
    {
     "name": "stdout",
     "output_type": "stream",
     "text": [
      "++ INFO: user working now --> javiergc\n"
     ]
    }
   ],
   "source": [
    "username = getpass.getuser()\n",
    "print('++ INFO: user working now --> %s' % username)"
   ]
  },
  {
   "cell_type": "markdown",
   "id": "465303a4-c8f7-4147-b0e3-6e8eccaee8ab",
   "metadata": {},
   "source": [
    "***\n",
    "\n",
    "## 0. Prepare all necessary data for the CPM\n",
    "\n",
    "1. Create resources folder for CPM analyses"
   ]
  },
  {
   "cell_type": "code",
   "execution_count": 4,
   "id": "4c327420-23c7-48f0-b97d-c70f905b12c5",
   "metadata": {},
   "outputs": [],
   "source": [
    "if not osp.exists(RESOURCES_CPM_DIR):\n",
    "    print('++ INFO: Creating resources folder for CPM analyses [%s]' % RESOURCES_CPM_DIR)\n",
    "    os.makedirs(RESOURCES_CPM_DIR)"
   ]
  },
  {
   "cell_type": "markdown",
   "id": "4e6462b2-8e83-4de9-9dff-0b51d306e7c2",
   "metadata": {},
   "source": [
    "2. Load list of scans that passed all QAs"
   ]
  },
  {
   "cell_type": "code",
   "execution_count": 5,
   "id": "48cec79a-46d8-4793-9704-85ef4a9b4318",
   "metadata": {},
   "outputs": [
    {
     "name": "stdout",
     "output_type": "stream",
     "text": [
      "++ [post_motion] Number of subjects: 133 subjects\n",
      "++ [post_motion] Number of scans:    471 scans\n"
     ]
    }
   ],
   "source": [
    "sbj_list, scan_list, snycq_df = get_sbj_scan_list(when='post_motion', return_snycq=True)"
   ]
  },
  {
   "cell_type": "code",
   "execution_count": 6,
   "id": "5b6050c8-f26a-47d4-982e-7ea1a694e259",
   "metadata": {},
   "outputs": [
    {
     "name": "stdout",
     "output_type": "stream",
     "text": [
      "['Positive', 'Negative', 'Future', 'Past', 'Myself', 'People', 'Surroundings', 'Vigilance', 'Images', 'Words', 'Specific', 'Intrusive']\n"
     ]
    }
   ],
   "source": [
    "targets = list(snycq_df.columns)\n",
    "print(targets)"
   ]
  },
  {
   "cell_type": "markdown",
   "id": "1327222b-9c99-4f02-8c70-4a975376469d",
   "metadata": {},
   "source": [
    "3. Load FC data into memory"
   ]
  },
  {
   "cell_type": "code",
   "execution_count": 7,
   "id": "14841a77-0c9a-4b24-adf5-58d64912fae5",
   "metadata": {},
   "outputs": [
    {
     "name": "stderr",
     "output_type": "stream",
     "text": [
      "Scan: 100%|█████████████████████████████████████████████████████████████████████████████████████████████████████████████████████████████████| 471/471 [00:14<00:00, 31.66it/s]\n"
     ]
    }
   ],
   "source": [
    "fc_data = read_fc_matrices(scan_list,DATA_DIR,FB_400ROI_ATLAS_NAME)"
   ]
  },
  {
   "cell_type": "markdown",
   "id": "29b260d8-836a-416a-b89d-e9c87c164c92",
   "metadata": {},
   "source": [
    "4. Save FC data in vectorized form for all scans into a single file for easy access for batch jobs"
   ]
  },
  {
   "cell_type": "code",
   "execution_count": 9,
   "id": "d428217d-b295-4117-a976-168146f72fc3",
   "metadata": {},
   "outputs": [
    {
     "name": "stdout",
     "output_type": "stream",
     "text": [
      "++ INFO: FC data saved to disk [/data/SFIMJGC_Introspec/2023_fc_introspection/code/fc_introspection/resources/cpm/fc_data_Schaefer2018_400Parcels_7Networks_AAL2.csv]\n"
     ]
    }
   ],
   "source": [
    "out_path = osp.join(RESOURCES_CPM_DIR,'fc_data_{atlas}.csv'.format(atlas=ATLAS))\n",
    "fc_data.to_csv(out_path)\n",
    "print('++ INFO: FC data saved to disk [%s]' % out_path)"
   ]
  },
  {
   "cell_type": "markdown",
   "id": "065ae01f-e744-49f0-9e60-5ea8fe9b2aa2",
   "metadata": {},
   "source": [
    "5. Save SNYCQ in the cpm resources folder"
   ]
  },
  {
   "cell_type": "code",
   "execution_count": 10,
   "id": "1ee1d1b4-60df-4c00-9aa0-8b311f7b257e",
   "metadata": {},
   "outputs": [
    {
     "name": "stdout",
     "output_type": "stream",
     "text": [
      "++ INFO: Behavioral data saved to disk [/data/SFIMJGC_Introspec/2023_fc_introspection/code/fc_introspection/resources/cpm/behav_data.csv]\n"
     ]
    }
   ],
   "source": [
    "out_path = osp.join(RESOURCES_CPM_DIR,'behav_data.csv')\n",
    "snycq_df.to_csv(out_path)\n",
    "print('++ INFO: Behavioral data saved to disk [%s]' % out_path)"
   ]
  },
  {
   "cell_type": "markdown",
   "id": "a9b05253-d108-45eb-b830-b8fe6c785c09",
   "metadata": {},
   "source": [
    "***\n",
    "## 1. Swarm Jobs for the real data"
   ]
  },
  {
   "cell_type": "markdown",
   "id": "36a81d08-7d0c-405d-a4d1-4dd91ea783ce",
   "metadata": {},
   "source": [
    "We will generate separate swarm files per question. Similarly we will separate the swarm jobs that are for computations on real data and those that are for the generation of the null distribution."
   ]
  },
  {
   "cell_type": "code",
   "execution_count": 11,
   "id": "954aa36b-1f4a-49d9-a97c-b12568099ad3",
   "metadata": {},
   "outputs": [],
   "source": [
    "#user specific folders\n",
    "#=====================\n",
    "swarm_folder = osp.join(PRJ_DIR,'SwarmFiles.{username}'.format(username=username),'S15')\n",
    "logs_folder  = osp.join(PRJ_DIR,'Logs.{username}'.format(username=username),'S15')\n",
    "swarm_path,logdir_path={},{}\n",
    "\n",
    "if not osp.exists(swarm_folder):\n",
    "    os.makedirs(swarm_folder)\n",
    "    print('++ INFO: New folder for swarm files created [%s]' % swarm_folder)\n",
    "\n",
    "if not osp.exists(logs_folder):\n",
    "    os.makedirs(logs_folder)\n",
    "    print('++ INFO: New folder for log files created [%s]' % swarm_folder)\n",
    "\n",
    "for TARGET in targets:    \n",
    "    swarm_path[TARGET]  = osp.join(swarm_folder,'S15_CPM-{atlas}-real-{sm}-{conf}-{mt}-{target}.SWARM.sh'.format(atlas=ATLAS,sm=SPLIT_MODE,conf=CONFOUNDS,mt=MODEL_TYPE, target=TARGET))\n",
    "    logdir_path[TARGET] = osp.join(logs_folder, 'S15_CPM-{atlas}-real-{sm}-{conf}-{mt}-{target}.logs'.format(atlas=ATLAS,sm=SPLIT_MODE,conf=CONFOUNDS,mt=MODEL_TYPE, target=TARGET))"
   ]
  },
  {
   "cell_type": "code",
   "execution_count": 12,
   "id": "5954c512-b125-429a-a935-1ffa0ee7fbc2",
   "metadata": {},
   "outputs": [
    {
     "name": "stdout",
     "output_type": "stream",
     "text": [
      "++ INFO: New folder for log files created [/data/SFIMJGC_Introspec/2023_fc_introspection/Logs.javiergc/S15/S15_CPM-Schaefer2018_400Parcels_7Networks_AAL2-real-subject_aware-conf_not_residualized-pearson_sum-Positive.logs]\n",
      "++ INFO: New folder for log files created [/data/SFIMJGC_Introspec/2023_fc_introspection/Logs.javiergc/S15/S15_CPM-Schaefer2018_400Parcels_7Networks_AAL2-real-subject_aware-conf_not_residualized-pearson_sum-Negative.logs]\n",
      "++ INFO: New folder for log files created [/data/SFIMJGC_Introspec/2023_fc_introspection/Logs.javiergc/S15/S15_CPM-Schaefer2018_400Parcels_7Networks_AAL2-real-subject_aware-conf_not_residualized-pearson_sum-Future.logs]\n",
      "++ INFO: New folder for log files created [/data/SFIMJGC_Introspec/2023_fc_introspection/Logs.javiergc/S15/S15_CPM-Schaefer2018_400Parcels_7Networks_AAL2-real-subject_aware-conf_not_residualized-pearson_sum-Past.logs]\n",
      "++ INFO: New folder for log files created [/data/SFIMJGC_Introspec/2023_fc_introspection/Logs.javiergc/S15/S15_CPM-Schaefer2018_400Parcels_7Networks_AAL2-real-subject_aware-conf_not_residualized-pearson_sum-Myself.logs]\n",
      "++ INFO: New folder for log files created [/data/SFIMJGC_Introspec/2023_fc_introspection/Logs.javiergc/S15/S15_CPM-Schaefer2018_400Parcels_7Networks_AAL2-real-subject_aware-conf_not_residualized-pearson_sum-People.logs]\n",
      "++ INFO: New folder for log files created [/data/SFIMJGC_Introspec/2023_fc_introspection/Logs.javiergc/S15/S15_CPM-Schaefer2018_400Parcels_7Networks_AAL2-real-subject_aware-conf_not_residualized-pearson_sum-Surroundings.logs]\n",
      "++ INFO: New folder for log files created [/data/SFIMJGC_Introspec/2023_fc_introspection/Logs.javiergc/S15/S15_CPM-Schaefer2018_400Parcels_7Networks_AAL2-real-subject_aware-conf_not_residualized-pearson_sum-Vigilance.logs]\n",
      "++ INFO: New folder for log files created [/data/SFIMJGC_Introspec/2023_fc_introspection/Logs.javiergc/S15/S15_CPM-Schaefer2018_400Parcels_7Networks_AAL2-real-subject_aware-conf_not_residualized-pearson_sum-Images.logs]\n",
      "++ INFO: New folder for log files created [/data/SFIMJGC_Introspec/2023_fc_introspection/Logs.javiergc/S15/S15_CPM-Schaefer2018_400Parcels_7Networks_AAL2-real-subject_aware-conf_not_residualized-pearson_sum-Words.logs]\n",
      "++ INFO: New folder for log files created [/data/SFIMJGC_Introspec/2023_fc_introspection/Logs.javiergc/S15/S15_CPM-Schaefer2018_400Parcels_7Networks_AAL2-real-subject_aware-conf_not_residualized-pearson_sum-Specific.logs]\n",
      "++ INFO: New folder for log files created [/data/SFIMJGC_Introspec/2023_fc_introspection/Logs.javiergc/S15/S15_CPM-Schaefer2018_400Parcels_7Networks_AAL2-real-subject_aware-conf_not_residualized-pearson_sum-Intrusive.logs]\n"
     ]
    }
   ],
   "source": [
    "# create specific folders if needed\n",
    "# ======================================\n",
    "for TARGET in targets:\n",
    "    if not osp.exists(logdir_path[TARGET]):\n",
    "        os.makedirs(logdir_path[TARGET])\n",
    "        print('++ INFO: New folder for log files created [%s]' % logdir_path[TARGET])"
   ]
  },
  {
   "cell_type": "code",
   "execution_count": 13,
   "id": "50e035b5-deb8-424b-a487-ca5ca890fd36",
   "metadata": {},
   "outputs": [],
   "source": [
    "for TARGET in targets:\n",
    "    # Open the file\n",
    "    swarm_file = open(swarm_path[TARGET], \"w\")\n",
    "    # Log the date and time when the SWARM file is created\n",
    "    swarm_file.write('#Create Time: %s' % datetime.now().strftime(\"%d/%m/%Y %H:%M:%S\"))\n",
    "    swarm_file.write('\\n')\n",
    "    # Insert comment line with SWARM command\n",
    "    swarm_file.write('#swarm -f {swarm_path} -g 8 -t 8 -b 10 --time 00:15:00 --partition quick,norm --logdir {logdir_path}'.format(swarm_path=swarm_path[TARGET],logdir_path=logdir_path[TARGET]))\n",
    "    swarm_file.write('\\n')\n",
    "    for n_iter in range(CPM_NITERATIONS):\n",
    "        out_dir = osp.join(RESOURCES_CPM_DIR,'swarm_outputs','real',ATLAS,SPLIT_MODE,CONFOUNDS,MODEL_TYPE,TARGET)\n",
    "        if not osp.exists(out_dir):\n",
    "            os.makedirs(out_dir)\n",
    "        swarm_file.write(\"export BEHAV_PATH={behav_path} FC_PATH={fc_path} OUT_DIR={output_dir} BEHAVIOR={behavior} NUM_FOLDS={k} NUM_ITER={n_iter} CORR_TYPE={corr_type} E_SUMMARY_METRIC={e_summary_metric} E_THR_P={e_thr_p} SPLIT_MODE={split_mode} VERBOSE=True RANDOMIZE_BEHAVIOR=False; sh {scripts_folder}/S15_cpm_batch.sh\".format(scripts_folder = SCRIPTS_DIR,\n",
    "                           behav_path       = osp.join(RESOURCES_CPM_DIR,'behav_data.csv'),\n",
    "                           fc_path          = osp.join(RESOURCES_CPM_DIR,f'fc_data_{ATLAS}.csv'),\n",
    "                           output_dir       = out_dir,\n",
    "                           behavior         = TARGET,\n",
    "                           k                = 10,\n",
    "                           n_iter           = n_iter + 1,\n",
    "                           corr_type        = CORR_TYPE,\n",
    "                           split_mode       = SPLIT_MODE,\n",
    "                           e_summary_metric = E_SUMMARY_METRIC,\n",
    "                           e_thr_p          = E_THR_P))\n",
    "        swarm_file.write('\\n')\n",
    "    swarm_file.close()"
   ]
  },
  {
   "cell_type": "markdown",
   "id": "272ec13f-f9f5-4aa5-a323-f5c56cbb63c6",
   "metadata": {},
   "source": [
    "***\n",
    "## 2. Swarm jobs for the Null Distributions"
   ]
  },
  {
   "cell_type": "code",
   "execution_count": 14,
   "id": "30c8c72b-b868-4e3d-b332-d3d50daf73a1",
   "metadata": {},
   "outputs": [],
   "source": [
    "for TARGET in targets:    \n",
    "    swarm_path[TARGET]  = osp.join(swarm_folder,'S15_CPM-{atlas}-null-{sm}-{conf}-{mt}-{target}.SWARM.sh'.format(atlas=ATLAS,sm=SPLIT_MODE,conf=CONFOUNDS,mt=MODEL_TYPE, target=TARGET))\n",
    "    logdir_path[TARGET] = osp.join(logs_folder, 'S15_CPM-{atlas}-null-{sm}-{conf}-{mt}-{target}.logs'.format(atlas=ATLAS,sm=SPLIT_MODE,conf=CONFOUNDS,mt=MODEL_TYPE, target=TARGET))"
   ]
  },
  {
   "cell_type": "code",
   "execution_count": 15,
   "id": "fa42d831-9424-4c8c-a288-6b3eb7f2300b",
   "metadata": {},
   "outputs": [
    {
     "name": "stdout",
     "output_type": "stream",
     "text": [
      "++ INFO: New folder for log files created [/data/SFIMJGC_Introspec/2023_fc_introspection/Logs.javiergc/S15/S15_CPM-Schaefer2018_400Parcels_7Networks_AAL2-null-subject_aware-conf_not_residualized-pearson_sum-Positive.logs]\n",
      "++ INFO: New folder for log files created [/data/SFIMJGC_Introspec/2023_fc_introspection/Logs.javiergc/S15/S15_CPM-Schaefer2018_400Parcels_7Networks_AAL2-null-subject_aware-conf_not_residualized-pearson_sum-Negative.logs]\n",
      "++ INFO: New folder for log files created [/data/SFIMJGC_Introspec/2023_fc_introspection/Logs.javiergc/S15/S15_CPM-Schaefer2018_400Parcels_7Networks_AAL2-null-subject_aware-conf_not_residualized-pearson_sum-Future.logs]\n",
      "++ INFO: New folder for log files created [/data/SFIMJGC_Introspec/2023_fc_introspection/Logs.javiergc/S15/S15_CPM-Schaefer2018_400Parcels_7Networks_AAL2-null-subject_aware-conf_not_residualized-pearson_sum-Past.logs]\n",
      "++ INFO: New folder for log files created [/data/SFIMJGC_Introspec/2023_fc_introspection/Logs.javiergc/S15/S15_CPM-Schaefer2018_400Parcels_7Networks_AAL2-null-subject_aware-conf_not_residualized-pearson_sum-Myself.logs]\n",
      "++ INFO: New folder for log files created [/data/SFIMJGC_Introspec/2023_fc_introspection/Logs.javiergc/S15/S15_CPM-Schaefer2018_400Parcels_7Networks_AAL2-null-subject_aware-conf_not_residualized-pearson_sum-People.logs]\n",
      "++ INFO: New folder for log files created [/data/SFIMJGC_Introspec/2023_fc_introspection/Logs.javiergc/S15/S15_CPM-Schaefer2018_400Parcels_7Networks_AAL2-null-subject_aware-conf_not_residualized-pearson_sum-Surroundings.logs]\n",
      "++ INFO: New folder for log files created [/data/SFIMJGC_Introspec/2023_fc_introspection/Logs.javiergc/S15/S15_CPM-Schaefer2018_400Parcels_7Networks_AAL2-null-subject_aware-conf_not_residualized-pearson_sum-Vigilance.logs]\n",
      "++ INFO: New folder for log files created [/data/SFIMJGC_Introspec/2023_fc_introspection/Logs.javiergc/S15/S15_CPM-Schaefer2018_400Parcels_7Networks_AAL2-null-subject_aware-conf_not_residualized-pearson_sum-Images.logs]\n",
      "++ INFO: New folder for log files created [/data/SFIMJGC_Introspec/2023_fc_introspection/Logs.javiergc/S15/S15_CPM-Schaefer2018_400Parcels_7Networks_AAL2-null-subject_aware-conf_not_residualized-pearson_sum-Words.logs]\n",
      "++ INFO: New folder for log files created [/data/SFIMJGC_Introspec/2023_fc_introspection/Logs.javiergc/S15/S15_CPM-Schaefer2018_400Parcels_7Networks_AAL2-null-subject_aware-conf_not_residualized-pearson_sum-Specific.logs]\n",
      "++ INFO: New folder for log files created [/data/SFIMJGC_Introspec/2023_fc_introspection/Logs.javiergc/S15/S15_CPM-Schaefer2018_400Parcels_7Networks_AAL2-null-subject_aware-conf_not_residualized-pearson_sum-Intrusive.logs]\n"
     ]
    }
   ],
   "source": [
    "# create specific folders if needed\n",
    "# ======================================\n",
    "for TARGET in targets:\n",
    "    if not osp.exists(logdir_path[TARGET]):\n",
    "        os.makedirs(logdir_path[TARGET])\n",
    "        print('++ INFO: New folder for log files created [%s]' % logdir_path[TARGET])"
   ]
  },
  {
   "cell_type": "code",
   "execution_count": 16,
   "id": "7bf61670-d5c4-4658-91be-eac3e0a0ae85",
   "metadata": {},
   "outputs": [],
   "source": [
    "for TARGET in targets:\n",
    "    # Open the file\n",
    "    swarm_file = open(swarm_path[TARGET], \"w\")\n",
    "    # Log the date and time when the SWARM file is created\n",
    "    swarm_file.write('#Create Time: %s' % datetime.now().strftime(\"%d/%m/%Y %H:%M:%S\"))\n",
    "    swarm_file.write('\\n')\n",
    "    # Insert comment line with SWARM command\n",
    "    swarm_file.write('#swarm -f {swarm_path} -g 8 -t 8 -b 50 --time 00:04:30 --partition quick,norm --logdir {logdir_path}'.format(swarm_path=swarm_path[TARGET],logdir_path=logdir_path[TARGET]))\n",
    "    swarm_file.write('\\n')\n",
    "    for n_iter in range(CPM_NULL_NITERATIONS):\n",
    "        out_dir = osp.join(RESOURCES_CPM_DIR,'swarm_outputs','null',ATLAS,SPLIT_MODE,CONFOUNDS,MODEL_TYPE,TARGET)\n",
    "        #out_dir = osp.join(RESOURCES_CPM_DIR,SPLIT_MODE,'null_distribution',behavior,CORR_TYPE,E_SUMMARY_METRIC)\n",
    "        if not osp.exists(out_dir):\n",
    "            os.makedirs(out_dir)\n",
    "        swarm_file.write(\"export BEHAV_PATH={behav_path} FC_PATH={fc_path} OUT_DIR={output_dir} BEHAVIOR={behavior} NUM_FOLDS={k} NUM_ITER={n_iter} CORR_TYPE={corr_type} E_SUMMARY_METRIC={e_summary_metric} E_THR_P={e_thr_p} SPLIT_MODE={split_mode} VERBOSE=True RANDOMIZE_BEHAVIOR=True; sh {scripts_folder}/S15_cpm_batch.sh\".format(scripts_folder = SCRIPTS_DIR,\n",
    "                           behav_path       = osp.join(RESOURCES_CPM_DIR,'behav_data.csv'),\n",
    "                           fc_path          = osp.join(RESOURCES_CPM_DIR,f'fc_data_{ATLAS}.csv'),\n",
    "                           output_dir       = out_dir,\n",
    "                           behavior         = TARGET,\n",
    "                           k                = 10,\n",
    "                           n_iter           = n_iter + 1,\n",
    "                           corr_type        = CORR_TYPE,\n",
    "                           split_mode       = SPLIT_MODE,\n",
    "                           e_summary_metric = E_SUMMARY_METRIC,\n",
    "                           e_thr_p          = E_THR_P))\n",
    "        swarm_file.write('\\n')\n",
    "    swarm_file.close()"
   ]
  },
  {
   "cell_type": "markdown",
   "id": "6c47cca8-5fc4-486d-9a53-ab06949c09e8",
   "metadata": {},
   "source": [
    "```bash\n",
    "python ./S15b_GatherSwarmResults.py  -i /data/SFIMJGC_Introspec/2023_fc_introspection/code/fc_introspection/resources/cpm/swarm_outputs/real/Schaefer2018_400Parcels_7Networks_AAL2/subject_aware/conf_not_residualized/pearson_sum/ -o /data/SFIMJGC_Introspec/2023_fc_introspection/code/fc_introspection/resources/cpm/real-Schaefer2018_400Parcels_7Networks_AAL2-subject_aware-conf_not_residualized-pearson_sum.pkl -n 100 -c pearson\n",
    "\n",
    "python ./S15b_GatherSwarmResults.py  -i /data/SFIMJGC_Introspec/2023_fc_introspection/code/fc_introspection/resources/cpm/swarm_outputs/null/Schaefer2018_400Parcels_7Networks_AAL2/subject_aware/conf_not_residualized/pearson_sum/ -o /data/SFIMJGC_Introspec/2023_fc_introspection/code/fc_introspection/resources/cpm/null-Schaefer2018_400Parcels_7Networks_AAL2-subject_aware-conf_not_residualized-pearson_sum.pkl -n 10000 -c pearson\n",
    "```"
   ]
  },
  {
   "cell_type": "code",
   "execution_count": null,
   "id": "d4df04a6-0426-468d-a791-982772719c9d",
   "metadata": {},
   "outputs": [],
   "source": []
  }
 ],
 "metadata": {
  "jupytext": {
   "formats": "ipynb,py:light"
  },
  "kernelspec": {
   "display_name": "FC Introspection (Jan 2023)",
   "language": "python",
   "name": "fc_introspection"
  },
  "language_info": {
   "codemirror_mode": {
    "name": "ipython",
    "version": 3
   },
   "file_extension": ".py",
   "mimetype": "text/x-python",
   "name": "python",
   "nbconvert_exporter": "python",
   "pygments_lexer": "ipython3",
   "version": "3.7.16"
  }
 },
 "nbformat": 4,
 "nbformat_minor": 5
}
